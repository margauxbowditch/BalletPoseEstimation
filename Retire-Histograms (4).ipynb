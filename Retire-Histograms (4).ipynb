{
 "cells": [
  {
   "cell_type": "code",
   "execution_count": 1,
   "metadata": {},
   "outputs": [],
   "source": [
    "import seaborn as sns\n",
    "import pandas as pd\n",
    "import numpy as np\n",
    "import matplotlib.pyplot as plt\n",
    "import os"
   ]
  },
  {
   "cell_type": "code",
   "execution_count": 2,
   "metadata": {},
   "outputs": [
    {
     "name": "stdout",
     "output_type": "stream",
     "text": [
      "    Feature  stdDevDistance  sampleMatchDistance  sampleNonMatchDistance\n",
      "0         0        0.014009             0.005873                0.011915\n",
      "1         1        0.009403             0.005149                0.013919\n",
      "2         2        0.009916             0.004251                0.013952\n",
      "3         3        0.014137             0.006690                0.035704\n",
      "4         4        0.018534             0.007078                0.094288\n",
      "5         5        0.009711             0.004192                0.014291\n",
      "6         6        0.012477             0.007648                0.043146\n",
      "7         7        0.018209             0.012524                0.112809\n",
      "8         8        0.000000             0.000000                0.000000\n",
      "9         9        0.004247             0.003983                0.009186\n",
      "10       10        0.009666             0.007732                0.024217\n",
      "11       11        0.015538             0.012043                0.054141\n",
      "12       12        0.004717             0.007841                0.008681\n",
      "13       13        0.012467             0.013193                0.111435\n",
      "14       14        0.040232             0.015578                0.124700\n",
      "15       15        0.013188             0.003055                0.008896\n",
      "16       16        0.013228             0.005948                0.008868\n",
      "17       17        0.013021             0.000681                0.012489\n",
      "18       18        0.013189             0.001594                0.012979\n",
      "19       19        0.041573             0.025901                0.122840\n",
      "20       20        0.099875             0.020430                0.121900\n",
      "21       21        0.039798             0.018492                0.131113\n",
      "22       22        0.034735             0.012079                0.066302\n",
      "23       23        0.034518             0.008795                0.065322\n",
      "24       24        0.015695             0.009537                0.059407\n",
      "    Feature                 Measure  Distance\n",
      "0         0          stdDevDistance  0.014009\n",
      "1         1          stdDevDistance  0.009403\n",
      "2         2          stdDevDistance  0.009916\n",
      "3         3          stdDevDistance  0.014137\n",
      "4         4          stdDevDistance  0.018534\n",
      "5         5          stdDevDistance  0.009711\n",
      "6         6          stdDevDistance  0.012477\n",
      "7         7          stdDevDistance  0.018209\n",
      "8         8          stdDevDistance  0.000000\n",
      "9         9          stdDevDistance  0.004247\n",
      "10       10          stdDevDistance  0.009666\n",
      "11       11          stdDevDistance  0.015538\n",
      "12       12          stdDevDistance  0.004717\n",
      "13       13          stdDevDistance  0.012467\n",
      "14       14          stdDevDistance  0.040232\n",
      "15       15          stdDevDistance  0.013188\n",
      "16       16          stdDevDistance  0.013228\n",
      "17       17          stdDevDistance  0.013021\n",
      "18       18          stdDevDistance  0.013189\n",
      "19       19          stdDevDistance  0.041573\n",
      "20       20          stdDevDistance  0.099875\n",
      "21       21          stdDevDistance  0.039798\n",
      "22       22          stdDevDistance  0.034735\n",
      "23       23          stdDevDistance  0.034518\n",
      "24       24          stdDevDistance  0.015695\n",
      "25        0     sampleMatchDistance  0.005873\n",
      "26        1     sampleMatchDistance  0.005149\n",
      "27        2     sampleMatchDistance  0.004251\n",
      "28        3     sampleMatchDistance  0.006690\n",
      "29        4     sampleMatchDistance  0.007078\n",
      "..      ...                     ...       ...\n",
      "45       20     sampleMatchDistance  0.020430\n",
      "46       21     sampleMatchDistance  0.018492\n",
      "47       22     sampleMatchDistance  0.012079\n",
      "48       23     sampleMatchDistance  0.008795\n",
      "49       24     sampleMatchDistance  0.009537\n",
      "50        0  sampleNonMatchDistance  0.011915\n",
      "51        1  sampleNonMatchDistance  0.013919\n",
      "52        2  sampleNonMatchDistance  0.013952\n",
      "53        3  sampleNonMatchDistance  0.035704\n",
      "54        4  sampleNonMatchDistance  0.094288\n",
      "55        5  sampleNonMatchDistance  0.014291\n",
      "56        6  sampleNonMatchDistance  0.043146\n",
      "57        7  sampleNonMatchDistance  0.112809\n",
      "58        8  sampleNonMatchDistance  0.000000\n",
      "59        9  sampleNonMatchDistance  0.009186\n",
      "60       10  sampleNonMatchDistance  0.024217\n",
      "61       11  sampleNonMatchDistance  0.054141\n",
      "62       12  sampleNonMatchDistance  0.008681\n",
      "63       13  sampleNonMatchDistance  0.111435\n",
      "64       14  sampleNonMatchDistance  0.124700\n",
      "65       15  sampleNonMatchDistance  0.008896\n",
      "66       16  sampleNonMatchDistance  0.008868\n",
      "67       17  sampleNonMatchDistance  0.012489\n",
      "68       18  sampleNonMatchDistance  0.012979\n",
      "69       19  sampleNonMatchDistance  0.122840\n",
      "70       20  sampleNonMatchDistance  0.121900\n",
      "71       21  sampleNonMatchDistance  0.131113\n",
      "72       22  sampleNonMatchDistance  0.066302\n",
      "73       23  sampleNonMatchDistance  0.065322\n",
      "74       24  sampleNonMatchDistance  0.059407\n",
      "\n",
      "[75 rows x 3 columns]\n"
     ]
    }
   ],
   "source": [
    "poseName = 'Retire'\n",
    "features = [0,1,2,3,4,5,6,7,8,9,10,11,12,13,14,15,16,17,18,19,20,21,22,23,24]\n",
    "stdDevDistance = np.load(os.path.join('Stats', poseName+'DistanceStdDevAdded.npy'))\n",
    "sampleMatchDistance = np.load(os.path.join('Stats', poseName+'DistanceSampleMatch.npy'))\n",
    "sampleNonMatchDistance = np.load(os.path.join('Stats', poseName+'DistanceSampleNonMatch.npy'))\n",
    "df = pd.DataFrame(list(zip(features, stdDevDistance, sampleMatchDistance,sampleNonMatchDistance)), columns =['Feature','stdDevDistance','sampleMatchDistance','sampleNonMatchDistance'])\n",
    "print(df)\n",
    "\n",
    "df2 = pd.melt(df, id_vars = \"Feature\", var_name = \"Measure\", value_name = \"Distance\")\n",
    "print(df2)"
   ]
  },
  {
   "cell_type": "code",
   "execution_count": 3,
   "metadata": {},
   "outputs": [
    {
     "data": {
      "text/plain": [
       "<matplotlib.axes._subplots.AxesSubplot at 0x2df38d633c8>"
      ]
     },
     "execution_count": 3,
     "metadata": {},
     "output_type": "execute_result"
    },
    {
     "data": {
      "image/png": "[encoded data removed]",
      "text/plain": [
       "<Figure size 720x720 with 1 Axes>"
      ]
     },
     "metadata": {
      "needs_background": "light"
     },
     "output_type": "display_data"
    }
   ],
   "source": [
    "fig, ax1 = plt.subplots(figsize=(10, 10))\n",
    "plt.title(\"Histogram of Distance Vectors\")\n",
    "sns.barplot(x=\"Feature\", y=\"Distance\", hue = 'Measure',data=df2,palette=\"pastel\")"
   ]
  },
  {
   "cell_type": "code",
   "execution_count": 4,
   "metadata": {},
   "outputs": [
    {
     "name": "stdout",
     "output_type": "stream",
     "text": [
      "    Feature  Standard Deviation  Sample Match\n",
      "0         0            0.014009      0.005873\n",
      "1         1            0.009403      0.005149\n",
      "2         2            0.009916      0.004251\n",
      "3         3            0.014137      0.006690\n",
      "4         4            0.018534      0.007078\n",
      "5         5            0.009711      0.004192\n",
      "6         6            0.012477      0.007648\n",
      "7         7            0.018209      0.012524\n",
      "8         8            0.000000      0.000000\n",
      "9         9            0.004247      0.003983\n",
      "10       10            0.009666      0.007732\n",
      "11       11            0.015538      0.012043\n",
      "12       12            0.004717      0.007841\n",
      "13       13            0.012467      0.013193\n",
      "14       14            0.040232      0.015578\n",
      "15       15            0.013188      0.003055\n",
      "16       16            0.013228      0.005948\n",
      "17       17            0.013021      0.000681\n",
      "18       18            0.013189      0.001594\n",
      "19       19            0.041573      0.025901\n",
      "20       20            0.099875      0.020430\n",
      "21       21            0.039798      0.018492\n",
      "22       22            0.034735      0.012079\n",
      "23       23            0.034518      0.008795\n",
      "24       24            0.015695      0.009537\n",
      "    Feature             Measure  Distance\n",
      "0         0  Standard Deviation  0.014009\n",
      "1         1  Standard Deviation  0.009403\n",
      "2         2  Standard Deviation  0.009916\n",
      "3         3  Standard Deviation  0.014137\n",
      "4         4  Standard Deviation  0.018534\n",
      "5         5  Standard Deviation  0.009711\n",
      "6         6  Standard Deviation  0.012477\n",
      "7         7  Standard Deviation  0.018209\n",
      "8         8  Standard Deviation  0.000000\n",
      "9         9  Standard Deviation  0.004247\n",
      "10       10  Standard Deviation  0.009666\n",
      "11       11  Standard Deviation  0.015538\n",
      "12       12  Standard Deviation  0.004717\n",
      "13       13  Standard Deviation  0.012467\n",
      "14       14  Standard Deviation  0.040232\n",
      "15       15  Standard Deviation  0.013188\n",
      "16       16  Standard Deviation  0.013228\n",
      "17       17  Standard Deviation  0.013021\n",
      "18       18  Standard Deviation  0.013189\n",
      "19       19  Standard Deviation  0.041573\n",
      "20       20  Standard Deviation  0.099875\n",
      "21       21  Standard Deviation  0.039798\n",
      "22       22  Standard Deviation  0.034735\n",
      "23       23  Standard Deviation  0.034518\n",
      "24       24  Standard Deviation  0.015695\n",
      "25        0        Sample Match  0.005873\n",
      "26        1        Sample Match  0.005149\n",
      "27        2        Sample Match  0.004251\n",
      "28        3        Sample Match  0.006690\n",
      "29        4        Sample Match  0.007078\n",
      "30        5        Sample Match  0.004192\n",
      "31        6        Sample Match  0.007648\n",
      "32        7        Sample Match  0.012524\n",
      "33        8        Sample Match  0.000000\n",
      "34        9        Sample Match  0.003983\n",
      "35       10        Sample Match  0.007732\n",
      "36       11        Sample Match  0.012043\n",
      "37       12        Sample Match  0.007841\n",
      "38       13        Sample Match  0.013193\n",
      "39       14        Sample Match  0.015578\n",
      "40       15        Sample Match  0.003055\n",
      "41       16        Sample Match  0.005948\n",
      "42       17        Sample Match  0.000681\n",
      "43       18        Sample Match  0.001594\n",
      "44       19        Sample Match  0.025901\n",
      "45       20        Sample Match  0.020430\n",
      "46       21        Sample Match  0.018492\n",
      "47       22        Sample Match  0.012079\n",
      "48       23        Sample Match  0.008795\n",
      "49       24        Sample Match  0.009537\n"
     ]
    }
   ],
   "source": [
    "#Distance histogram match:\n",
    "features = [0,1,2,3,4,5,6,7,8,9,10,11,12,13,14,15,16,17,18,19,20,21,22,23,24]\n",
    "stdDevDistance = np.load(os.path.join('Stats', poseName+'DistanceStdDevAdded.npy'))\n",
    "sampleMatchDistance = np.load(os.path.join('Stats', poseName+'DistanceSampleMatch.npy'))\n",
    "#sampleNonMatchDistance = np.load(os.path.join('NumpyArabesque', 'DistanceSampleNonMatch.npy'))\n",
    "df = pd.DataFrame(list(zip(features, stdDevDistance, sampleMatchDistance)), columns =['Feature','Standard Deviation','Sample Match'])\n",
    "print(df)\n",
    "\n",
    "df2 = pd.melt(df, id_vars = \"Feature\", var_name = \"Measure\", value_name = \"Distance\")\n",
    "print(df2)\n",
    "#sns.histplot(x=x,y=y)"
   ]
  },
  {
   "cell_type": "code",
   "execution_count": 5,
   "metadata": {},
   "outputs": [
    {
     "data": {
      "text/plain": [
       "<matplotlib.axes._subplots.AxesSubplot at 0x2df3dcc3dd8>"
      ]
     },
     "execution_count": 5,
     "metadata": {},
     "output_type": "execute_result"
    },
    {
     "data": {
      "image/png": "[encoded data removed]",
      "text/plain": [
       "<Figure size 720x720 with 1 Axes>"
      ]
     },
     "metadata": {
      "needs_background": "light"
     },
     "output_type": "display_data"
    }
   ],
   "source": [
    "fig, ax1 = plt.subplots(figsize=(10, 10))\n",
    "plt.title(\"Distance Histogram of Features for \"+poseName+\" Sample Match\")\n",
    "sns.barplot(x=\"Feature\", y=\"Distance\", hue = 'Measure',data=df2,palette=\"pastel\")"
   ]
  },
  {
   "cell_type": "code",
   "execution_count": 6,
   "metadata": {},
   "outputs": [
    {
     "name": "stdout",
     "output_type": "stream",
     "text": [
      "    Feature  Standard Deviation  Sample Non-Match\n",
      "0         0            0.014009          0.011915\n",
      "1         1            0.009403          0.013919\n",
      "2         2            0.009916          0.013952\n",
      "3         3            0.014137          0.035704\n",
      "4         4            0.018534          0.094288\n",
      "5         5            0.009711          0.014291\n",
      "6         6            0.012477          0.043146\n",
      "7         7            0.018209          0.112809\n",
      "8         8            0.000000          0.000000\n",
      "9         9            0.004247          0.009186\n",
      "10       10            0.009666          0.024217\n",
      "11       11            0.015538          0.054141\n",
      "12       12            0.004717          0.008681\n",
      "13       13            0.012467          0.111435\n",
      "14       14            0.040232          0.124700\n",
      "15       15            0.013188          0.008896\n",
      "16       16            0.013228          0.008868\n",
      "17       17            0.013021          0.012489\n",
      "18       18            0.013189          0.012979\n",
      "19       19            0.041573          0.122840\n",
      "20       20            0.099875          0.121900\n",
      "21       21            0.039798          0.131113\n",
      "22       22            0.034735          0.066302\n",
      "23       23            0.034518          0.065322\n",
      "24       24            0.015695          0.059407\n",
      "    Feature             Measure  Distance\n",
      "0         0  Standard Deviation  0.014009\n",
      "1         1  Standard Deviation  0.009403\n",
      "2         2  Standard Deviation  0.009916\n",
      "3         3  Standard Deviation  0.014137\n",
      "4         4  Standard Deviation  0.018534\n",
      "5         5  Standard Deviation  0.009711\n",
      "6         6  Standard Deviation  0.012477\n",
      "7         7  Standard Deviation  0.018209\n",
      "8         8  Standard Deviation  0.000000\n",
      "9         9  Standard Deviation  0.004247\n",
      "10       10  Standard Deviation  0.009666\n",
      "11       11  Standard Deviation  0.015538\n",
      "12       12  Standard Deviation  0.004717\n",
      "13       13  Standard Deviation  0.012467\n",
      "14       14  Standard Deviation  0.040232\n",
      "15       15  Standard Deviation  0.013188\n",
      "16       16  Standard Deviation  0.013228\n",
      "17       17  Standard Deviation  0.013021\n",
      "18       18  Standard Deviation  0.013189\n",
      "19       19  Standard Deviation  0.041573\n",
      "20       20  Standard Deviation  0.099875\n",
      "21       21  Standard Deviation  0.039798\n",
      "22       22  Standard Deviation  0.034735\n",
      "23       23  Standard Deviation  0.034518\n",
      "24       24  Standard Deviation  0.015695\n",
      "25        0    Sample Non-Match  0.011915\n",
      "26        1    Sample Non-Match  0.013919\n",
      "27        2    Sample Non-Match  0.013952\n",
      "28        3    Sample Non-Match  0.035704\n",
      "29        4    Sample Non-Match  0.094288\n",
      "30        5    Sample Non-Match  0.014291\n",
      "31        6    Sample Non-Match  0.043146\n",
      "32        7    Sample Non-Match  0.112809\n",
      "33        8    Sample Non-Match  0.000000\n",
      "34        9    Sample Non-Match  0.009186\n",
      "35       10    Sample Non-Match  0.024217\n",
      "36       11    Sample Non-Match  0.054141\n",
      "37       12    Sample Non-Match  0.008681\n",
      "38       13    Sample Non-Match  0.111435\n",
      "39       14    Sample Non-Match  0.124700\n",
      "40       15    Sample Non-Match  0.008896\n",
      "41       16    Sample Non-Match  0.008868\n",
      "42       17    Sample Non-Match  0.012489\n",
      "43       18    Sample Non-Match  0.012979\n",
      "44       19    Sample Non-Match  0.122840\n",
      "45       20    Sample Non-Match  0.121900\n",
      "46       21    Sample Non-Match  0.131113\n",
      "47       22    Sample Non-Match  0.066302\n",
      "48       23    Sample Non-Match  0.065322\n",
      "49       24    Sample Non-Match  0.059407\n"
     ]
    }
   ],
   "source": [
    "#Distance histogram non-match:\n",
    "features = [0,1,2,3,4,5,6,7,8,9,10,11,12,13,14,15,16,17,18,19,20,21,22,23,24]\n",
    "stdDevDistance = np.load(os.path.join('Stats', poseName+'DistanceStdDevAdded.npy'))\n",
    "sampleNonMatchDistance = np.load(os.path.join('Stats', poseName+'DistanceSampleNonMatch.npy'))\n",
    "df = pd.DataFrame(list(zip(features, stdDevDistance, sampleNonMatchDistance)), columns =['Feature','Standard Deviation','Sample Non-Match'])\n",
    "print(df)\n",
    "\n",
    "df2 = pd.melt(df, id_vars = \"Feature\", var_name = \"Measure\", value_name = \"Distance\")\n",
    "print(df2)\n",
    "#sns.histplot(x=x,y=y)"
   ]
  },
  {
   "cell_type": "code",
   "execution_count": 7,
   "metadata": {},
   "outputs": [
    {
     "data": {
      "text/plain": [
       "<matplotlib.axes._subplots.AxesSubplot at 0x2df3dc12f60>"
      ]
     },
     "execution_count": 7,
     "metadata": {},
     "output_type": "execute_result"
    },
    {
     "data": {
      "image/png": "[encoded data removed]",
      "text/plain": [
       "<Figure size 720x720 with 1 Axes>"
      ]
     },
     "metadata": {
      "needs_background": "light"
     },
     "output_type": "display_data"
    }
   ],
   "source": [
    "fig, ax1 = plt.subplots(figsize=(10, 10))\n",
    "plt.title(\"Distance Histogram of Features for \"+ poseName+\" Sample Non-Match\")\n",
    "sns.barplot(x=\"Feature\", y=\"Distance\", hue = 'Measure',data=df2,palette=\"pastel\")"
   ]
  },
  {
   "cell_type": "code",
   "execution_count": null,
   "metadata": {},
   "outputs": [],
   "source": []
  }
 ],
 "metadata": {
  "kernelspec": {
   "display_name": "python-gpu-env",
   "language": "python",
   "name": "python-gpu-env"
  },
  "language_info": {
   "codemirror_mode": {
    "name": "ipython",
    "version": 3
   },
   "file_extension": ".py",
   "mimetype": "text/x-python",
   "name": "python",
   "nbconvert_exporter": "python",
   "pygments_lexer": "ipython3",
   "version": "3.6.8"
  }
 },
 "nbformat": 4,
 "nbformat_minor": 2
}
