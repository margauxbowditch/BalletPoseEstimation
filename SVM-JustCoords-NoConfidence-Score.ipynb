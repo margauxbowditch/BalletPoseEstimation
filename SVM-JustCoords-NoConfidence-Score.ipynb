{
 "cells": [
  {
   "cell_type": "code",
   "execution_count": 49,
   "metadata": {},
   "outputs": [],
   "source": [
    "import numpy as np\n",
    "import pandas as pd\n",
    "import matplotlib as plt\n",
    "import os\n",
    "import cv2\n",
    "from sklearn import svm\n",
    "from sklearn.preprocessing import label_binarize\n",
    "from sklearn.multiclass import OneVsRestClassifier\n",
    "from sklearn.metrics import roc_curve, auc\n",
    "from sklearn.model_selection import train_test_split"
   ]
  },
  {
   "cell_type": "code",
   "execution_count": 50,
   "metadata": {},
   "outputs": [
    {
     "name": "stdout",
     "output_type": "stream",
     "text": [
      "[0.579664 0.320268 0.892814 0.557149 0.385559 0.837381 0.540808 0.374829\n",
      " 0.823098 0.499919 0.391041 0.866724 0.463243 0.388366 0.894381 0.575477\n",
      " 0.388358 0.809193 0.628653 0.380164 0.79408  0.691891 0.350359 0.888742\n",
      " 0.5      0.5      0.649912 0.502013 0.502731 0.607399 0.495953 0.649857\n",
      " 0.675133 0.504014 0.769786 0.701661 0.504012 0.497314 0.466601 0.399832\n",
      " 0.486417 0.454518 0.316109 0.483769 0.478665 0.577451 0.306741 0.91797\n",
      " 0.       0.       0.       0.557084 0.320232 0.844579 0.       0.\n",
      " 0.       0.275302 0.478353 0.305748 0.283364 0.486442 0.327499 0.299819\n",
      " 0.481117 0.410191 0.53069  0.780723 0.684363 0.526492 0.786074 0.713486\n",
      " 0.497998 0.786081 0.773293]\n"
     ]
    }
   ],
   "source": [
    "# prepare the data\n",
    "XRootData = np.load(\"DataForSVM/XRootDATA.npy\")\n",
    "Xlist = list(XRootData)\n",
    "print(XRootData[0])"
   ]
  },
  {
   "cell_type": "code",
   "execution_count": 51,
   "metadata": {},
   "outputs": [
    {
     "name": "stdout",
     "output_type": "stream",
     "text": [
      "[0.5796640000000001, 0.32026799999999994, 0.557149, 0.38555899999999993, 0.5408080000000001, 0.3748289999999999, 0.499919, 0.3910409999999999, 0.46324300000000007, 0.38836599999999993, 0.575477, 0.3883579999999999, 0.628653, 0.38016399999999995, 0.691891, 0.3503589999999999, 0.5, 0.5, 0.502013, 0.5027309999999999, 0.495953, 0.6498569999999999, 0.504014, 0.7697859999999999, 0.504012, 0.4973139999999999, 0.399832, 0.4864169999999999, 0.31610900000000003, 0.4837689999999999, 0.577451, 0.30674099999999993, 0.0, 0.0, 0.557084, 0.3202319999999999, 0.0, 0.0, 0.27530200000000005, 0.4783529999999999, 0.283364, 0.48644199999999993, 0.299819, 0.4811169999999999, 0.53069, 0.780723, 0.526492, 0.7860739999999999, 0.49799800000000005, 0.7860809999999999]\n",
      "50\n",
      "6958\n"
     ]
    }
   ],
   "source": [
    "newX = []\n",
    "for idx, val in enumerate(Xlist):\n",
    "    testList = list(Xlist[idx])\n",
    "    del testList[2::3]\n",
    "    newX.append(testList)\n",
    "    \n",
    "print(newX[0])\n",
    "print(len(newX[0]))\n",
    "print(len(newX))\n",
    "\n",
    "np.save(\"DataForSVM/XCoordXYData\", newX) # only the xy values"
   ]
  },
  {
   "cell_type": "code",
   "execution_count": 53,
   "metadata": {},
   "outputs": [
    {
     "name": "stdout",
     "output_type": "stream",
     "text": [
      "50\n",
      "5566\n",
      "1392\n"
     ]
    }
   ],
   "source": [
    "X = np.load(\"DataForSVM/XCoordXYData.npy\")\n",
    "y = np.load(\"DataForSVM/yRootLabels.npy\")\n",
    "\n",
    "X_train, X_test, y_train, y_test = train_test_split(X, y, test_size=0.20, random_state=42)\n",
    "print(len(X_train[0]))\n",
    "print(len(X_train))\n",
    "print(len(X_test))"
   ]
  },
  {
   "cell_type": "code",
   "execution_count": 54,
   "metadata": {},
   "outputs": [
    {
     "name": "stdout",
     "output_type": "stream",
     "text": [
      "[[0.583838 0.35009  0.555159 0.407303 0.536767 0.399059 0.485647 0.41016\n",
      "  0.436605 0.418196 0.577588 0.412712 0.632772 0.39639  0.679726 0.366298\n",
      "  0.5      0.5      0.487692 0.4917   0.397889 0.47817  0.314107 0.48905\n",
      "  0.508192 0.518984 0.487826 0.628019 0.489825 0.739696 0.577657 0.344593\n",
      "  0.       0.       0.559241 0.355541 0.       0.       0.528602 0.756158\n",
      "  0.524487 0.755947 0.485705 0.756131 0.29172  0.489042 0.291664 0.478157\n",
      "  0.305932 0.486277]\n",
      " [0.620432 0.467344 0.583624 0.500006 0.577568 0.48369  0.546894 0.464496\n",
      "  0.516317 0.439957 0.593893 0.510895 0.63471  0.548909 0.679675 0.551843\n",
      "  0.5      0.5      0.501989 0.48096  0.46927  0.404652 0.403985 0.333851\n",
      "  0.499953 0.521813 0.491783 0.633486 0.499996 0.728862 0.618367 0.461867\n",
      "  0.       0.       0.602098 0.461757 0.       0.       0.526498 0.745211\n",
      "  0.522393 0.742498 0.497838 0.745185 0.387593 0.290134 0.387547 0.292971\n",
      "  0.401812 0.325642]]\n",
      "[0 3]\n",
      "[[0.499902 0.30372  0.49998  0.369045 0.469307 0.369089 0.434616 0.407272\n",
      "  0.451057 0.423735 0.530687 0.366461 0.571448 0.393855 0.546848 0.418191\n",
      "  0.5      0.5      0.483568 0.500046 0.495923 0.606284 0.501996 0.698849\n",
      "  0.516436 0.499954 0.514308 0.608873 0.501985 0.709834 0.495851 0.295627\n",
      "  0.504076 0.29559  0.483741 0.306447 0.514327 0.303884 0.499909 0.742459\n",
      "  0.510204 0.742451 0.499947 0.720641 0.499969 0.734362 0.491817 0.728873\n",
      "  0.504084 0.704389]\n",
      " [0.632722 0.483676 0.583743 0.497266 0.581608 0.480813 0.53876  0.440123\n",
      "  0.49993  0.412757 0.593897 0.516377 0.61644  0.568151 0.657224 0.603553\n",
      "  0.5      0.5      0.499997 0.480865 0.469422 0.426445 0.405999 0.333825\n",
      "  0.500074 0.521745 0.497888 0.609    0.5082   0.698841 0.6307   0.475425\n",
      "  0.       0.       0.612346 0.470056 0.       0.       0.538775 0.704478\n",
      "  0.534758 0.704249 0.502116 0.704465 0.3877   0.292929 0.389715 0.298354\n",
      "  0.401996 0.322878]]\n",
      "[6 3]\n",
      "[[1 0 0 0 0 0 0 0]\n",
      " [0 0 0 1 0 0 0 0]]\n",
      "ytestbin: [[0 0 0 0 0 0 1 0]\n",
      " [0 0 0 1 0 0 0 0]]\n"
     ]
    }
   ],
   "source": [
    "y_train_binarized = label_binarize(y_train, classes = [0,1,2,3,4,5,6,7])\n",
    "y_test_binarized = label_binarize(y_test, classes = [0,1,2,3,4,5,6,7])\n",
    "\n",
    "print(X_train[:2])\n",
    "print(y_train[:2])\n",
    "print(X_test[:2])\n",
    "print(y_test[:2])\n",
    "print(y_train_binarized[:2])\n",
    "print(\"ytestbin:\",y_test_binarized[:2])"
   ]
  },
  {
   "cell_type": "code",
   "execution_count": 55,
   "metadata": {},
   "outputs": [
    {
     "name": "stdout",
     "output_type": "stream",
     "text": [
      "Time: 4.668478727340698 seconds\n",
      "[6 3]\n"
     ]
    }
   ],
   "source": [
    "random_state = np.random.RandomState(0)\n",
    "import time\n",
    "start_time = time.time()\n",
    "#Create the classifier\n",
    "clf = OneVsRestClassifier(svm.SVC(kernel='linear', probability = True, random_state = random_state))\n",
    "\n",
    "y_score = clf.fit(X_train, y_train).decision_function(X_test)\n",
    "\n",
    "#Predict the test data\n",
    "y_pred = clf.predict(X_test)\n",
    "\n",
    "print(\"Time: %s seconds\" % (time.time()-start_time))\n",
    "print(y_pred[:2])"
   ]
  },
  {
   "cell_type": "code",
   "execution_count": 56,
   "metadata": {},
   "outputs": [],
   "source": [
    "#save model\n",
    "import pickle\n",
    "filename = 'Models/svm_model_justCoord_features.pkl'\n",
    "pickle.dump(clf, open(filename, 'wb'))"
   ]
  },
  {
   "cell_type": "code",
   "execution_count": 57,
   "metadata": {},
   "outputs": [
    {
     "name": "stdout",
     "output_type": "stream",
     "text": [
      "                 precision    recall  f1-score   support\n",
      "\n",
      "      Arabesque       1.00      0.99      1.00       190\n",
      "      Demi-Plie       0.99      1.00      1.00       184\n",
      "      Developpe       0.99      0.77      0.87       175\n",
      "         Penche       1.00      1.00      1.00       169\n",
      "         Retire       0.99      0.99      0.99       168\n",
      "Second-Position       1.00      1.00      1.00       155\n",
      "       Sus-sous       1.00      1.00      1.00       185\n",
      "          Tendu       0.81      1.00      0.89       166\n",
      "\n",
      "       accuracy                           0.97      1392\n",
      "      macro avg       0.97      0.97      0.97      1392\n",
      "   weighted avg       0.97      0.97      0.97      1392\n",
      "\n"
     ]
    }
   ],
   "source": [
    "#Metrics\n",
    "from sklearn import metrics\n",
    "from sklearn.metrics import confusion_matrix, classification_report\n",
    "\n",
    "print(classification_report(y_test,y_pred, target_names = ['Arabesque','Demi-Plie','Developpe','Penche','Retire','Second-Position','Sus-sous','Tendu']))"
   ]
  },
  {
   "cell_type": "code",
   "execution_count": 58,
   "metadata": {},
   "outputs": [
    {
     "name": "stdout",
     "output_type": "stream",
     "text": [
      "Accuracy: 0.9691091954022989\n"
     ]
    }
   ],
   "source": [
    "print(\"Accuracy:\", metrics.accuracy_score(y_test, y_pred))"
   ]
  },
  {
   "cell_type": "code",
   "execution_count": 59,
   "metadata": {},
   "outputs": [
    {
     "name": "stdout",
     "output_type": "stream",
     "text": [
      "Recall: 0.9692825814536341\n"
     ]
    }
   ],
   "source": [
    "print(\"Recall:\", metrics.recall_score(y_test, y_pred, average = 'macro'))"
   ]
  },
  {
   "cell_type": "code",
   "execution_count": 60,
   "metadata": {},
   "outputs": [
    {
     "name": "stdout",
     "output_type": "stream",
     "text": [
      "Precision: 0.9733848590230594\n"
     ]
    }
   ],
   "source": [
    "print(\"Precision:\", metrics.precision_score(y_test, y_pred, average = 'macro'))"
   ]
  },
  {
   "cell_type": "code",
   "execution_count": 61,
   "metadata": {},
   "outputs": [
    {
     "name": "stdout",
     "output_type": "stream",
     "text": [
      "F1 score: 0.9682920684304511\n"
     ]
    }
   ],
   "source": [
    "print(\"F1 score:\", metrics.f1_score(y_test,y_pred, average = 'macro'))"
   ]
  },
  {
   "cell_type": "code",
   "execution_count": 62,
   "metadata": {},
   "outputs": [
    {
     "name": "stdout",
     "output_type": "stream",
     "text": [
      "EER:0.0036893526863057908\n",
      "Equal Error Rate: 0.0036893526863057908\n"
     ]
    },
    {
     "data": {
      "image/png": "[encoded data removed]",
      "text/plain": [
       "<Figure size 432x288 with 1 Axes>"
      ]
     },
     "metadata": {
      "needs_background": "light"
     },
     "output_type": "display_data"
    }
   ],
   "source": [
    "import matplotlib.pyplot as plt\n",
    "#ROC and AUC\n",
    "fpr = dict()\n",
    "tpr = dict()\n",
    "fnr = dict()\n",
    "eer = dict()\n",
    "totalEER = 0\n",
    "roc_auc = dict()\n",
    "n_classes = 8\n",
    "\n",
    "#print(y_test.shape)\n",
    "#print(y_score.shape)\n",
    "#print(y_test_binarized.shape)\n",
    "#Compute ROC curve for each class:\n",
    "for i in range(n_classes):\n",
    "    fpr[i], tpr[i], _ = roc_curve(y_test_binarized[:, i], y_score[:, i])\n",
    "    fnr[i] = 1 - tpr[i]\n",
    "    eer[i] = fpr[i][np.nanargmin(np.absolute((fnr[i]-fpr[i])))]\n",
    "    totalEER += eer[i]\n",
    "    roc_auc[i] = auc(fpr[i], tpr[i])\n",
    "    \n",
    "averageEER = totalEER/8\n",
    "print(\"EER:\" +averageEER.astype(str))\n",
    "print('Equal Error Rate: {0:0.19f}'''.format(averageEER))\n",
    "    \n",
    "#Compute micro-average ROC curve and ROC area\n",
    "# Compute micro-average ROC curve and ROC area\n",
    "fpr[\"micro\"], tpr[\"micro\"], _ = roc_curve(y_test_binarized.ravel(), y_score.ravel())\n",
    "roc_auc[\"micro\"] = auc(fpr[\"micro\"], tpr[\"micro\"])\n",
    "    \n",
    "#Plot ROC Curves:\n",
    "plt.figure()\n",
    "\n",
    "# plt.plot(fpr[\"micro\"], tpr[\"micro\"],\n",
    "#          label='micro-average ROC curve (area = {0:0.2f})'\n",
    "#                ''.format(roc_auc[\"micro\"]))\n",
    "\n",
    "arr_classes = ['Arabesque','Demi-Plie','Developpe','Penche','Retire','Second-Position','Sus-sous','Tendu']\n",
    "\n",
    "\n",
    "for i in range(n_classes):\n",
    "    plt.plot(fpr[i], tpr[i], label='ROC curve of class {0} (area = {1:0.4f})'\n",
    "                                   ''.format(arr_classes[i], roc_auc[i]))\n",
    "\n",
    "plt.plot([0, 1], [0, 1], 'k--')\n",
    "plt.xlim([0.0, 1.0])\n",
    "plt.ylim([0.0, 1.05])\n",
    "plt.xlabel('False Positive Rate')\n",
    "plt.ylabel('True Positive Rate')\n",
    "plt.title('ROC Curve for just xy Coordinates + SVM')\n",
    "plt.legend(loc=\"lower right\")\n",
    "plt.show()"
   ]
  },
  {
   "cell_type": "code",
   "execution_count": 63,
   "metadata": {},
   "outputs": [
    {
     "name": "stdout",
     "output_type": "stream",
     "text": [
      "ROC AUC Score: 0.9986265585279743\n"
     ]
    }
   ],
   "source": [
    "from sklearn.metrics import roc_auc_score\n",
    "print(\"ROC AUC Score:\", roc_auc_score(y_test_binarized,y_score, average = 'macro'))"
   ]
  },
  {
   "cell_type": "code",
   "execution_count": 64,
   "metadata": {},
   "outputs": [
    {
     "name": "stdout",
     "output_type": "stream",
     "text": [
      "[[189   0   0   0   1   0   0   0]\n",
      " [  0 184   0   0   0   0   0   0]\n",
      " [  0   0 135   0   0   0   0  40]\n",
      " [  0   0   0 169   0   0   0   0]\n",
      " [  0   1   1   0 166   0   0   0]\n",
      " [  0   0   0   0   0 155   0   0]\n",
      " [  0   0   0   0   0   0 185   0]\n",
      " [  0   0   0   0   0   0   0 166]]\n"
     ]
    }
   ],
   "source": [
    "#confusion matrix\n",
    "print(confusion_matrix(y_test,y_pred))"
   ]
  },
  {
   "cell_type": "code",
   "execution_count": 65,
   "metadata": {},
   "outputs": [
    {
     "data": {
      "image/png": "[encoded data removed]",
      "text/plain": [
       "<Figure size 432x288 with 2 Axes>"
      ]
     },
     "metadata": {
      "needs_background": "light"
     },
     "output_type": "display_data"
    }
   ],
   "source": [
    "#Plot a confusion matrix\n",
    "from sklearn.utils.multiclass import unique_labels\n",
    "cm = confusion_matrix(y_test,y_pred)\n",
    "cmap = plt.cm.Blues\n",
    "classes = ['Arabesque','Demi-Plie','Developpe','Penche','Retire','Second-Position','Sus-sous','Tendu']\n",
    "\n",
    "fig, ax = plt.subplots()\n",
    "im = ax.imshow(cm, interpolation='nearest', cmap=cmap)\n",
    "ax.figure.colorbar(im, ax=ax)\n",
    "# We want to show all ticks...\n",
    "ax.set(xticks=np.arange(cm.shape[1]), yticks=np.arange(cm.shape[0]),\n",
    "           # ... and label them with the respective list entries\n",
    "           xticklabels=classes, yticklabels=classes,\n",
    "           title='Raw xy Coordinate Features + SVM',\n",
    "           ylabel='True label',\n",
    "           xlabel='Predicted label')\n",
    "\n",
    "# Rotate the tick labels and set their alignment.\n",
    "plt.setp(ax.get_xticklabels(), rotation=45, ha=\"right\", rotation_mode=\"anchor\")\n",
    "# Loop over data dimensions and create text annotations.\n",
    "fmt = 'd'\n",
    "thresh = cm.max() / 2.\n",
    "for i in range(cm.shape[0]):\n",
    "    for j in range(cm.shape[1]):\n",
    "        ax.text(j, i, format(cm[i, j], fmt),\n",
    "                ha=\"center\", va=\"center\",\n",
    "                color=\"white\" if cm[i, j] > thresh else \"black\")\n",
    "fig.tight_layout()\n",
    "plt.show()\n"
   ]
  },
  {
   "cell_type": "code",
   "execution_count": 66,
   "metadata": {},
   "outputs": [
    {
     "name": "stdout",
     "output_type": "stream",
     "text": [
      "[[189   0   0   0   1   0   0   0]\n",
      " [  0 184   0   0   0   0   0   0]\n",
      " [  0   0 135   0   0   0   0  40]\n",
      " [  0   0   0 169   0   0   0   0]\n",
      " [  0   1   1   0 166   0   0   0]\n",
      " [  0   0   0   0   0 155   0   0]\n",
      " [  0   0   0   0   0   0 185   0]\n",
      " [  0   0   0   0   0   0   0 166]]\n",
      "FP: [ 0  1  1  0  1  0  0 40]\n",
      "FN: [ 1  0 40  0  2  0  0  0]\n",
      "TP: [189 184 135 169 166 155 185 166]\n",
      "TN: [ 0  1  1  0  1  0  0 40]\n"
     ]
    }
   ],
   "source": [
    "# get the FP, FN, TP, TN values\n",
    "conf_matrix = confusion_matrix(y_test,y_pred)\n",
    "print(conf_matrix)\n",
    "FP = conf_matrix.sum(axis=0) - np.diag(conf_matrix)\n",
    "print(\"FP:\", FP)\n",
    "FN = conf_matrix.sum(axis=1) - np.diag(conf_matrix)\n",
    "print(\"FN:\", FN)\n",
    "TP = np.diag(conf_matrix)\n",
    "print(\"TP:\", TP)\n",
    "TN = conf_matrix.sum() - (FP + FN + TP)\n",
    "print(\"TN:\", FP)"
   ]
  },
  {
   "cell_type": "code",
   "execution_count": 67,
   "metadata": {},
   "outputs": [
    {
     "name": "stdout",
     "output_type": "stream",
     "text": [
      "My FAR: 0.004412972085385878\n"
     ]
    }
   ],
   "source": [
    "FAR = (sum(FP))/(sum(FP)+sum(TN))\n",
    "print(\"My FAR:\", FAR)"
   ]
  },
  {
   "cell_type": "code",
   "execution_count": 68,
   "metadata": {},
   "outputs": [
    {
     "name": "stdout",
     "output_type": "stream",
     "text": [
      "TotalFAR: 0.035092928126722815\n",
      "Computed Average FAR: 0.004386616015840352\n"
     ]
    }
   ],
   "source": [
    "totalFAR = 0\n",
    "for x in range(8):\n",
    "    totalFAR += (FP[x])/(FP[x]+TN[x])\n",
    "print(\"TotalFAR:\", totalFAR)\n",
    "avg = totalFAR/8\n",
    "print(\"Computed Average FAR:\", avg)"
   ]
  },
  {
   "cell_type": "code",
   "execution_count": 69,
   "metadata": {},
   "outputs": [
    {
     "name": "stdout",
     "output_type": "stream",
     "text": [
      "My FRR: 0.03089080459770115\n"
     ]
    }
   ],
   "source": [
    "FRR = (sum(FN))/(sum(FN)+sum(TP))\n",
    "print(\"My FRR:\", FRR)"
   ]
  },
  {
   "cell_type": "code",
   "execution_count": 70,
   "metadata": {},
   "outputs": [
    {
     "name": "stdout",
     "output_type": "stream",
     "text": [
      "TotalFRR: 0.2457393483709273\n",
      "Computed Average FRR: 0.030717418546365914\n"
     ]
    }
   ],
   "source": [
    "totalFRR = 0\n",
    "for x in range(8):\n",
    "    totalFRR += (FN[x])/(FN[x]+TP[x])\n",
    "print(\"TotalFRR:\", totalFRR)\n",
    "avg = totalFRR/8\n",
    "print(\"Computed Average FRR:\", avg)"
   ]
  },
  {
   "cell_type": "code",
   "execution_count": 71,
   "metadata": {},
   "outputs": [
    {
     "name": "stdout",
     "output_type": "stream",
     "text": [
      "TotalSpecificity: 7.964907071873277\n",
      "Computed Average Specificity: 0.9956133839841597\n"
     ]
    }
   ],
   "source": [
    "#Specificity: TN/(TN+FP)\n",
    "totalSpecificity = 0\n",
    "for x in range(8):\n",
    "    totalSpecificity += (TN[x])/(TN[x]+FP[x])\n",
    "print(\"TotalSpecificity:\", totalSpecificity)\n",
    "avg = totalSpecificity/8\n",
    "print(\"Computed Average Specificity:\", avg)"
   ]
  },
  {
   "cell_type": "code",
   "execution_count": 72,
   "metadata": {},
   "outputs": [
    {
     "name": "stdout",
     "output_type": "stream",
     "text": [
      "[[-2.08440167 -1.23233159 -2.46079749 -1.57944729 -1.25055542 -1.369452\n",
      "   0.7006088  -1.84575683]]\n"
     ]
    }
   ],
   "source": [
    "#y_score = clf.predict_proba(X_test)\n",
    "print(y_score[:1])"
   ]
  },
  {
   "cell_type": "code",
   "execution_count": null,
   "metadata": {},
   "outputs": [],
   "source": []
  }
 ],
 "metadata": {
  "kernelspec": {
   "display_name": "python-gpu-env",
   "language": "python",
   "name": "python-gpu-env"
  },
  "language_info": {
   "codemirror_mode": {
    "name": "ipython",
    "version": 3
   },
   "file_extension": ".py",
   "mimetype": "text/x-python",
   "name": "python",
   "nbconvert_exporter": "python",
   "pygments_lexer": "ipython3",
   "version": "3.6.8"
  }
 },
 "nbformat": 4,
 "nbformat_minor": 2
}
