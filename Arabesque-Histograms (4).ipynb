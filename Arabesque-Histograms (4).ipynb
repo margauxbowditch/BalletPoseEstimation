{
 "cells": [
  {
   "cell_type": "code",
   "execution_count": 6,
   "metadata": {},
   "outputs": [],
   "source": [
    "import seaborn as sns\n",
    "import pandas as pd\n",
    "import numpy as np\n",
    "import matplotlib.pyplot as plt\n",
    "import os"
   ]
  },
  {
   "cell_type": "code",
   "execution_count": 7,
   "metadata": {},
   "outputs": [
    {
     "name": "stdout",
     "output_type": "stream",
     "text": [
      "    Feature  stdDevDistance  sampleMatchDistance  sampleNonMatchDistance\n",
      "0         0        0.048222             0.015540                0.081440\n",
      "1         1        0.047901             0.009779                0.057280\n",
      "2         2        0.047266             0.013771                0.069973\n",
      "3         3        0.049104             0.010738                0.070393\n",
      "4         4        0.052435             0.021259                0.105933\n",
      "5         5        0.048190             0.009671                0.046133\n",
      "6         6        0.050940             0.012549                0.090232\n",
      "7         7        0.053710             0.018328                0.192973\n",
      "8         8        0.041475             0.002438                0.002438\n",
      "9         9        0.090789             0.006489                0.019763\n",
      "10       10        0.114328             0.039491                0.091677\n",
      "11       11        0.163730             0.088087                0.186706\n",
      "12       12        0.055354             0.006044                0.015388\n",
      "13       13        0.071986             0.025123                0.068552\n",
      "14       14        0.108423             0.047275                0.052830\n",
      "15       15        0.048165             0.017084                0.079811\n",
      "16       16        0.058205             0.005238                0.578387\n",
      "17       17        0.048609             0.012563                0.073101\n",
      "18       18        0.000000             0.000000                0.593506\n",
      "19       19        0.138152             0.053542                0.038455\n",
      "20       20        0.192549             0.072950                0.049836\n",
      "21       21        0.153306             0.062911                0.055404\n",
      "22       22        0.182036             0.099147                0.191909\n",
      "23       23        0.186360             0.095584                0.190520\n",
      "24       24        0.170635             0.088646                0.196143\n",
      "    Feature                 Measure  Distance\n",
      "0         0          stdDevDistance  0.048222\n",
      "1         1          stdDevDistance  0.047901\n",
      "2         2          stdDevDistance  0.047266\n",
      "3         3          stdDevDistance  0.049104\n",
      "4         4          stdDevDistance  0.052435\n",
      "5         5          stdDevDistance  0.048190\n",
      "6         6          stdDevDistance  0.050940\n",
      "7         7          stdDevDistance  0.053710\n",
      "8         8          stdDevDistance  0.041475\n",
      "9         9          stdDevDistance  0.090789\n",
      "10       10          stdDevDistance  0.114328\n",
      "11       11          stdDevDistance  0.163730\n",
      "12       12          stdDevDistance  0.055354\n",
      "13       13          stdDevDistance  0.071986\n",
      "14       14          stdDevDistance  0.108423\n",
      "15       15          stdDevDistance  0.048165\n",
      "16       16          stdDevDistance  0.058205\n",
      "17       17          stdDevDistance  0.048609\n",
      "18       18          stdDevDistance  0.000000\n",
      "19       19          stdDevDistance  0.138152\n",
      "20       20          stdDevDistance  0.192549\n",
      "21       21          stdDevDistance  0.153306\n",
      "22       22          stdDevDistance  0.182036\n",
      "23       23          stdDevDistance  0.186360\n",
      "24       24          stdDevDistance  0.170635\n",
      "25        0     sampleMatchDistance  0.015540\n",
      "26        1     sampleMatchDistance  0.009779\n",
      "27        2     sampleMatchDistance  0.013771\n",
      "28        3     sampleMatchDistance  0.010738\n",
      "29        4     sampleMatchDistance  0.021259\n",
      "..      ...                     ...       ...\n",
      "45       20     sampleMatchDistance  0.072950\n",
      "46       21     sampleMatchDistance  0.062911\n",
      "47       22     sampleMatchDistance  0.099147\n",
      "48       23     sampleMatchDistance  0.095584\n",
      "49       24     sampleMatchDistance  0.088646\n",
      "50        0  sampleNonMatchDistance  0.081440\n",
      "51        1  sampleNonMatchDistance  0.057280\n",
      "52        2  sampleNonMatchDistance  0.069973\n",
      "53        3  sampleNonMatchDistance  0.070393\n",
      "54        4  sampleNonMatchDistance  0.105933\n",
      "55        5  sampleNonMatchDistance  0.046133\n",
      "56        6  sampleNonMatchDistance  0.090232\n",
      "57        7  sampleNonMatchDistance  0.192973\n",
      "58        8  sampleNonMatchDistance  0.002438\n",
      "59        9  sampleNonMatchDistance  0.019763\n",
      "60       10  sampleNonMatchDistance  0.091677\n",
      "61       11  sampleNonMatchDistance  0.186706\n",
      "62       12  sampleNonMatchDistance  0.015388\n",
      "63       13  sampleNonMatchDistance  0.068552\n",
      "64       14  sampleNonMatchDistance  0.052830\n",
      "65       15  sampleNonMatchDistance  0.079811\n",
      "66       16  sampleNonMatchDistance  0.578387\n",
      "67       17  sampleNonMatchDistance  0.073101\n",
      "68       18  sampleNonMatchDistance  0.593506\n",
      "69       19  sampleNonMatchDistance  0.038455\n",
      "70       20  sampleNonMatchDistance  0.049836\n",
      "71       21  sampleNonMatchDistance  0.055404\n",
      "72       22  sampleNonMatchDistance  0.191909\n",
      "73       23  sampleNonMatchDistance  0.190520\n",
      "74       24  sampleNonMatchDistance  0.196143\n",
      "\n",
      "[75 rows x 3 columns]\n"
     ]
    }
   ],
   "source": [
    "features = [0,1,2,3,4,5,6,7,8,9,10,11,12,13,14,15,16,17,18,19,20,21,22,23,24]\n",
    "stdDevDistance = np.load(os.path.join('Stats', 'ArabesqueDistanceStdDevAdded.npy'))\n",
    "sampleMatchDistance = np.load(os.path.join('Stats', 'ArabesqueDistanceSampleMatch.npy'))\n",
    "sampleNonMatchDistance = np.load(os.path.join('Stats', 'ArabesqueDistanceSampleNonMatch.npy'))\n",
    "df = pd.DataFrame(list(zip(features, stdDevDistance, sampleMatchDistance,sampleNonMatchDistance)), columns =['Feature','stdDevDistance','sampleMatchDistance','sampleNonMatchDistance'])\n",
    "print(df)\n",
    "\n",
    "df2 = pd.melt(df, id_vars = \"Feature\", var_name = \"Measure\", value_name = \"Distance\")\n",
    "print(df2)"
   ]
  },
  {
   "cell_type": "code",
   "execution_count": 8,
   "metadata": {},
   "outputs": [
    {
     "data": {
      "text/plain": [
       "<matplotlib.axes._subplots.AxesSubplot at 0x1ee966840b8>"
      ]
     },
     "execution_count": 8,
     "metadata": {},
     "output_type": "execute_result"
    },
    {
     "data": {
      "image/png": "[encoded data removed]",
      "text/plain": [
       "<Figure size 720x720 with 1 Axes>"
      ]
     },
     "metadata": {
      "needs_background": "light"
     },
     "output_type": "display_data"
    }
   ],
   "source": [
    "fig, ax1 = plt.subplots(figsize=(10, 10))\n",
    "plt.title(\"Histogram of Distance Vectors\")\n",
    "sns.barplot(x=\"Feature\", y=\"Distance\", hue = 'Measure',data=df2,palette=\"pastel\")"
   ]
  },
  {
   "cell_type": "code",
   "execution_count": 9,
   "metadata": {},
   "outputs": [
    {
     "name": "stdout",
     "output_type": "stream",
     "text": [
      "    Feature  Standard Deviation  Sample Match\n",
      "0         0            0.048222      0.015540\n",
      "1         1            0.047901      0.009779\n",
      "2         2            0.047266      0.013771\n",
      "3         3            0.049104      0.010738\n",
      "4         4            0.052435      0.021259\n",
      "5         5            0.048190      0.009671\n",
      "6         6            0.050940      0.012549\n",
      "7         7            0.053710      0.018328\n",
      "8         8            0.041475      0.002438\n",
      "9         9            0.090789      0.006489\n",
      "10       10            0.114328      0.039491\n",
      "11       11            0.163730      0.088087\n",
      "12       12            0.055354      0.006044\n",
      "13       13            0.071986      0.025123\n",
      "14       14            0.108423      0.047275\n",
      "15       15            0.048165      0.017084\n",
      "16       16            0.058205      0.005238\n",
      "17       17            0.048609      0.012563\n",
      "18       18            0.000000      0.000000\n",
      "19       19            0.138152      0.053542\n",
      "20       20            0.192549      0.072950\n",
      "21       21            0.153306      0.062911\n",
      "22       22            0.182036      0.099147\n",
      "23       23            0.186360      0.095584\n",
      "24       24            0.170635      0.088646\n",
      "    Feature             Measure  Distance\n",
      "0         0  Standard Deviation  0.048222\n",
      "1         1  Standard Deviation  0.047901\n",
      "2         2  Standard Deviation  0.047266\n",
      "3         3  Standard Deviation  0.049104\n",
      "4         4  Standard Deviation  0.052435\n",
      "5         5  Standard Deviation  0.048190\n",
      "6         6  Standard Deviation  0.050940\n",
      "7         7  Standard Deviation  0.053710\n",
      "8         8  Standard Deviation  0.041475\n",
      "9         9  Standard Deviation  0.090789\n",
      "10       10  Standard Deviation  0.114328\n",
      "11       11  Standard Deviation  0.163730\n",
      "12       12  Standard Deviation  0.055354\n",
      "13       13  Standard Deviation  0.071986\n",
      "14       14  Standard Deviation  0.108423\n",
      "15       15  Standard Deviation  0.048165\n",
      "16       16  Standard Deviation  0.058205\n",
      "17       17  Standard Deviation  0.048609\n",
      "18       18  Standard Deviation  0.000000\n",
      "19       19  Standard Deviation  0.138152\n",
      "20       20  Standard Deviation  0.192549\n",
      "21       21  Standard Deviation  0.153306\n",
      "22       22  Standard Deviation  0.182036\n",
      "23       23  Standard Deviation  0.186360\n",
      "24       24  Standard Deviation  0.170635\n",
      "25        0        Sample Match  0.015540\n",
      "26        1        Sample Match  0.009779\n",
      "27        2        Sample Match  0.013771\n",
      "28        3        Sample Match  0.010738\n",
      "29        4        Sample Match  0.021259\n",
      "30        5        Sample Match  0.009671\n",
      "31        6        Sample Match  0.012549\n",
      "32        7        Sample Match  0.018328\n",
      "33        8        Sample Match  0.002438\n",
      "34        9        Sample Match  0.006489\n",
      "35       10        Sample Match  0.039491\n",
      "36       11        Sample Match  0.088087\n",
      "37       12        Sample Match  0.006044\n",
      "38       13        Sample Match  0.025123\n",
      "39       14        Sample Match  0.047275\n",
      "40       15        Sample Match  0.017084\n",
      "41       16        Sample Match  0.005238\n",
      "42       17        Sample Match  0.012563\n",
      "43       18        Sample Match  0.000000\n",
      "44       19        Sample Match  0.053542\n",
      "45       20        Sample Match  0.072950\n",
      "46       21        Sample Match  0.062911\n",
      "47       22        Sample Match  0.099147\n",
      "48       23        Sample Match  0.095584\n",
      "49       24        Sample Match  0.088646\n"
     ]
    }
   ],
   "source": [
    "#Distance histogram match:\n",
    "features = [0,1,2,3,4,5,6,7,8,9,10,11,12,13,14,15,16,17,18,19,20,21,22,23,24]\n",
    "stdDevDistance = np.load(os.path.join('Stats', 'ArabesqueDistanceStdDevAdded.npy'))\n",
    "sampleMatchDistance = np.load(os.path.join('Stats', 'ArabesqueDistanceSampleMatch.npy'))\n",
    "#sampleNonMatchDistance = np.load(os.path.join('NumpyArabesque', 'DistanceSampleNonMatch.npy'))\n",
    "df = pd.DataFrame(list(zip(features, stdDevDistance, sampleMatchDistance)), columns =['Feature','Standard Deviation','Sample Match'])\n",
    "print(df)\n",
    "\n",
    "df2 = pd.melt(df, id_vars = \"Feature\", var_name = \"Measure\", value_name = \"Distance\")\n",
    "print(df2)\n",
    "#sns.histplot(x=x,y=y)"
   ]
  },
  {
   "cell_type": "code",
   "execution_count": 10,
   "metadata": {},
   "outputs": [
    {
     "data": {
      "text/plain": [
       "<matplotlib.axes._subplots.AxesSubplot at 0x1ee96e40908>"
      ]
     },
     "execution_count": 10,
     "metadata": {},
     "output_type": "execute_result"
    },
    {
     "data": {
      "image/png": "[encoded data removed]",
      "text/plain": [
       "<Figure size 720x720 with 1 Axes>"
      ]
     },
     "metadata": {
      "needs_background": "light"
     },
     "output_type": "display_data"
    }
   ],
   "source": [
    "fig, ax1 = plt.subplots(figsize=(10, 10))\n",
    "plt.title(\"Distance Histogram of Features for Arabesque Sample Match\")\n",
    "sns.barplot(x=\"Feature\", y=\"Distance\", hue = 'Measure',data=df2,palette=\"pastel\")"
   ]
  },
  {
   "cell_type": "code",
   "execution_count": 11,
   "metadata": {},
   "outputs": [
    {
     "name": "stdout",
     "output_type": "stream",
     "text": [
      "    Feature  Standard Deviation  Sample Non-Match\n",
      "0         0            0.048222          0.081440\n",
      "1         1            0.047901          0.057280\n",
      "2         2            0.047266          0.069973\n",
      "3         3            0.049104          0.070393\n",
      "4         4            0.052435          0.105933\n",
      "5         5            0.048190          0.046133\n",
      "6         6            0.050940          0.090232\n",
      "7         7            0.053710          0.192973\n",
      "8         8            0.041475          0.002438\n",
      "9         9            0.090789          0.019763\n",
      "10       10            0.114328          0.091677\n",
      "11       11            0.163730          0.186706\n",
      "12       12            0.055354          0.015388\n",
      "13       13            0.071986          0.068552\n",
      "14       14            0.108423          0.052830\n",
      "15       15            0.048165          0.079811\n",
      "16       16            0.058205          0.578387\n",
      "17       17            0.048609          0.073101\n",
      "18       18            0.000000          0.593506\n",
      "19       19            0.138152          0.038455\n",
      "20       20            0.192549          0.049836\n",
      "21       21            0.153306          0.055404\n",
      "22       22            0.182036          0.191909\n",
      "23       23            0.186360          0.190520\n",
      "24       24            0.170635          0.196143\n",
      "    Feature             Measure  Distance\n",
      "0         0  Standard Deviation  0.048222\n",
      "1         1  Standard Deviation  0.047901\n",
      "2         2  Standard Deviation  0.047266\n",
      "3         3  Standard Deviation  0.049104\n",
      "4         4  Standard Deviation  0.052435\n",
      "5         5  Standard Deviation  0.048190\n",
      "6         6  Standard Deviation  0.050940\n",
      "7         7  Standard Deviation  0.053710\n",
      "8         8  Standard Deviation  0.041475\n",
      "9         9  Standard Deviation  0.090789\n",
      "10       10  Standard Deviation  0.114328\n",
      "11       11  Standard Deviation  0.163730\n",
      "12       12  Standard Deviation  0.055354\n",
      "13       13  Standard Deviation  0.071986\n",
      "14       14  Standard Deviation  0.108423\n",
      "15       15  Standard Deviation  0.048165\n",
      "16       16  Standard Deviation  0.058205\n",
      "17       17  Standard Deviation  0.048609\n",
      "18       18  Standard Deviation  0.000000\n",
      "19       19  Standard Deviation  0.138152\n",
      "20       20  Standard Deviation  0.192549\n",
      "21       21  Standard Deviation  0.153306\n",
      "22       22  Standard Deviation  0.182036\n",
      "23       23  Standard Deviation  0.186360\n",
      "24       24  Standard Deviation  0.170635\n",
      "25        0    Sample Non-Match  0.081440\n",
      "26        1    Sample Non-Match  0.057280\n",
      "27        2    Sample Non-Match  0.069973\n",
      "28        3    Sample Non-Match  0.070393\n",
      "29        4    Sample Non-Match  0.105933\n",
      "30        5    Sample Non-Match  0.046133\n",
      "31        6    Sample Non-Match  0.090232\n",
      "32        7    Sample Non-Match  0.192973\n",
      "33        8    Sample Non-Match  0.002438\n",
      "34        9    Sample Non-Match  0.019763\n",
      "35       10    Sample Non-Match  0.091677\n",
      "36       11    Sample Non-Match  0.186706\n",
      "37       12    Sample Non-Match  0.015388\n",
      "38       13    Sample Non-Match  0.068552\n",
      "39       14    Sample Non-Match  0.052830\n",
      "40       15    Sample Non-Match  0.079811\n",
      "41       16    Sample Non-Match  0.578387\n",
      "42       17    Sample Non-Match  0.073101\n",
      "43       18    Sample Non-Match  0.593506\n",
      "44       19    Sample Non-Match  0.038455\n",
      "45       20    Sample Non-Match  0.049836\n",
      "46       21    Sample Non-Match  0.055404\n",
      "47       22    Sample Non-Match  0.191909\n",
      "48       23    Sample Non-Match  0.190520\n",
      "49       24    Sample Non-Match  0.196143\n"
     ]
    }
   ],
   "source": [
    "#Distance histogram non-match:\n",
    "features = [0,1,2,3,4,5,6,7,8,9,10,11,12,13,14,15,16,17,18,19,20,21,22,23,24]\n",
    "stdDevDistance = np.load(os.path.join('Stats', 'ArabesqueDistanceStdDevAdded.npy'))\n",
    "sampleNonMatchDistance = np.load(os.path.join('Stats', 'ArabesqueDistanceSampleNonMatch.npy'))\n",
    "df = pd.DataFrame(list(zip(features, stdDevDistance, sampleNonMatchDistance)), columns =['Feature','Standard Deviation','Sample Non-Match'])\n",
    "print(df)\n",
    "\n",
    "df2 = pd.melt(df, id_vars = \"Feature\", var_name = \"Measure\", value_name = \"Distance\")\n",
    "print(df2)\n",
    "#sns.histplot(x=x,y=y)"
   ]
  },
  {
   "cell_type": "code",
   "execution_count": 12,
   "metadata": {},
   "outputs": [
    {
     "data": {
      "text/plain": [
       "<matplotlib.axes._subplots.AxesSubplot at 0x1ee971aefd0>"
      ]
     },
     "execution_count": 12,
     "metadata": {},
     "output_type": "execute_result"
    },
    {
     "data": {
      "image/png": "[encoded data removed]",
      "text/plain": [
       "<Figure size 720x720 with 1 Axes>"
      ]
     },
     "metadata": {
      "needs_background": "light"
     },
     "output_type": "display_data"
    }
   ],
   "source": [
    "fig, ax1 = plt.subplots(figsize=(10, 10))\n",
    "plt.title(\"Distance Histogram of Features for Arabesque Sample Non-Match\")\n",
    "sns.barplot(x=\"Feature\", y=\"Distance\", hue = 'Measure',data=df2,palette=\"pastel\")"
   ]
  },
  {
   "cell_type": "code",
   "execution_count": null,
   "metadata": {},
   "outputs": [],
   "source": []
  }
 ],
 "metadata": {
  "kernelspec": {
   "display_name": "python-gpu-env",
   "language": "python",
   "name": "python-gpu-env"
  },
  "language_info": {
   "codemirror_mode": {
    "name": "ipython",
    "version": 3
   },
   "file_extension": ".py",
   "mimetype": "text/x-python",
   "name": "python",
   "nbconvert_exporter": "python",
   "pygments_lexer": "ipython3",
   "version": "3.6.8"
  }
 },
 "nbformat": 4,
 "nbformat_minor": 2
}
