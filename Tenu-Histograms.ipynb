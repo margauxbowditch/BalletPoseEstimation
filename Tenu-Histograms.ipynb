{
 "cells": [
  {
   "cell_type": "code",
   "execution_count": 1,
   "metadata": {},
   "outputs": [],
   "source": [
    "import seaborn as sns\n",
    "import pandas as pd\n",
    "import numpy as np\n",
    "import matplotlib.pyplot as plt\n",
    "import os"
   ]
  },
  {
   "cell_type": "code",
   "execution_count": 2,
   "metadata": {},
   "outputs": [
    {
     "name": "stdout",
     "output_type": "stream",
     "text": [
      "    Feature  stdDevDistance  sampleMatchDistance  sampleNonMatchDistance\n",
      "0         0        0.013106             0.008656                0.079733\n",
      "1         1        0.008532             0.009978                0.060211\n",
      "2         2        0.009295             0.008665                0.069992\n",
      "3         3        0.014093             0.009881                0.125574\n",
      "4         4        0.017898             0.011894                0.200390\n",
      "5         5        0.009879             0.007628                0.053691\n",
      "6         6        0.012668             0.014799                0.053588\n",
      "7         7        0.020270             0.015044                0.072410\n",
      "8         8        0.000000             0.000000                0.000000\n",
      "9         9        0.002791             0.003700                0.013640\n",
      "10       10        0.008972             0.006552                0.166787\n",
      "11       11        0.013958             0.006732                0.313242\n",
      "12       12        0.003035             0.003922                0.014502\n",
      "13       13        0.010415             0.011537                0.035233\n",
      "14       14        0.017521             0.003884                0.061384\n",
      "15       15        0.012352             0.006498                0.076393\n",
      "16       16        0.012076             0.008440                0.587473\n",
      "17       17        0.012055             0.003653                0.068189\n",
      "18       18        0.146892             0.040635                0.563383\n",
      "19       19        0.021007             0.012513                0.091768\n",
      "20       20        0.020743             0.013463                0.083234\n",
      "21       21        0.018211             0.004977                0.062746\n",
      "22       22        0.015285             0.015205                0.323816\n",
      "23       23        0.015087             0.012697                0.325879\n",
      "24       24        0.015398             0.010077                0.331360\n",
      "    Feature                 Measure  Distance\n",
      "0         0          stdDevDistance  0.013106\n",
      "1         1          stdDevDistance  0.008532\n",
      "2         2          stdDevDistance  0.009295\n",
      "3         3          stdDevDistance  0.014093\n",
      "4         4          stdDevDistance  0.017898\n",
      "5         5          stdDevDistance  0.009879\n",
      "6         6          stdDevDistance  0.012668\n",
      "7         7          stdDevDistance  0.020270\n",
      "8         8          stdDevDistance  0.000000\n",
      "9         9          stdDevDistance  0.002791\n",
      "10       10          stdDevDistance  0.008972\n",
      "11       11          stdDevDistance  0.013958\n",
      "12       12          stdDevDistance  0.003035\n",
      "13       13          stdDevDistance  0.010415\n",
      "14       14          stdDevDistance  0.017521\n",
      "15       15          stdDevDistance  0.012352\n",
      "16       16          stdDevDistance  0.012076\n",
      "17       17          stdDevDistance  0.012055\n",
      "18       18          stdDevDistance  0.146892\n",
      "19       19          stdDevDistance  0.021007\n",
      "20       20          stdDevDistance  0.020743\n",
      "21       21          stdDevDistance  0.018211\n",
      "22       22          stdDevDistance  0.015285\n",
      "23       23          stdDevDistance  0.015087\n",
      "24       24          stdDevDistance  0.015398\n",
      "25        0     sampleMatchDistance  0.008656\n",
      "26        1     sampleMatchDistance  0.009978\n",
      "27        2     sampleMatchDistance  0.008665\n",
      "28        3     sampleMatchDistance  0.009881\n",
      "29        4     sampleMatchDistance  0.011894\n",
      "..      ...                     ...       ...\n",
      "45       20     sampleMatchDistance  0.013463\n",
      "46       21     sampleMatchDistance  0.004977\n",
      "47       22     sampleMatchDistance  0.015205\n",
      "48       23     sampleMatchDistance  0.012697\n",
      "49       24     sampleMatchDistance  0.010077\n",
      "50        0  sampleNonMatchDistance  0.079733\n",
      "51        1  sampleNonMatchDistance  0.060211\n",
      "52        2  sampleNonMatchDistance  0.069992\n",
      "53        3  sampleNonMatchDistance  0.125574\n",
      "54        4  sampleNonMatchDistance  0.200390\n",
      "55        5  sampleNonMatchDistance  0.053691\n",
      "56        6  sampleNonMatchDistance  0.053588\n",
      "57        7  sampleNonMatchDistance  0.072410\n",
      "58        8  sampleNonMatchDistance  0.000000\n",
      "59        9  sampleNonMatchDistance  0.013640\n",
      "60       10  sampleNonMatchDistance  0.166787\n",
      "61       11  sampleNonMatchDistance  0.313242\n",
      "62       12  sampleNonMatchDistance  0.014502\n",
      "63       13  sampleNonMatchDistance  0.035233\n",
      "64       14  sampleNonMatchDistance  0.061384\n",
      "65       15  sampleNonMatchDistance  0.076393\n",
      "66       16  sampleNonMatchDistance  0.587473\n",
      "67       17  sampleNonMatchDistance  0.068189\n",
      "68       18  sampleNonMatchDistance  0.563383\n",
      "69       19  sampleNonMatchDistance  0.091768\n",
      "70       20  sampleNonMatchDistance  0.083234\n",
      "71       21  sampleNonMatchDistance  0.062746\n",
      "72       22  sampleNonMatchDistance  0.323816\n",
      "73       23  sampleNonMatchDistance  0.325879\n",
      "74       24  sampleNonMatchDistance  0.331360\n",
      "\n",
      "[75 rows x 3 columns]\n"
     ]
    }
   ],
   "source": [
    "poseName = 'Tendu'\n",
    "features = [0,1,2,3,4,5,6,7,8,9,10,11,12,13,14,15,16,17,18,19,20,21,22,23,24]\n",
    "stdDevDistance = np.load(os.path.join('Stats', poseName+'DistanceStdDevAdded.npy'))\n",
    "sampleMatchDistance = np.load(os.path.join('Stats', poseName+'DistanceSampleMatch.npy'))\n",
    "sampleNonMatchDistance = np.load(os.path.join('Stats', poseName+'DistanceSampleNonMatch.npy'))\n",
    "df = pd.DataFrame(list(zip(features, stdDevDistance, sampleMatchDistance,sampleNonMatchDistance)), columns =['Feature','stdDevDistance','sampleMatchDistance','sampleNonMatchDistance'])\n",
    "print(df)\n",
    "\n",
    "df2 = pd.melt(df, id_vars = \"Feature\", var_name = \"Measure\", value_name = \"Distance\")\n",
    "print(df2)"
   ]
  },
  {
   "cell_type": "code",
   "execution_count": 3,
   "metadata": {},
   "outputs": [
    {
     "data": {
      "text/plain": [
       "<matplotlib.axes._subplots.AxesSubplot at 0x29cbff09048>"
      ]
     },
     "execution_count": 3,
     "metadata": {},
     "output_type": "execute_result"
    },
    {
     "data": {
      "image/png": "[encoded data removed]",
      "text/plain": [
       "<Figure size 720x720 with 1 Axes>"
      ]
     },
     "metadata": {
      "needs_background": "light"
     },
     "output_type": "display_data"
    }
   ],
   "source": [
    "fig, ax1 = plt.subplots(figsize=(10, 10))\n",
    "plt.title(\"Histogram of Distance Vectors\")\n",
    "sns.barplot(x=\"Feature\", y=\"Distance\", hue = 'Measure',data=df2,palette=\"pastel\")"
   ]
  },
  {
   "cell_type": "code",
   "execution_count": 4,
   "metadata": {},
   "outputs": [
    {
     "name": "stdout",
     "output_type": "stream",
     "text": [
      "    Feature  Standard Deviation  Sample Match\n",
      "0         0            0.013106      0.008656\n",
      "1         1            0.008532      0.009978\n",
      "2         2            0.009295      0.008665\n",
      "3         3            0.014093      0.009881\n",
      "4         4            0.017898      0.011894\n",
      "5         5            0.009879      0.007628\n",
      "6         6            0.012668      0.014799\n",
      "7         7            0.020270      0.015044\n",
      "8         8            0.000000      0.000000\n",
      "9         9            0.002791      0.003700\n",
      "10       10            0.008972      0.006552\n",
      "11       11            0.013958      0.006732\n",
      "12       12            0.003035      0.003922\n",
      "13       13            0.010415      0.011537\n",
      "14       14            0.017521      0.003884\n",
      "15       15            0.012352      0.006498\n",
      "16       16            0.012076      0.008440\n",
      "17       17            0.012055      0.003653\n",
      "18       18            0.146892      0.040635\n",
      "19       19            0.021007      0.012513\n",
      "20       20            0.020743      0.013463\n",
      "21       21            0.018211      0.004977\n",
      "22       22            0.015285      0.015205\n",
      "23       23            0.015087      0.012697\n",
      "24       24            0.015398      0.010077\n",
      "    Feature             Measure  Distance\n",
      "0         0  Standard Deviation  0.013106\n",
      "1         1  Standard Deviation  0.008532\n",
      "2         2  Standard Deviation  0.009295\n",
      "3         3  Standard Deviation  0.014093\n",
      "4         4  Standard Deviation  0.017898\n",
      "5         5  Standard Deviation  0.009879\n",
      "6         6  Standard Deviation  0.012668\n",
      "7         7  Standard Deviation  0.020270\n",
      "8         8  Standard Deviation  0.000000\n",
      "9         9  Standard Deviation  0.002791\n",
      "10       10  Standard Deviation  0.008972\n",
      "11       11  Standard Deviation  0.013958\n",
      "12       12  Standard Deviation  0.003035\n",
      "13       13  Standard Deviation  0.010415\n",
      "14       14  Standard Deviation  0.017521\n",
      "15       15  Standard Deviation  0.012352\n",
      "16       16  Standard Deviation  0.012076\n",
      "17       17  Standard Deviation  0.012055\n",
      "18       18  Standard Deviation  0.146892\n",
      "19       19  Standard Deviation  0.021007\n",
      "20       20  Standard Deviation  0.020743\n",
      "21       21  Standard Deviation  0.018211\n",
      "22       22  Standard Deviation  0.015285\n",
      "23       23  Standard Deviation  0.015087\n",
      "24       24  Standard Deviation  0.015398\n",
      "25        0        Sample Match  0.008656\n",
      "26        1        Sample Match  0.009978\n",
      "27        2        Sample Match  0.008665\n",
      "28        3        Sample Match  0.009881\n",
      "29        4        Sample Match  0.011894\n",
      "30        5        Sample Match  0.007628\n",
      "31        6        Sample Match  0.014799\n",
      "32        7        Sample Match  0.015044\n",
      "33        8        Sample Match  0.000000\n",
      "34        9        Sample Match  0.003700\n",
      "35       10        Sample Match  0.006552\n",
      "36       11        Sample Match  0.006732\n",
      "37       12        Sample Match  0.003922\n",
      "38       13        Sample Match  0.011537\n",
      "39       14        Sample Match  0.003884\n",
      "40       15        Sample Match  0.006498\n",
      "41       16        Sample Match  0.008440\n",
      "42       17        Sample Match  0.003653\n",
      "43       18        Sample Match  0.040635\n",
      "44       19        Sample Match  0.012513\n",
      "45       20        Sample Match  0.013463\n",
      "46       21        Sample Match  0.004977\n",
      "47       22        Sample Match  0.015205\n",
      "48       23        Sample Match  0.012697\n",
      "49       24        Sample Match  0.010077\n"
     ]
    }
   ],
   "source": [
    "#Distance histogram match:\n",
    "features = [0,1,2,3,4,5,6,7,8,9,10,11,12,13,14,15,16,17,18,19,20,21,22,23,24]\n",
    "stdDevDistance = np.load(os.path.join('Stats', poseName+'DistanceStdDevAdded.npy'))\n",
    "sampleMatchDistance = np.load(os.path.join('Stats', poseName+'DistanceSampleMatch.npy'))\n",
    "#sampleNonMatchDistance = np.load(os.path.join('NumpyArabesque', 'DistanceSampleNonMatch.npy'))\n",
    "df = pd.DataFrame(list(zip(features, stdDevDistance, sampleMatchDistance)), columns =['Feature','Standard Deviation','Sample Match'])\n",
    "print(df)\n",
    "\n",
    "df2 = pd.melt(df, id_vars = \"Feature\", var_name = \"Measure\", value_name = \"Distance\")\n",
    "print(df2)\n",
    "#sns.histplot(x=x,y=y)"
   ]
  },
  {
   "cell_type": "code",
   "execution_count": 5,
   "metadata": {},
   "outputs": [
    {
     "data": {
      "text/plain": [
       "<matplotlib.axes._subplots.AxesSubplot at 0x29cbfef35c0>"
      ]
     },
     "execution_count": 5,
     "metadata": {},
     "output_type": "execute_result"
    },
    {
     "data": {
      "image/png": "[encoded data removed]",
      "text/plain": [
       "<Figure size 720x720 with 1 Axes>"
      ]
     },
     "metadata": {
      "needs_background": "light"
     },
     "output_type": "display_data"
    }
   ],
   "source": [
    "fig, ax1 = plt.subplots(figsize=(10, 10))\n",
    "plt.title(\"Distance Histogram of Features for \"+poseName+\" Sample Match\")\n",
    "sns.barplot(x=\"Feature\", y=\"Distance\", hue = 'Measure',data=df2,palette=\"pastel\")"
   ]
  },
  {
   "cell_type": "code",
   "execution_count": 6,
   "metadata": {},
   "outputs": [
    {
     "name": "stdout",
     "output_type": "stream",
     "text": [
      "    Feature  Standard Deviation  Sample Non-Match\n",
      "0         0            0.013106          0.079733\n",
      "1         1            0.008532          0.060211\n",
      "2         2            0.009295          0.069992\n",
      "3         3            0.014093          0.125574\n",
      "4         4            0.017898          0.200390\n",
      "5         5            0.009879          0.053691\n",
      "6         6            0.012668          0.053588\n",
      "7         7            0.020270          0.072410\n",
      "8         8            0.000000          0.000000\n",
      "9         9            0.002791          0.013640\n",
      "10       10            0.008972          0.166787\n",
      "11       11            0.013958          0.313242\n",
      "12       12            0.003035          0.014502\n",
      "13       13            0.010415          0.035233\n",
      "14       14            0.017521          0.061384\n",
      "15       15            0.012352          0.076393\n",
      "16       16            0.012076          0.587473\n",
      "17       17            0.012055          0.068189\n",
      "18       18            0.146892          0.563383\n",
      "19       19            0.021007          0.091768\n",
      "20       20            0.020743          0.083234\n",
      "21       21            0.018211          0.062746\n",
      "22       22            0.015285          0.323816\n",
      "23       23            0.015087          0.325879\n",
      "24       24            0.015398          0.331360\n",
      "    Feature             Measure  Distance\n",
      "0         0  Standard Deviation  0.013106\n",
      "1         1  Standard Deviation  0.008532\n",
      "2         2  Standard Deviation  0.009295\n",
      "3         3  Standard Deviation  0.014093\n",
      "4         4  Standard Deviation  0.017898\n",
      "5         5  Standard Deviation  0.009879\n",
      "6         6  Standard Deviation  0.012668\n",
      "7         7  Standard Deviation  0.020270\n",
      "8         8  Standard Deviation  0.000000\n",
      "9         9  Standard Deviation  0.002791\n",
      "10       10  Standard Deviation  0.008972\n",
      "11       11  Standard Deviation  0.013958\n",
      "12       12  Standard Deviation  0.003035\n",
      "13       13  Standard Deviation  0.010415\n",
      "14       14  Standard Deviation  0.017521\n",
      "15       15  Standard Deviation  0.012352\n",
      "16       16  Standard Deviation  0.012076\n",
      "17       17  Standard Deviation  0.012055\n",
      "18       18  Standard Deviation  0.146892\n",
      "19       19  Standard Deviation  0.021007\n",
      "20       20  Standard Deviation  0.020743\n",
      "21       21  Standard Deviation  0.018211\n",
      "22       22  Standard Deviation  0.015285\n",
      "23       23  Standard Deviation  0.015087\n",
      "24       24  Standard Deviation  0.015398\n",
      "25        0    Sample Non-Match  0.079733\n",
      "26        1    Sample Non-Match  0.060211\n",
      "27        2    Sample Non-Match  0.069992\n",
      "28        3    Sample Non-Match  0.125574\n",
      "29        4    Sample Non-Match  0.200390\n",
      "30        5    Sample Non-Match  0.053691\n",
      "31        6    Sample Non-Match  0.053588\n",
      "32        7    Sample Non-Match  0.072410\n",
      "33        8    Sample Non-Match  0.000000\n",
      "34        9    Sample Non-Match  0.013640\n",
      "35       10    Sample Non-Match  0.166787\n",
      "36       11    Sample Non-Match  0.313242\n",
      "37       12    Sample Non-Match  0.014502\n",
      "38       13    Sample Non-Match  0.035233\n",
      "39       14    Sample Non-Match  0.061384\n",
      "40       15    Sample Non-Match  0.076393\n",
      "41       16    Sample Non-Match  0.587473\n",
      "42       17    Sample Non-Match  0.068189\n",
      "43       18    Sample Non-Match  0.563383\n",
      "44       19    Sample Non-Match  0.091768\n",
      "45       20    Sample Non-Match  0.083234\n",
      "46       21    Sample Non-Match  0.062746\n",
      "47       22    Sample Non-Match  0.323816\n",
      "48       23    Sample Non-Match  0.325879\n",
      "49       24    Sample Non-Match  0.331360\n"
     ]
    }
   ],
   "source": [
    "#Distance histogram non-match:\n",
    "features = [0,1,2,3,4,5,6,7,8,9,10,11,12,13,14,15,16,17,18,19,20,21,22,23,24]\n",
    "stdDevDistance = np.load(os.path.join('Stats', poseName+'DistanceStdDevAdded.npy'))\n",
    "sampleNonMatchDistance = np.load(os.path.join('Stats', poseName+'DistanceSampleNonMatch.npy'))\n",
    "df = pd.DataFrame(list(zip(features, stdDevDistance, sampleNonMatchDistance)), columns =['Feature','Standard Deviation','Sample Non-Match'])\n",
    "print(df)\n",
    "\n",
    "df2 = pd.melt(df, id_vars = \"Feature\", var_name = \"Measure\", value_name = \"Distance\")\n",
    "print(df2)\n",
    "#sns.histplot(x=x,y=y)"
   ]
  },
  {
   "cell_type": "code",
   "execution_count": 7,
   "metadata": {},
   "outputs": [
    {
     "data": {
      "text/plain": [
       "<matplotlib.axes._subplots.AxesSubplot at 0x29cc04176d8>"
      ]
     },
     "execution_count": 7,
     "metadata": {},
     "output_type": "execute_result"
    },
    {
     "data": {
      "image/png": "[encoded data removed]",
      "text/plain": [
       "<Figure size 720x720 with 1 Axes>"
      ]
     },
     "metadata": {
      "needs_background": "light"
     },
     "output_type": "display_data"
    }
   ],
   "source": [
    "fig, ax1 = plt.subplots(figsize=(10, 10))\n",
    "plt.title(\"Distance Histogram of Features for \"+ poseName+\" Sample Non-Match\")\n",
    "sns.barplot(x=\"Feature\", y=\"Distance\", hue = 'Measure',data=df2,palette=\"pastel\")"
   ]
  },
  {
   "cell_type": "code",
   "execution_count": null,
   "metadata": {},
   "outputs": [],
   "source": []
  }
 ],
 "metadata": {
  "kernelspec": {
   "display_name": "python-gpu-env",
   "language": "python",
   "name": "python-gpu-env"
  },
  "language_info": {
   "codemirror_mode": {
    "name": "ipython",
    "version": 3
   },
   "file_extension": ".py",
   "mimetype": "text/x-python",
   "name": "python",
   "nbconvert_exporter": "python",
   "pygments_lexer": "ipython3",
   "version": "3.6.8"
  }
 },
 "nbformat": 4,
 "nbformat_minor": 2
}
