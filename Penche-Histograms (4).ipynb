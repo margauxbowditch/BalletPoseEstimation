{
 "cells": [
  {
   "cell_type": "code",
   "execution_count": 1,
   "metadata": {},
   "outputs": [],
   "source": [
    "import seaborn as sns\n",
    "import pandas as pd\n",
    "import numpy as np\n",
    "import matplotlib.pyplot as plt\n",
    "import os"
   ]
  },
  {
   "cell_type": "code",
   "execution_count": 2,
   "metadata": {},
   "outputs": [
    {
     "name": "stdout",
     "output_type": "stream",
     "text": [
      "    Feature  stdDevDistance  sampleMatchDistance  sampleNonMatchDistance\n",
      "0         0        0.036975             0.055062                0.223075\n",
      "1         1        0.026698             0.025247                0.154854\n",
      "2         2        0.027659             0.031081                0.160115\n",
      "3         3        0.026386             0.008416                0.135636\n",
      "4         4        0.050652             0.000685                0.070265\n",
      "5         5        0.027023             0.022550                0.163497\n",
      "6         6        0.034462             0.140570                0.168690\n",
      "7         7        0.055142             0.887263                0.205193\n",
      "8         8        0.000000             0.000000                0.000000\n",
      "9         9        0.007224             0.004823                0.030495\n",
      "10       10        0.094218             0.026733                0.170407\n",
      "11       11        0.162598             0.078685                0.342497\n",
      "12       12        0.007231             0.002169                0.040735\n",
      "13       13        0.070966             0.012858                0.149838\n",
      "14       14        0.154252             0.021119                0.119961\n",
      "15       15        0.036768             0.048978                0.226886\n",
      "16       16        0.101019             0.012894                0.560661\n",
      "17       17        0.034801             0.042145                0.209906\n",
      "18       18        0.000000             0.000000                0.588171\n",
      "19       19        0.207273             0.030983                0.092138\n",
      "20       20        0.272770             0.072642                0.073836\n",
      "21       21        0.214103             0.036250                0.120653\n",
      "22       22        0.240556             0.082040                0.429721\n",
      "23       23        0.274753             0.088633                0.459595\n",
      "24       24        0.192419             0.072215                0.377804\n",
      "    Feature                 Measure  Distance\n",
      "0         0          stdDevDistance  0.036975\n",
      "1         1          stdDevDistance  0.026698\n",
      "2         2          stdDevDistance  0.027659\n",
      "3         3          stdDevDistance  0.026386\n",
      "4         4          stdDevDistance  0.050652\n",
      "5         5          stdDevDistance  0.027023\n",
      "6         6          stdDevDistance  0.034462\n",
      "7         7          stdDevDistance  0.055142\n",
      "8         8          stdDevDistance  0.000000\n",
      "9         9          stdDevDistance  0.007224\n",
      "10       10          stdDevDistance  0.094218\n",
      "11       11          stdDevDistance  0.162598\n",
      "12       12          stdDevDistance  0.007231\n",
      "13       13          stdDevDistance  0.070966\n",
      "14       14          stdDevDistance  0.154252\n",
      "15       15          stdDevDistance  0.036768\n",
      "16       16          stdDevDistance  0.101019\n",
      "17       17          stdDevDistance  0.034801\n",
      "18       18          stdDevDistance  0.000000\n",
      "19       19          stdDevDistance  0.207273\n",
      "20       20          stdDevDistance  0.272770\n",
      "21       21          stdDevDistance  0.214103\n",
      "22       22          stdDevDistance  0.240556\n",
      "23       23          stdDevDistance  0.274753\n",
      "24       24          stdDevDistance  0.192419\n",
      "25        0     sampleMatchDistance  0.055062\n",
      "26        1     sampleMatchDistance  0.025247\n",
      "27        2     sampleMatchDistance  0.031081\n",
      "28        3     sampleMatchDistance  0.008416\n",
      "29        4     sampleMatchDistance  0.000685\n",
      "..      ...                     ...       ...\n",
      "45       20     sampleMatchDistance  0.072642\n",
      "46       21     sampleMatchDistance  0.036250\n",
      "47       22     sampleMatchDistance  0.082040\n",
      "48       23     sampleMatchDistance  0.088633\n",
      "49       24     sampleMatchDistance  0.072215\n",
      "50        0  sampleNonMatchDistance  0.223075\n",
      "51        1  sampleNonMatchDistance  0.154854\n",
      "52        2  sampleNonMatchDistance  0.160115\n",
      "53        3  sampleNonMatchDistance  0.135636\n",
      "54        4  sampleNonMatchDistance  0.070265\n",
      "55        5  sampleNonMatchDistance  0.163497\n",
      "56        6  sampleNonMatchDistance  0.168690\n",
      "57        7  sampleNonMatchDistance  0.205193\n",
      "58        8  sampleNonMatchDistance  0.000000\n",
      "59        9  sampleNonMatchDistance  0.030495\n",
      "60       10  sampleNonMatchDistance  0.170407\n",
      "61       11  sampleNonMatchDistance  0.342497\n",
      "62       12  sampleNonMatchDistance  0.040735\n",
      "63       13  sampleNonMatchDistance  0.149838\n",
      "64       14  sampleNonMatchDistance  0.119961\n",
      "65       15  sampleNonMatchDistance  0.226886\n",
      "66       16  sampleNonMatchDistance  0.560661\n",
      "67       17  sampleNonMatchDistance  0.209906\n",
      "68       18  sampleNonMatchDistance  0.588171\n",
      "69       19  sampleNonMatchDistance  0.092138\n",
      "70       20  sampleNonMatchDistance  0.073836\n",
      "71       21  sampleNonMatchDistance  0.120653\n",
      "72       22  sampleNonMatchDistance  0.429721\n",
      "73       23  sampleNonMatchDistance  0.459595\n",
      "74       24  sampleNonMatchDistance  0.377804\n",
      "\n",
      "[75 rows x 3 columns]\n"
     ]
    }
   ],
   "source": [
    "poseName = 'Penche'\n",
    "features = [0,1,2,3,4,5,6,7,8,9,10,11,12,13,14,15,16,17,18,19,20,21,22,23,24]\n",
    "stdDevDistance = np.load(os.path.join('Stats', poseName+'DistanceStdDevAdded.npy'))\n",
    "sampleMatchDistance = np.load(os.path.join('Stats', poseName+'DistanceSampleMatch.npy'))\n",
    "sampleNonMatchDistance = np.load(os.path.join('Stats', poseName+'DistanceSampleNonMatch.npy'))\n",
    "df = pd.DataFrame(list(zip(features, stdDevDistance, sampleMatchDistance,sampleNonMatchDistance)), columns =['Feature','stdDevDistance','sampleMatchDistance','sampleNonMatchDistance'])\n",
    "print(df)\n",
    "\n",
    "df2 = pd.melt(df, id_vars = \"Feature\", var_name = \"Measure\", value_name = \"Distance\")\n",
    "print(df2)"
   ]
  },
  {
   "cell_type": "code",
   "execution_count": 3,
   "metadata": {},
   "outputs": [
    {
     "data": {
      "text/plain": [
       "<matplotlib.axes._subplots.AxesSubplot at 0x22b42cce1d0>"
      ]
     },
     "execution_count": 3,
     "metadata": {},
     "output_type": "execute_result"
    },
    {
     "data": {
      "image/png": "[encoded data removed]",
      "text/plain": [
       "<Figure size 720x720 with 1 Axes>"
      ]
     },
     "metadata": {
      "needs_background": "light"
     },
     "output_type": "display_data"
    }
   ],
   "source": [
    "fig, ax1 = plt.subplots(figsize=(10, 10))\n",
    "plt.title(\"Histogram of Distance Vectors\")\n",
    "sns.barplot(x=\"Feature\", y=\"Distance\", hue = 'Measure',data=df2,palette=\"pastel\")"
   ]
  },
  {
   "cell_type": "code",
   "execution_count": 4,
   "metadata": {},
   "outputs": [
    {
     "name": "stdout",
     "output_type": "stream",
     "text": [
      "    Feature  Standard Deviation  Sample Match\n",
      "0         0            0.036975      0.055062\n",
      "1         1            0.026698      0.025247\n",
      "2         2            0.027659      0.031081\n",
      "3         3            0.026386      0.008416\n",
      "4         4            0.050652      0.000685\n",
      "5         5            0.027023      0.022550\n",
      "6         6            0.034462      0.140570\n",
      "7         7            0.055142      0.887263\n",
      "8         8            0.000000      0.000000\n",
      "9         9            0.007224      0.004823\n",
      "10       10            0.094218      0.026733\n",
      "11       11            0.162598      0.078685\n",
      "12       12            0.007231      0.002169\n",
      "13       13            0.070966      0.012858\n",
      "14       14            0.154252      0.021119\n",
      "15       15            0.036768      0.048978\n",
      "16       16            0.101019      0.012894\n",
      "17       17            0.034801      0.042145\n",
      "18       18            0.000000      0.000000\n",
      "19       19            0.207273      0.030983\n",
      "20       20            0.272770      0.072642\n",
      "21       21            0.214103      0.036250\n",
      "22       22            0.240556      0.082040\n",
      "23       23            0.274753      0.088633\n",
      "24       24            0.192419      0.072215\n",
      "    Feature             Measure  Distance\n",
      "0         0  Standard Deviation  0.036975\n",
      "1         1  Standard Deviation  0.026698\n",
      "2         2  Standard Deviation  0.027659\n",
      "3         3  Standard Deviation  0.026386\n",
      "4         4  Standard Deviation  0.050652\n",
      "5         5  Standard Deviation  0.027023\n",
      "6         6  Standard Deviation  0.034462\n",
      "7         7  Standard Deviation  0.055142\n",
      "8         8  Standard Deviation  0.000000\n",
      "9         9  Standard Deviation  0.007224\n",
      "10       10  Standard Deviation  0.094218\n",
      "11       11  Standard Deviation  0.162598\n",
      "12       12  Standard Deviation  0.007231\n",
      "13       13  Standard Deviation  0.070966\n",
      "14       14  Standard Deviation  0.154252\n",
      "15       15  Standard Deviation  0.036768\n",
      "16       16  Standard Deviation  0.101019\n",
      "17       17  Standard Deviation  0.034801\n",
      "18       18  Standard Deviation  0.000000\n",
      "19       19  Standard Deviation  0.207273\n",
      "20       20  Standard Deviation  0.272770\n",
      "21       21  Standard Deviation  0.214103\n",
      "22       22  Standard Deviation  0.240556\n",
      "23       23  Standard Deviation  0.274753\n",
      "24       24  Standard Deviation  0.192419\n",
      "25        0        Sample Match  0.055062\n",
      "26        1        Sample Match  0.025247\n",
      "27        2        Sample Match  0.031081\n",
      "28        3        Sample Match  0.008416\n",
      "29        4        Sample Match  0.000685\n",
      "30        5        Sample Match  0.022550\n",
      "31        6        Sample Match  0.140570\n",
      "32        7        Sample Match  0.887263\n",
      "33        8        Sample Match  0.000000\n",
      "34        9        Sample Match  0.004823\n",
      "35       10        Sample Match  0.026733\n",
      "36       11        Sample Match  0.078685\n",
      "37       12        Sample Match  0.002169\n",
      "38       13        Sample Match  0.012858\n",
      "39       14        Sample Match  0.021119\n",
      "40       15        Sample Match  0.048978\n",
      "41       16        Sample Match  0.012894\n",
      "42       17        Sample Match  0.042145\n",
      "43       18        Sample Match  0.000000\n",
      "44       19        Sample Match  0.030983\n",
      "45       20        Sample Match  0.072642\n",
      "46       21        Sample Match  0.036250\n",
      "47       22        Sample Match  0.082040\n",
      "48       23        Sample Match  0.088633\n",
      "49       24        Sample Match  0.072215\n"
     ]
    }
   ],
   "source": [
    "#Distance histogram match:\n",
    "features = [0,1,2,3,4,5,6,7,8,9,10,11,12,13,14,15,16,17,18,19,20,21,22,23,24]\n",
    "stdDevDistance = np.load(os.path.join('Stats', poseName+'DistanceStdDevAdded.npy'))\n",
    "sampleMatchDistance = np.load(os.path.join('Stats', poseName+'DistanceSampleMatch.npy'))\n",
    "#sampleNonMatchDistance = np.load(os.path.join('NumpyArabesque', 'DistanceSampleNonMatch.npy'))\n",
    "df = pd.DataFrame(list(zip(features, stdDevDistance, sampleMatchDistance)), columns =['Feature','Standard Deviation','Sample Match'])\n",
    "print(df)\n",
    "\n",
    "df2 = pd.melt(df, id_vars = \"Feature\", var_name = \"Measure\", value_name = \"Distance\")\n",
    "print(df2)\n",
    "#sns.histplot(x=x,y=y)"
   ]
  },
  {
   "cell_type": "code",
   "execution_count": 5,
   "metadata": {},
   "outputs": [
    {
     "data": {
      "text/plain": [
       "<matplotlib.axes._subplots.AxesSubplot at 0x22b440987b8>"
      ]
     },
     "execution_count": 5,
     "metadata": {},
     "output_type": "execute_result"
    },
    {
     "data": {
      "image/png": "[encoded data removed]",
      "text/plain": [
       "<Figure size 720x720 with 1 Axes>"
      ]
     },
     "metadata": {
      "needs_background": "light"
     },
     "output_type": "display_data"
    }
   ],
   "source": [
    "fig, ax1 = plt.subplots(figsize=(10, 10))\n",
    "plt.title(\"Distance Histogram of Features for \"+poseName+\" Sample Match\")\n",
    "sns.barplot(x=\"Feature\", y=\"Distance\", hue = 'Measure',data=df2,palette=\"pastel\")"
   ]
  },
  {
   "cell_type": "code",
   "execution_count": 6,
   "metadata": {},
   "outputs": [
    {
     "name": "stdout",
     "output_type": "stream",
     "text": [
      "    Feature  Standard Deviation  Sample Non-Match\n",
      "0         0            0.036975          0.223075\n",
      "1         1            0.026698          0.154854\n",
      "2         2            0.027659          0.160115\n",
      "3         3            0.026386          0.135636\n",
      "4         4            0.050652          0.070265\n",
      "5         5            0.027023          0.163497\n",
      "6         6            0.034462          0.168690\n",
      "7         7            0.055142          0.205193\n",
      "8         8            0.000000          0.000000\n",
      "9         9            0.007224          0.030495\n",
      "10       10            0.094218          0.170407\n",
      "11       11            0.162598          0.342497\n",
      "12       12            0.007231          0.040735\n",
      "13       13            0.070966          0.149838\n",
      "14       14            0.154252          0.119961\n",
      "15       15            0.036768          0.226886\n",
      "16       16            0.101019          0.560661\n",
      "17       17            0.034801          0.209906\n",
      "18       18            0.000000          0.588171\n",
      "19       19            0.207273          0.092138\n",
      "20       20            0.272770          0.073836\n",
      "21       21            0.214103          0.120653\n",
      "22       22            0.240556          0.429721\n",
      "23       23            0.274753          0.459595\n",
      "24       24            0.192419          0.377804\n",
      "    Feature             Measure  Distance\n",
      "0         0  Standard Deviation  0.036975\n",
      "1         1  Standard Deviation  0.026698\n",
      "2         2  Standard Deviation  0.027659\n",
      "3         3  Standard Deviation  0.026386\n",
      "4         4  Standard Deviation  0.050652\n",
      "5         5  Standard Deviation  0.027023\n",
      "6         6  Standard Deviation  0.034462\n",
      "7         7  Standard Deviation  0.055142\n",
      "8         8  Standard Deviation  0.000000\n",
      "9         9  Standard Deviation  0.007224\n",
      "10       10  Standard Deviation  0.094218\n",
      "11       11  Standard Deviation  0.162598\n",
      "12       12  Standard Deviation  0.007231\n",
      "13       13  Standard Deviation  0.070966\n",
      "14       14  Standard Deviation  0.154252\n",
      "15       15  Standard Deviation  0.036768\n",
      "16       16  Standard Deviation  0.101019\n",
      "17       17  Standard Deviation  0.034801\n",
      "18       18  Standard Deviation  0.000000\n",
      "19       19  Standard Deviation  0.207273\n",
      "20       20  Standard Deviation  0.272770\n",
      "21       21  Standard Deviation  0.214103\n",
      "22       22  Standard Deviation  0.240556\n",
      "23       23  Standard Deviation  0.274753\n",
      "24       24  Standard Deviation  0.192419\n",
      "25        0    Sample Non-Match  0.223075\n",
      "26        1    Sample Non-Match  0.154854\n",
      "27        2    Sample Non-Match  0.160115\n",
      "28        3    Sample Non-Match  0.135636\n",
      "29        4    Sample Non-Match  0.070265\n",
      "30        5    Sample Non-Match  0.163497\n",
      "31        6    Sample Non-Match  0.168690\n",
      "32        7    Sample Non-Match  0.205193\n",
      "33        8    Sample Non-Match  0.000000\n",
      "34        9    Sample Non-Match  0.030495\n",
      "35       10    Sample Non-Match  0.170407\n",
      "36       11    Sample Non-Match  0.342497\n",
      "37       12    Sample Non-Match  0.040735\n",
      "38       13    Sample Non-Match  0.149838\n",
      "39       14    Sample Non-Match  0.119961\n",
      "40       15    Sample Non-Match  0.226886\n",
      "41       16    Sample Non-Match  0.560661\n",
      "42       17    Sample Non-Match  0.209906\n",
      "43       18    Sample Non-Match  0.588171\n",
      "44       19    Sample Non-Match  0.092138\n",
      "45       20    Sample Non-Match  0.073836\n",
      "46       21    Sample Non-Match  0.120653\n",
      "47       22    Sample Non-Match  0.429721\n",
      "48       23    Sample Non-Match  0.459595\n",
      "49       24    Sample Non-Match  0.377804\n"
     ]
    }
   ],
   "source": [
    "#Distance histogram non-match:\n",
    "features = [0,1,2,3,4,5,6,7,8,9,10,11,12,13,14,15,16,17,18,19,20,21,22,23,24]\n",
    "stdDevDistance = np.load(os.path.join('Stats', poseName+'DistanceStdDevAdded.npy'))\n",
    "sampleNonMatchDistance = np.load(os.path.join('Stats', poseName+'DistanceSampleNonMatch.npy'))\n",
    "df = pd.DataFrame(list(zip(features, stdDevDistance, sampleNonMatchDistance)), columns =['Feature','Standard Deviation','Sample Non-Match'])\n",
    "print(df)\n",
    "\n",
    "df2 = pd.melt(df, id_vars = \"Feature\", var_name = \"Measure\", value_name = \"Distance\")\n",
    "print(df2)\n",
    "#sns.histplot(x=x,y=y)"
   ]
  },
  {
   "cell_type": "code",
   "execution_count": 7,
   "metadata": {},
   "outputs": [
    {
     "data": {
      "text/plain": [
       "<matplotlib.axes._subplots.AxesSubplot at 0x22b444300f0>"
      ]
     },
     "execution_count": 7,
     "metadata": {},
     "output_type": "execute_result"
    },
    {
     "data": {
      "image/png": "[encoded data removed]",
      "text/plain": [
       "<Figure size 720x720 with 1 Axes>"
      ]
     },
     "metadata": {
      "needs_background": "light"
     },
     "output_type": "display_data"
    }
   ],
   "source": [
    "fig, ax1 = plt.subplots(figsize=(10, 10))\n",
    "plt.title(\"Distance Histogram of Features for \"+ poseName+\" Sample Non-Match\")\n",
    "sns.barplot(x=\"Feature\", y=\"Distance\", hue = 'Measure',data=df2,palette=\"pastel\")"
   ]
  },
  {
   "cell_type": "code",
   "execution_count": null,
   "metadata": {},
   "outputs": [],
   "source": []
  }
 ],
 "metadata": {
  "kernelspec": {
   "display_name": "python-gpu-env",
   "language": "python",
   "name": "python-gpu-env"
  },
  "language_info": {
   "codemirror_mode": {
    "name": "ipython",
    "version": 3
   },
   "file_extension": ".py",
   "mimetype": "text/x-python",
   "name": "python",
   "nbconvert_exporter": "python",
   "pygments_lexer": "ipython3",
   "version": "3.6.8"
  }
 },
 "nbformat": 4,
 "nbformat_minor": 2
}
