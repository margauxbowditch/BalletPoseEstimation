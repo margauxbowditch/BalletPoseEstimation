{
 "cells": [
  {
   "cell_type": "code",
   "execution_count": 1,
   "metadata": {},
   "outputs": [],
   "source": [
    "import seaborn as sns\n",
    "import pandas as pd\n",
    "import numpy as np\n",
    "import matplotlib.pyplot as plt\n",
    "import os"
   ]
  },
  {
   "cell_type": "code",
   "execution_count": 2,
   "metadata": {},
   "outputs": [
    {
     "name": "stdout",
     "output_type": "stream",
     "text": [
      "    Feature  stdDevDistance  sampleMatchDistance  sampleNonMatchDistance\n",
      "0         0        0.014302             0.016799                0.004612\n",
      "1         1        0.010069             0.011819                0.003859\n",
      "2         2        0.010482             0.011194                0.003100\n",
      "3         3        0.012185             0.006907                0.146360\n",
      "4         4        0.019687             0.007473                0.279531\n",
      "5         5        0.010586             0.009863                0.004087\n",
      "6         6        0.012022             0.007210                0.052277\n",
      "7         7        0.020803             0.009877                0.125286\n",
      "8         8        0.000000             0.000000                0.000000\n",
      "9         9        0.003646             0.000749                0.005036\n",
      "10       10        0.013372             0.007622                0.052585\n",
      "11       11        0.019104             0.011063                0.047363\n",
      "12       12        0.003535             0.005169                0.003257\n",
      "13       13        0.013447             0.010647                0.136839\n",
      "14       14        0.018365             0.016100                0.220734\n",
      "15       15        0.015177             0.020821                0.007239\n",
      "16       16        0.015223             0.021500                0.008080\n",
      "17       17        0.014410             0.015640                0.006390\n",
      "18       18        0.014369             0.017416                0.010293\n",
      "19       19        0.020198             0.018668                0.304699\n",
      "20       20        0.056451             0.018800                0.284364\n",
      "21       21        0.019405             0.015696                0.228951\n",
      "22       22        0.020731             0.013987                0.041516\n",
      "23       23        0.020149             0.017852                0.046370\n",
      "24       24        0.020263             0.015866                0.056436\n",
      "    Feature                 Measure  Distance\n",
      "0         0          stdDevDistance  0.014302\n",
      "1         1          stdDevDistance  0.010069\n",
      "2         2          stdDevDistance  0.010482\n",
      "3         3          stdDevDistance  0.012185\n",
      "4         4          stdDevDistance  0.019687\n",
      "5         5          stdDevDistance  0.010586\n",
      "6         6          stdDevDistance  0.012022\n",
      "7         7          stdDevDistance  0.020803\n",
      "8         8          stdDevDistance  0.000000\n",
      "9         9          stdDevDistance  0.003646\n",
      "10       10          stdDevDistance  0.013372\n",
      "11       11          stdDevDistance  0.019104\n",
      "12       12          stdDevDistance  0.003535\n",
      "13       13          stdDevDistance  0.013447\n",
      "14       14          stdDevDistance  0.018365\n",
      "15       15          stdDevDistance  0.015177\n",
      "16       16          stdDevDistance  0.015223\n",
      "17       17          stdDevDistance  0.014410\n",
      "18       18          stdDevDistance  0.014369\n",
      "19       19          stdDevDistance  0.020198\n",
      "20       20          stdDevDistance  0.056451\n",
      "21       21          stdDevDistance  0.019405\n",
      "22       22          stdDevDistance  0.020731\n",
      "23       23          stdDevDistance  0.020149\n",
      "24       24          stdDevDistance  0.020263\n",
      "25        0     sampleMatchDistance  0.016799\n",
      "26        1     sampleMatchDistance  0.011819\n",
      "27        2     sampleMatchDistance  0.011194\n",
      "28        3     sampleMatchDistance  0.006907\n",
      "29        4     sampleMatchDistance  0.007473\n",
      "..      ...                     ...       ...\n",
      "45       20     sampleMatchDistance  0.018800\n",
      "46       21     sampleMatchDistance  0.015696\n",
      "47       22     sampleMatchDistance  0.013987\n",
      "48       23     sampleMatchDistance  0.017852\n",
      "49       24     sampleMatchDistance  0.015866\n",
      "50        0  sampleNonMatchDistance  0.004612\n",
      "51        1  sampleNonMatchDistance  0.003859\n",
      "52        2  sampleNonMatchDistance  0.003100\n",
      "53        3  sampleNonMatchDistance  0.146360\n",
      "54        4  sampleNonMatchDistance  0.279531\n",
      "55        5  sampleNonMatchDistance  0.004087\n",
      "56        6  sampleNonMatchDistance  0.052277\n",
      "57        7  sampleNonMatchDistance  0.125286\n",
      "58        8  sampleNonMatchDistance  0.000000\n",
      "59        9  sampleNonMatchDistance  0.005036\n",
      "60       10  sampleNonMatchDistance  0.052585\n",
      "61       11  sampleNonMatchDistance  0.047363\n",
      "62       12  sampleNonMatchDistance  0.003257\n",
      "63       13  sampleNonMatchDistance  0.136839\n",
      "64       14  sampleNonMatchDistance  0.220734\n",
      "65       15  sampleNonMatchDistance  0.007239\n",
      "66       16  sampleNonMatchDistance  0.008080\n",
      "67       17  sampleNonMatchDistance  0.006390\n",
      "68       18  sampleNonMatchDistance  0.010293\n",
      "69       19  sampleNonMatchDistance  0.304699\n",
      "70       20  sampleNonMatchDistance  0.284364\n",
      "71       21  sampleNonMatchDistance  0.228951\n",
      "72       22  sampleNonMatchDistance  0.041516\n",
      "73       23  sampleNonMatchDistance  0.046370\n",
      "74       24  sampleNonMatchDistance  0.056436\n",
      "\n",
      "[75 rows x 3 columns]\n"
     ]
    }
   ],
   "source": [
    "features = [0,1,2,3,4,5,6,7,8,9,10,11,12,13,14,15,16,17,18,19,20,21,22,23,24]\n",
    "stdDevDistance = np.load(os.path.join('Stats', 'Demi-PlieDistanceStdDevAdded.npy'))\n",
    "sampleMatchDistance = np.load(os.path.join('Stats', 'Demi-PlieDistanceSampleMatch.npy'))\n",
    "sampleNonMatchDistance = np.load(os.path.join('Stats', 'Demi-PlieDistanceSampleNonMatch.npy'))\n",
    "df = pd.DataFrame(list(zip(features, stdDevDistance, sampleMatchDistance,sampleNonMatchDistance)), columns =['Feature','stdDevDistance','sampleMatchDistance','sampleNonMatchDistance'])\n",
    "print(df)\n",
    "\n",
    "df2 = pd.melt(df, id_vars = \"Feature\", var_name = \"Measure\", value_name = \"Distance\")\n",
    "print(df2)"
   ]
  },
  {
   "cell_type": "code",
   "execution_count": 3,
   "metadata": {},
   "outputs": [
    {
     "data": {
      "text/plain": [
       "<matplotlib.axes._subplots.AxesSubplot at 0x2647b4cf278>"
      ]
     },
     "execution_count": 3,
     "metadata": {},
     "output_type": "execute_result"
    },
    {
     "data": {
      "image/png": "[encoded data removed]",
      "text/plain": [
       "<Figure size 720x720 with 1 Axes>"
      ]
     },
     "metadata": {
      "needs_background": "light"
     },
     "output_type": "display_data"
    }
   ],
   "source": [
    "fig, ax1 = plt.subplots(figsize=(10, 10))\n",
    "plt.title(\"Histogram of Distance Vectors\")\n",
    "sns.barplot(x=\"Feature\", y=\"Distance\", hue = 'Measure',data=df2,palette=\"pastel\")"
   ]
  },
  {
   "cell_type": "code",
   "execution_count": 4,
   "metadata": {},
   "outputs": [
    {
     "name": "stdout",
     "output_type": "stream",
     "text": [
      "    Feature  Standard Deviation  Sample Match\n",
      "0         0            0.014302      0.016799\n",
      "1         1            0.010069      0.011819\n",
      "2         2            0.010482      0.011194\n",
      "3         3            0.012185      0.006907\n",
      "4         4            0.019687      0.007473\n",
      "5         5            0.010586      0.009863\n",
      "6         6            0.012022      0.007210\n",
      "7         7            0.020803      0.009877\n",
      "8         8            0.000000      0.000000\n",
      "9         9            0.003646      0.000749\n",
      "10       10            0.013372      0.007622\n",
      "11       11            0.019104      0.011063\n",
      "12       12            0.003535      0.005169\n",
      "13       13            0.013447      0.010647\n",
      "14       14            0.018365      0.016100\n",
      "15       15            0.015177      0.020821\n",
      "16       16            0.015223      0.021500\n",
      "17       17            0.014410      0.015640\n",
      "18       18            0.014369      0.017416\n",
      "19       19            0.020198      0.018668\n",
      "20       20            0.056451      0.018800\n",
      "21       21            0.019405      0.015696\n",
      "22       22            0.020731      0.013987\n",
      "23       23            0.020149      0.017852\n",
      "24       24            0.020263      0.015866\n",
      "    Feature             Measure  Distance\n",
      "0         0  Standard Deviation  0.014302\n",
      "1         1  Standard Deviation  0.010069\n",
      "2         2  Standard Deviation  0.010482\n",
      "3         3  Standard Deviation  0.012185\n",
      "4         4  Standard Deviation  0.019687\n",
      "5         5  Standard Deviation  0.010586\n",
      "6         6  Standard Deviation  0.012022\n",
      "7         7  Standard Deviation  0.020803\n",
      "8         8  Standard Deviation  0.000000\n",
      "9         9  Standard Deviation  0.003646\n",
      "10       10  Standard Deviation  0.013372\n",
      "11       11  Standard Deviation  0.019104\n",
      "12       12  Standard Deviation  0.003535\n",
      "13       13  Standard Deviation  0.013447\n",
      "14       14  Standard Deviation  0.018365\n",
      "15       15  Standard Deviation  0.015177\n",
      "16       16  Standard Deviation  0.015223\n",
      "17       17  Standard Deviation  0.014410\n",
      "18       18  Standard Deviation  0.014369\n",
      "19       19  Standard Deviation  0.020198\n",
      "20       20  Standard Deviation  0.056451\n",
      "21       21  Standard Deviation  0.019405\n",
      "22       22  Standard Deviation  0.020731\n",
      "23       23  Standard Deviation  0.020149\n",
      "24       24  Standard Deviation  0.020263\n",
      "25        0        Sample Match  0.016799\n",
      "26        1        Sample Match  0.011819\n",
      "27        2        Sample Match  0.011194\n",
      "28        3        Sample Match  0.006907\n",
      "29        4        Sample Match  0.007473\n",
      "30        5        Sample Match  0.009863\n",
      "31        6        Sample Match  0.007210\n",
      "32        7        Sample Match  0.009877\n",
      "33        8        Sample Match  0.000000\n",
      "34        9        Sample Match  0.000749\n",
      "35       10        Sample Match  0.007622\n",
      "36       11        Sample Match  0.011063\n",
      "37       12        Sample Match  0.005169\n",
      "38       13        Sample Match  0.010647\n",
      "39       14        Sample Match  0.016100\n",
      "40       15        Sample Match  0.020821\n",
      "41       16        Sample Match  0.021500\n",
      "42       17        Sample Match  0.015640\n",
      "43       18        Sample Match  0.017416\n",
      "44       19        Sample Match  0.018668\n",
      "45       20        Sample Match  0.018800\n",
      "46       21        Sample Match  0.015696\n",
      "47       22        Sample Match  0.013987\n",
      "48       23        Sample Match  0.017852\n",
      "49       24        Sample Match  0.015866\n"
     ]
    }
   ],
   "source": [
    "#Distance histogram match:\n",
    "features = [0,1,2,3,4,5,6,7,8,9,10,11,12,13,14,15,16,17,18,19,20,21,22,23,24]\n",
    "stdDevDistance = np.load(os.path.join('Stats', 'Demi-PlieDistanceStdDevAdded.npy'))\n",
    "sampleMatchDistance = np.load(os.path.join('Stats', 'Demi-PlieDistanceSampleMatch.npy'))\n",
    "#sampleNonMatchDistance = np.load(os.path.join('NumpyArabesque', 'DistanceSampleNonMatch.npy'))\n",
    "df = pd.DataFrame(list(zip(features, stdDevDistance, sampleMatchDistance)), columns =['Feature','Standard Deviation','Sample Match'])\n",
    "print(df)\n",
    "\n",
    "df2 = pd.melt(df, id_vars = \"Feature\", var_name = \"Measure\", value_name = \"Distance\")\n",
    "print(df2)\n",
    "#sns.histplot(x=x,y=y)"
   ]
  },
  {
   "cell_type": "code",
   "execution_count": 5,
   "metadata": {},
   "outputs": [
    {
     "data": {
      "text/plain": [
       "<matplotlib.axes._subplots.AxesSubplot at 0x2647bc11978>"
      ]
     },
     "execution_count": 5,
     "metadata": {},
     "output_type": "execute_result"
    },
    {
     "data": {
      "image/png": "[encoded data removed]",
      "text/plain": [
       "<Figure size 720x720 with 1 Axes>"
      ]
     },
     "metadata": {
      "needs_background": "light"
     },
     "output_type": "display_data"
    }
   ],
   "source": [
    "fig, ax1 = plt.subplots(figsize=(10, 10))\n",
    "plt.title(\"Distance Histogram of Features for Demi-Plie Sample Match\")\n",
    "sns.barplot(x=\"Feature\", y=\"Distance\", hue = 'Measure',data=df2,palette=\"pastel\")"
   ]
  },
  {
   "cell_type": "code",
   "execution_count": 6,
   "metadata": {},
   "outputs": [
    {
     "name": "stdout",
     "output_type": "stream",
     "text": [
      "    Feature  Standard Deviation  Sample Non-Match\n",
      "0         0            0.014302          0.004612\n",
      "1         1            0.010069          0.003859\n",
      "2         2            0.010482          0.003100\n",
      "3         3            0.012185          0.146360\n",
      "4         4            0.019687          0.279531\n",
      "5         5            0.010586          0.004087\n",
      "6         6            0.012022          0.052277\n",
      "7         7            0.020803          0.125286\n",
      "8         8            0.000000          0.000000\n",
      "9         9            0.003646          0.005036\n",
      "10       10            0.013372          0.052585\n",
      "11       11            0.019104          0.047363\n",
      "12       12            0.003535          0.003257\n",
      "13       13            0.013447          0.136839\n",
      "14       14            0.018365          0.220734\n",
      "15       15            0.015177          0.007239\n",
      "16       16            0.015223          0.008080\n",
      "17       17            0.014410          0.006390\n",
      "18       18            0.014369          0.010293\n",
      "19       19            0.020198          0.304699\n",
      "20       20            0.056451          0.284364\n",
      "21       21            0.019405          0.228951\n",
      "22       22            0.020731          0.041516\n",
      "23       23            0.020149          0.046370\n",
      "24       24            0.020263          0.056436\n",
      "    Feature             Measure  Distance\n",
      "0         0  Standard Deviation  0.014302\n",
      "1         1  Standard Deviation  0.010069\n",
      "2         2  Standard Deviation  0.010482\n",
      "3         3  Standard Deviation  0.012185\n",
      "4         4  Standard Deviation  0.019687\n",
      "5         5  Standard Deviation  0.010586\n",
      "6         6  Standard Deviation  0.012022\n",
      "7         7  Standard Deviation  0.020803\n",
      "8         8  Standard Deviation  0.000000\n",
      "9         9  Standard Deviation  0.003646\n",
      "10       10  Standard Deviation  0.013372\n",
      "11       11  Standard Deviation  0.019104\n",
      "12       12  Standard Deviation  0.003535\n",
      "13       13  Standard Deviation  0.013447\n",
      "14       14  Standard Deviation  0.018365\n",
      "15       15  Standard Deviation  0.015177\n",
      "16       16  Standard Deviation  0.015223\n",
      "17       17  Standard Deviation  0.014410\n",
      "18       18  Standard Deviation  0.014369\n",
      "19       19  Standard Deviation  0.020198\n",
      "20       20  Standard Deviation  0.056451\n",
      "21       21  Standard Deviation  0.019405\n",
      "22       22  Standard Deviation  0.020731\n",
      "23       23  Standard Deviation  0.020149\n",
      "24       24  Standard Deviation  0.020263\n",
      "25        0    Sample Non-Match  0.004612\n",
      "26        1    Sample Non-Match  0.003859\n",
      "27        2    Sample Non-Match  0.003100\n",
      "28        3    Sample Non-Match  0.146360\n",
      "29        4    Sample Non-Match  0.279531\n",
      "30        5    Sample Non-Match  0.004087\n",
      "31        6    Sample Non-Match  0.052277\n",
      "32        7    Sample Non-Match  0.125286\n",
      "33        8    Sample Non-Match  0.000000\n",
      "34        9    Sample Non-Match  0.005036\n",
      "35       10    Sample Non-Match  0.052585\n",
      "36       11    Sample Non-Match  0.047363\n",
      "37       12    Sample Non-Match  0.003257\n",
      "38       13    Sample Non-Match  0.136839\n",
      "39       14    Sample Non-Match  0.220734\n",
      "40       15    Sample Non-Match  0.007239\n",
      "41       16    Sample Non-Match  0.008080\n",
      "42       17    Sample Non-Match  0.006390\n",
      "43       18    Sample Non-Match  0.010293\n",
      "44       19    Sample Non-Match  0.304699\n",
      "45       20    Sample Non-Match  0.284364\n",
      "46       21    Sample Non-Match  0.228951\n",
      "47       22    Sample Non-Match  0.041516\n",
      "48       23    Sample Non-Match  0.046370\n",
      "49       24    Sample Non-Match  0.056436\n"
     ]
    }
   ],
   "source": [
    "#Distance histogram non-match:\n",
    "features = [0,1,2,3,4,5,6,7,8,9,10,11,12,13,14,15,16,17,18,19,20,21,22,23,24]\n",
    "stdDevDistance = np.load(os.path.join('Stats', 'Demi-PlieDistanceStdDevAdded.npy'))\n",
    "sampleNonMatchDistance = np.load(os.path.join('Stats', 'Demi-PlieDistanceSampleNonMatch.npy'))\n",
    "df = pd.DataFrame(list(zip(features, stdDevDistance, sampleNonMatchDistance)), columns =['Feature','Standard Deviation','Sample Non-Match'])\n",
    "print(df)\n",
    "\n",
    "df2 = pd.melt(df, id_vars = \"Feature\", var_name = \"Measure\", value_name = \"Distance\")\n",
    "print(df2)\n",
    "#sns.histplot(x=x,y=y)"
   ]
  },
  {
   "cell_type": "code",
   "execution_count": 7,
   "metadata": {},
   "outputs": [
    {
     "data": {
      "text/plain": [
       "<matplotlib.axes._subplots.AxesSubplot at 0x2647bb05d68>"
      ]
     },
     "execution_count": 7,
     "metadata": {},
     "output_type": "execute_result"
    },
    {
     "data": {
      "image/png": "[encoded data removed]",
      "text/plain": [
       "<Figure size 720x720 with 1 Axes>"
      ]
     },
     "metadata": {
      "needs_background": "light"
     },
     "output_type": "display_data"
    }
   ],
   "source": [
    "fig, ax1 = plt.subplots(figsize=(10, 10))\n",
    "plt.title(\"Distance Histogram of Features for Demi-Plie Sample Non-Match\")\n",
    "sns.barplot(x=\"Feature\", y=\"Distance\", hue = 'Measure',data=df2,palette=\"pastel\")"
   ]
  },
  {
   "cell_type": "code",
   "execution_count": null,
   "metadata": {},
   "outputs": [],
   "source": []
  }
 ],
 "metadata": {
  "kernelspec": {
   "display_name": "python-gpu-env",
   "language": "python",
   "name": "python-gpu-env"
  },
  "language_info": {
   "codemirror_mode": {
    "name": "ipython",
    "version": 3
   },
   "file_extension": ".py",
   "mimetype": "text/x-python",
   "name": "python",
   "nbconvert_exporter": "python",
   "pygments_lexer": "ipython3",
   "version": "3.6.8"
  }
 },
 "nbformat": 4,
 "nbformat_minor": 2
}
