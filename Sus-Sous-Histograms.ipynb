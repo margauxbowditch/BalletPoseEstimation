{
 "cells": [
  {
   "cell_type": "code",
   "execution_count": 1,
   "metadata": {},
   "outputs": [],
   "source": [
    "import seaborn as sns\n",
    "import pandas as pd\n",
    "import numpy as np\n",
    "import matplotlib.pyplot as plt\n",
    "import os"
   ]
  },
  {
   "cell_type": "code",
   "execution_count": 2,
   "metadata": {},
   "outputs": [
    {
     "name": "stdout",
     "output_type": "stream",
     "text": [
      "    Feature  stdDevDistance  sampleMatchDistance  sampleNonMatchDistance\n",
      "0         0        0.012902             0.007528                0.019109\n",
      "1         1        0.008454             0.004654                0.010657\n",
      "2         2        0.008913             0.012450                0.005152\n",
      "3         3        0.013646             0.013689                0.114276\n",
      "4         4        0.017741             0.009222                0.193278\n",
      "5         5        0.008622             0.002057                0.014787\n",
      "6         6        0.012643             0.004510                0.010203\n",
      "7         7        0.018432             0.016517                0.086423\n",
      "8         8        0.000000             0.000000                0.000000\n",
      "9         9        0.002742             0.002625                0.001471\n",
      "10       10        0.009603             0.005346                0.013613\n",
      "11       11        0.015750             0.011439                0.004981\n",
      "12       12        0.002915             0.001378                0.001443\n",
      "13       13        0.009328             0.008730                0.028647\n",
      "14       14        0.018561             0.004321                0.044674\n",
      "15       15        0.013496             0.006371                0.015137\n",
      "16       16        0.013484             0.006614                0.018114\n",
      "17       17        0.012552             0.011720                0.012737\n",
      "18       18        0.012470             0.009184                0.016867\n",
      "19       19        0.019872             0.005956                0.049235\n",
      "20       20        0.019263             0.009150                0.059506\n",
      "21       21        0.018941             0.006663                0.042106\n",
      "22       22        0.017869             0.020157                0.033942\n",
      "23       23        0.092386             0.010130                0.020273\n",
      "24       24        0.016619             0.011502                0.007204\n",
      "    Feature                 Measure  Distance\n",
      "0         0          stdDevDistance  0.012902\n",
      "1         1          stdDevDistance  0.008454\n",
      "2         2          stdDevDistance  0.008913\n",
      "3         3          stdDevDistance  0.013646\n",
      "4         4          stdDevDistance  0.017741\n",
      "5         5          stdDevDistance  0.008622\n",
      "6         6          stdDevDistance  0.012643\n",
      "7         7          stdDevDistance  0.018432\n",
      "8         8          stdDevDistance  0.000000\n",
      "9         9          stdDevDistance  0.002742\n",
      "10       10          stdDevDistance  0.009603\n",
      "11       11          stdDevDistance  0.015750\n",
      "12       12          stdDevDistance  0.002915\n",
      "13       13          stdDevDistance  0.009328\n",
      "14       14          stdDevDistance  0.018561\n",
      "15       15          stdDevDistance  0.013496\n",
      "16       16          stdDevDistance  0.013484\n",
      "17       17          stdDevDistance  0.012552\n",
      "18       18          stdDevDistance  0.012470\n",
      "19       19          stdDevDistance  0.019872\n",
      "20       20          stdDevDistance  0.019263\n",
      "21       21          stdDevDistance  0.018941\n",
      "22       22          stdDevDistance  0.017869\n",
      "23       23          stdDevDistance  0.092386\n",
      "24       24          stdDevDistance  0.016619\n",
      "25        0     sampleMatchDistance  0.007528\n",
      "26        1     sampleMatchDistance  0.004654\n",
      "27        2     sampleMatchDistance  0.012450\n",
      "28        3     sampleMatchDistance  0.013689\n",
      "29        4     sampleMatchDistance  0.009222\n",
      "..      ...                     ...       ...\n",
      "45       20     sampleMatchDistance  0.009150\n",
      "46       21     sampleMatchDistance  0.006663\n",
      "47       22     sampleMatchDistance  0.020157\n",
      "48       23     sampleMatchDistance  0.010130\n",
      "49       24     sampleMatchDistance  0.011502\n",
      "50        0  sampleNonMatchDistance  0.019109\n",
      "51        1  sampleNonMatchDistance  0.010657\n",
      "52        2  sampleNonMatchDistance  0.005152\n",
      "53        3  sampleNonMatchDistance  0.114276\n",
      "54        4  sampleNonMatchDistance  0.193278\n",
      "55        5  sampleNonMatchDistance  0.014787\n",
      "56        6  sampleNonMatchDistance  0.010203\n",
      "57        7  sampleNonMatchDistance  0.086423\n",
      "58        8  sampleNonMatchDistance  0.000000\n",
      "59        9  sampleNonMatchDistance  0.001471\n",
      "60       10  sampleNonMatchDistance  0.013613\n",
      "61       11  sampleNonMatchDistance  0.004981\n",
      "62       12  sampleNonMatchDistance  0.001443\n",
      "63       13  sampleNonMatchDistance  0.028647\n",
      "64       14  sampleNonMatchDistance  0.044674\n",
      "65       15  sampleNonMatchDistance  0.015137\n",
      "66       16  sampleNonMatchDistance  0.018114\n",
      "67       17  sampleNonMatchDistance  0.012737\n",
      "68       18  sampleNonMatchDistance  0.016867\n",
      "69       19  sampleNonMatchDistance  0.049235\n",
      "70       20  sampleNonMatchDistance  0.059506\n",
      "71       21  sampleNonMatchDistance  0.042106\n",
      "72       22  sampleNonMatchDistance  0.033942\n",
      "73       23  sampleNonMatchDistance  0.020273\n",
      "74       24  sampleNonMatchDistance  0.007204\n",
      "\n",
      "[75 rows x 3 columns]\n"
     ]
    }
   ],
   "source": [
    "poseName = 'Sus-sous'\n",
    "features = [0,1,2,3,4,5,6,7,8,9,10,11,12,13,14,15,16,17,18,19,20,21,22,23,24]\n",
    "stdDevDistance = np.load(os.path.join('Stats', poseName+'DistanceStdDevAdded.npy'))\n",
    "sampleMatchDistance = np.load(os.path.join('Stats', poseName+'DistanceSampleMatch.npy'))\n",
    "sampleNonMatchDistance = np.load(os.path.join('Stats', poseName+'DistanceSampleNonMatch.npy'))\n",
    "df = pd.DataFrame(list(zip(features, stdDevDistance, sampleMatchDistance,sampleNonMatchDistance)), columns =['Feature','stdDevDistance','sampleMatchDistance','sampleNonMatchDistance'])\n",
    "print(df)\n",
    "\n",
    "df2 = pd.melt(df, id_vars = \"Feature\", var_name = \"Measure\", value_name = \"Distance\")\n",
    "print(df2)"
   ]
  },
  {
   "cell_type": "code",
   "execution_count": 3,
   "metadata": {},
   "outputs": [
    {
     "data": {
      "text/plain": [
       "<matplotlib.axes._subplots.AxesSubplot at 0x2aff7a89080>"
      ]
     },
     "execution_count": 3,
     "metadata": {},
     "output_type": "execute_result"
    },
    {
     "data": {
      "image/png": "[encoded data removed]",
      "text/plain": [
       "<Figure size 720x720 with 1 Axes>"
      ]
     },
     "metadata": {
      "needs_background": "light"
     },
     "output_type": "display_data"
    }
   ],
   "source": [
    "fig, ax1 = plt.subplots(figsize=(10, 10))\n",
    "plt.title(\"Histogram of Distance Vectors\")\n",
    "sns.barplot(x=\"Feature\", y=\"Distance\", hue = 'Measure',data=df2,palette=\"pastel\")"
   ]
  },
  {
   "cell_type": "code",
   "execution_count": 4,
   "metadata": {},
   "outputs": [
    {
     "name": "stdout",
     "output_type": "stream",
     "text": [
      "    Feature  Standard Deviation  Sample Match\n",
      "0         0            0.012902      0.007528\n",
      "1         1            0.008454      0.004654\n",
      "2         2            0.008913      0.012450\n",
      "3         3            0.013646      0.013689\n",
      "4         4            0.017741      0.009222\n",
      "5         5            0.008622      0.002057\n",
      "6         6            0.012643      0.004510\n",
      "7         7            0.018432      0.016517\n",
      "8         8            0.000000      0.000000\n",
      "9         9            0.002742      0.002625\n",
      "10       10            0.009603      0.005346\n",
      "11       11            0.015750      0.011439\n",
      "12       12            0.002915      0.001378\n",
      "13       13            0.009328      0.008730\n",
      "14       14            0.018561      0.004321\n",
      "15       15            0.013496      0.006371\n",
      "16       16            0.013484      0.006614\n",
      "17       17            0.012552      0.011720\n",
      "18       18            0.012470      0.009184\n",
      "19       19            0.019872      0.005956\n",
      "20       20            0.019263      0.009150\n",
      "21       21            0.018941      0.006663\n",
      "22       22            0.017869      0.020157\n",
      "23       23            0.092386      0.010130\n",
      "24       24            0.016619      0.011502\n",
      "    Feature             Measure  Distance\n",
      "0         0  Standard Deviation  0.012902\n",
      "1         1  Standard Deviation  0.008454\n",
      "2         2  Standard Deviation  0.008913\n",
      "3         3  Standard Deviation  0.013646\n",
      "4         4  Standard Deviation  0.017741\n",
      "5         5  Standard Deviation  0.008622\n",
      "6         6  Standard Deviation  0.012643\n",
      "7         7  Standard Deviation  0.018432\n",
      "8         8  Standard Deviation  0.000000\n",
      "9         9  Standard Deviation  0.002742\n",
      "10       10  Standard Deviation  0.009603\n",
      "11       11  Standard Deviation  0.015750\n",
      "12       12  Standard Deviation  0.002915\n",
      "13       13  Standard Deviation  0.009328\n",
      "14       14  Standard Deviation  0.018561\n",
      "15       15  Standard Deviation  0.013496\n",
      "16       16  Standard Deviation  0.013484\n",
      "17       17  Standard Deviation  0.012552\n",
      "18       18  Standard Deviation  0.012470\n",
      "19       19  Standard Deviation  0.019872\n",
      "20       20  Standard Deviation  0.019263\n",
      "21       21  Standard Deviation  0.018941\n",
      "22       22  Standard Deviation  0.017869\n",
      "23       23  Standard Deviation  0.092386\n",
      "24       24  Standard Deviation  0.016619\n",
      "25        0        Sample Match  0.007528\n",
      "26        1        Sample Match  0.004654\n",
      "27        2        Sample Match  0.012450\n",
      "28        3        Sample Match  0.013689\n",
      "29        4        Sample Match  0.009222\n",
      "30        5        Sample Match  0.002057\n",
      "31        6        Sample Match  0.004510\n",
      "32        7        Sample Match  0.016517\n",
      "33        8        Sample Match  0.000000\n",
      "34        9        Sample Match  0.002625\n",
      "35       10        Sample Match  0.005346\n",
      "36       11        Sample Match  0.011439\n",
      "37       12        Sample Match  0.001378\n",
      "38       13        Sample Match  0.008730\n",
      "39       14        Sample Match  0.004321\n",
      "40       15        Sample Match  0.006371\n",
      "41       16        Sample Match  0.006614\n",
      "42       17        Sample Match  0.011720\n",
      "43       18        Sample Match  0.009184\n",
      "44       19        Sample Match  0.005956\n",
      "45       20        Sample Match  0.009150\n",
      "46       21        Sample Match  0.006663\n",
      "47       22        Sample Match  0.020157\n",
      "48       23        Sample Match  0.010130\n",
      "49       24        Sample Match  0.011502\n"
     ]
    }
   ],
   "source": [
    "#Distance histogram match:\n",
    "features = [0,1,2,3,4,5,6,7,8,9,10,11,12,13,14,15,16,17,18,19,20,21,22,23,24]\n",
    "stdDevDistance = np.load(os.path.join('Stats', poseName+'DistanceStdDevAdded.npy'))\n",
    "sampleMatchDistance = np.load(os.path.join('Stats', poseName+'DistanceSampleMatch.npy'))\n",
    "#sampleNonMatchDistance = np.load(os.path.join('NumpyArabesque', 'DistanceSampleNonMatch.npy'))\n",
    "df = pd.DataFrame(list(zip(features, stdDevDistance, sampleMatchDistance)), columns =['Feature','Standard Deviation','Sample Match'])\n",
    "print(df)\n",
    "\n",
    "df2 = pd.melt(df, id_vars = \"Feature\", var_name = \"Measure\", value_name = \"Distance\")\n",
    "print(df2)\n",
    "#sns.histplot(x=x,y=y)"
   ]
  },
  {
   "cell_type": "code",
   "execution_count": 5,
   "metadata": {},
   "outputs": [
    {
     "data": {
      "text/plain": [
       "<matplotlib.axes._subplots.AxesSubplot at 0x2aff81f9c50>"
      ]
     },
     "execution_count": 5,
     "metadata": {},
     "output_type": "execute_result"
    },
    {
     "data": {
      "image/png": "[encoded data removed]",
      "text/plain": [
       "<Figure size 720x720 with 1 Axes>"
      ]
     },
     "metadata": {
      "needs_background": "light"
     },
     "output_type": "display_data"
    }
   ],
   "source": [
    "fig, ax1 = plt.subplots(figsize=(10, 10))\n",
    "plt.title(\"Distance Histogram of Features for \"+poseName+\" Sample Match\")\n",
    "sns.barplot(x=\"Feature\", y=\"Distance\", hue = 'Measure',data=df2,palette=\"pastel\")"
   ]
  },
  {
   "cell_type": "code",
   "execution_count": 6,
   "metadata": {},
   "outputs": [
    {
     "name": "stdout",
     "output_type": "stream",
     "text": [
      "    Feature  Standard Deviation  Sample Non-Match\n",
      "0         0            0.012902          0.019109\n",
      "1         1            0.008454          0.010657\n",
      "2         2            0.008913          0.005152\n",
      "3         3            0.013646          0.114276\n",
      "4         4            0.017741          0.193278\n",
      "5         5            0.008622          0.014787\n",
      "6         6            0.012643          0.010203\n",
      "7         7            0.018432          0.086423\n",
      "8         8            0.000000          0.000000\n",
      "9         9            0.002742          0.001471\n",
      "10       10            0.009603          0.013613\n",
      "11       11            0.015750          0.004981\n",
      "12       12            0.002915          0.001443\n",
      "13       13            0.009328          0.028647\n",
      "14       14            0.018561          0.044674\n",
      "15       15            0.013496          0.015137\n",
      "16       16            0.013484          0.018114\n",
      "17       17            0.012552          0.012737\n",
      "18       18            0.012470          0.016867\n",
      "19       19            0.019872          0.049235\n",
      "20       20            0.019263          0.059506\n",
      "21       21            0.018941          0.042106\n",
      "22       22            0.017869          0.033942\n",
      "23       23            0.092386          0.020273\n",
      "24       24            0.016619          0.007204\n",
      "    Feature             Measure  Distance\n",
      "0         0  Standard Deviation  0.012902\n",
      "1         1  Standard Deviation  0.008454\n",
      "2         2  Standard Deviation  0.008913\n",
      "3         3  Standard Deviation  0.013646\n",
      "4         4  Standard Deviation  0.017741\n",
      "5         5  Standard Deviation  0.008622\n",
      "6         6  Standard Deviation  0.012643\n",
      "7         7  Standard Deviation  0.018432\n",
      "8         8  Standard Deviation  0.000000\n",
      "9         9  Standard Deviation  0.002742\n",
      "10       10  Standard Deviation  0.009603\n",
      "11       11  Standard Deviation  0.015750\n",
      "12       12  Standard Deviation  0.002915\n",
      "13       13  Standard Deviation  0.009328\n",
      "14       14  Standard Deviation  0.018561\n",
      "15       15  Standard Deviation  0.013496\n",
      "16       16  Standard Deviation  0.013484\n",
      "17       17  Standard Deviation  0.012552\n",
      "18       18  Standard Deviation  0.012470\n",
      "19       19  Standard Deviation  0.019872\n",
      "20       20  Standard Deviation  0.019263\n",
      "21       21  Standard Deviation  0.018941\n",
      "22       22  Standard Deviation  0.017869\n",
      "23       23  Standard Deviation  0.092386\n",
      "24       24  Standard Deviation  0.016619\n",
      "25        0    Sample Non-Match  0.019109\n",
      "26        1    Sample Non-Match  0.010657\n",
      "27        2    Sample Non-Match  0.005152\n",
      "28        3    Sample Non-Match  0.114276\n",
      "29        4    Sample Non-Match  0.193278\n",
      "30        5    Sample Non-Match  0.014787\n",
      "31        6    Sample Non-Match  0.010203\n",
      "32        7    Sample Non-Match  0.086423\n",
      "33        8    Sample Non-Match  0.000000\n",
      "34        9    Sample Non-Match  0.001471\n",
      "35       10    Sample Non-Match  0.013613\n",
      "36       11    Sample Non-Match  0.004981\n",
      "37       12    Sample Non-Match  0.001443\n",
      "38       13    Sample Non-Match  0.028647\n",
      "39       14    Sample Non-Match  0.044674\n",
      "40       15    Sample Non-Match  0.015137\n",
      "41       16    Sample Non-Match  0.018114\n",
      "42       17    Sample Non-Match  0.012737\n",
      "43       18    Sample Non-Match  0.016867\n",
      "44       19    Sample Non-Match  0.049235\n",
      "45       20    Sample Non-Match  0.059506\n",
      "46       21    Sample Non-Match  0.042106\n",
      "47       22    Sample Non-Match  0.033942\n",
      "48       23    Sample Non-Match  0.020273\n",
      "49       24    Sample Non-Match  0.007204\n"
     ]
    }
   ],
   "source": [
    "#Distance histogram non-match:\n",
    "features = [0,1,2,3,4,5,6,7,8,9,10,11,12,13,14,15,16,17,18,19,20,21,22,23,24]\n",
    "stdDevDistance = np.load(os.path.join('Stats', poseName+'DistanceStdDevAdded.npy'))\n",
    "sampleNonMatchDistance = np.load(os.path.join('Stats', poseName+'DistanceSampleNonMatch.npy'))\n",
    "df = pd.DataFrame(list(zip(features, stdDevDistance, sampleNonMatchDistance)), columns =['Feature','Standard Deviation','Sample Non-Match'])\n",
    "print(df)\n",
    "\n",
    "df2 = pd.melt(df, id_vars = \"Feature\", var_name = \"Measure\", value_name = \"Distance\")\n",
    "print(df2)\n",
    "#sns.histplot(x=x,y=y)"
   ]
  },
  {
   "cell_type": "code",
   "execution_count": 7,
   "metadata": {},
   "outputs": [
    {
     "data": {
      "text/plain": [
       "<matplotlib.axes._subplots.AxesSubplot at 0x2aff80a2e80>"
      ]
     },
     "execution_count": 7,
     "metadata": {},
     "output_type": "execute_result"
    },
    {
     "data": {
      "image/png": "[encoded data removed]",
      "text/plain": [
       "<Figure size 720x720 with 1 Axes>"
      ]
     },
     "metadata": {
      "needs_background": "light"
     },
     "output_type": "display_data"
    }
   ],
   "source": [
    "fig, ax1 = plt.subplots(figsize=(10, 10))\n",
    "plt.title(\"Distance Histogram of Features for \"+ poseName+\" Sample Non-Match\")\n",
    "sns.barplot(x=\"Feature\", y=\"Distance\", hue = 'Measure',data=df2,palette=\"pastel\")"
   ]
  },
  {
   "cell_type": "code",
   "execution_count": null,
   "metadata": {},
   "outputs": [],
   "source": []
  }
 ],
 "metadata": {
  "kernelspec": {
   "display_name": "python-gpu-env",
   "language": "python",
   "name": "python-gpu-env"
  },
  "language_info": {
   "codemirror_mode": {
    "name": "ipython",
    "version": 3
   },
   "file_extension": ".py",
   "mimetype": "text/x-python",
   "name": "python",
   "nbconvert_exporter": "python",
   "pygments_lexer": "ipython3",
   "version": "3.6.8"
  }
 },
 "nbformat": 4,
 "nbformat_minor": 2
}
