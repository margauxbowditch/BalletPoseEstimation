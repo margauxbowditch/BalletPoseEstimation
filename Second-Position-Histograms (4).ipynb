{
 "cells": [
  {
   "cell_type": "code",
   "execution_count": 1,
   "metadata": {},
   "outputs": [],
   "source": [
    "import seaborn as sns\n",
    "import pandas as pd\n",
    "import numpy as np\n",
    "import matplotlib.pyplot as plt\n",
    "import os"
   ]
  },
  {
   "cell_type": "code",
   "execution_count": 2,
   "metadata": {},
   "outputs": [
    {
     "name": "stdout",
     "output_type": "stream",
     "text": [
      "    Feature  stdDevDistance  sampleMatchDistance  sampleNonMatchDistance\n",
      "0         0        0.013431             0.016513                0.008623\n",
      "1         1        0.009327             0.013582                0.006029\n",
      "2         2        0.009927             0.013407                0.012724\n",
      "3         3        0.010565             0.003661                0.039751\n",
      "4         4        0.016812             0.010216                0.106895\n",
      "5         5        0.009409             0.015481                0.005794\n",
      "6         6        0.012653             0.010062                0.038598\n",
      "7         7        0.019241             0.016536                0.122845\n",
      "8         8        0.000000             0.000000                0.000000\n",
      "9         9        0.003132             0.003074                0.000892\n",
      "10       10        0.011591             0.012462                0.020298\n",
      "11       11        0.022267             0.016366                0.050920\n",
      "12       12        0.003669             0.000678                0.004698\n",
      "13       13        0.011210             0.009243                0.029020\n",
      "14       14        0.021915             0.014344                0.054751\n",
      "15       15        0.013525             0.017914                0.008422\n",
      "16       16        0.013455             0.018370                0.008892\n",
      "17       17        0.013109             0.014174                0.013142\n",
      "18       18        0.013017             0.014411                0.010644\n",
      "19       19        0.024090             0.019409                0.088638\n",
      "20       20        0.023323             0.022171                0.084248\n",
      "21       21        0.022625             0.021202                0.052651\n",
      "22       22        0.024261             0.019415                0.070108\n",
      "23       23        0.024078             0.022235                0.061954\n",
      "24       24        0.022758             0.018653                0.049054\n",
      "    Feature                 Measure  Distance\n",
      "0         0          stdDevDistance  0.013431\n",
      "1         1          stdDevDistance  0.009327\n",
      "2         2          stdDevDistance  0.009927\n",
      "3         3          stdDevDistance  0.010565\n",
      "4         4          stdDevDistance  0.016812\n",
      "5         5          stdDevDistance  0.009409\n",
      "6         6          stdDevDistance  0.012653\n",
      "7         7          stdDevDistance  0.019241\n",
      "8         8          stdDevDistance  0.000000\n",
      "9         9          stdDevDistance  0.003132\n",
      "10       10          stdDevDistance  0.011591\n",
      "11       11          stdDevDistance  0.022267\n",
      "12       12          stdDevDistance  0.003669\n",
      "13       13          stdDevDistance  0.011210\n",
      "14       14          stdDevDistance  0.021915\n",
      "15       15          stdDevDistance  0.013525\n",
      "16       16          stdDevDistance  0.013455\n",
      "17       17          stdDevDistance  0.013109\n",
      "18       18          stdDevDistance  0.013017\n",
      "19       19          stdDevDistance  0.024090\n",
      "20       20          stdDevDistance  0.023323\n",
      "21       21          stdDevDistance  0.022625\n",
      "22       22          stdDevDistance  0.024261\n",
      "23       23          stdDevDistance  0.024078\n",
      "24       24          stdDevDistance  0.022758\n",
      "25        0     sampleMatchDistance  0.016513\n",
      "26        1     sampleMatchDistance  0.013582\n",
      "27        2     sampleMatchDistance  0.013407\n",
      "28        3     sampleMatchDistance  0.003661\n",
      "29        4     sampleMatchDistance  0.010216\n",
      "..      ...                     ...       ...\n",
      "45       20     sampleMatchDistance  0.022171\n",
      "46       21     sampleMatchDistance  0.021202\n",
      "47       22     sampleMatchDistance  0.019415\n",
      "48       23     sampleMatchDistance  0.022235\n",
      "49       24     sampleMatchDistance  0.018653\n",
      "50        0  sampleNonMatchDistance  0.008623\n",
      "51        1  sampleNonMatchDistance  0.006029\n",
      "52        2  sampleNonMatchDistance  0.012724\n",
      "53        3  sampleNonMatchDistance  0.039751\n",
      "54        4  sampleNonMatchDistance  0.106895\n",
      "55        5  sampleNonMatchDistance  0.005794\n",
      "56        6  sampleNonMatchDistance  0.038598\n",
      "57        7  sampleNonMatchDistance  0.122845\n",
      "58        8  sampleNonMatchDistance  0.000000\n",
      "59        9  sampleNonMatchDistance  0.000892\n",
      "60       10  sampleNonMatchDistance  0.020298\n",
      "61       11  sampleNonMatchDistance  0.050920\n",
      "62       12  sampleNonMatchDistance  0.004698\n",
      "63       13  sampleNonMatchDistance  0.029020\n",
      "64       14  sampleNonMatchDistance  0.054751\n",
      "65       15  sampleNonMatchDistance  0.008422\n",
      "66       16  sampleNonMatchDistance  0.008892\n",
      "67       17  sampleNonMatchDistance  0.013142\n",
      "68       18  sampleNonMatchDistance  0.010644\n",
      "69       19  sampleNonMatchDistance  0.088638\n",
      "70       20  sampleNonMatchDistance  0.084248\n",
      "71       21  sampleNonMatchDistance  0.052651\n",
      "72       22  sampleNonMatchDistance  0.070108\n",
      "73       23  sampleNonMatchDistance  0.061954\n",
      "74       24  sampleNonMatchDistance  0.049054\n",
      "\n",
      "[75 rows x 3 columns]\n"
     ]
    }
   ],
   "source": [
    "poseName = 'Second-Position'\n",
    "features = [0,1,2,3,4,5,6,7,8,9,10,11,12,13,14,15,16,17,18,19,20,21,22,23,24]\n",
    "stdDevDistance = np.load(os.path.join('Stats', poseName+'DistanceStdDevAdded.npy'))\n",
    "sampleMatchDistance = np.load(os.path.join('Stats', poseName+'DistanceSampleMatch.npy'))\n",
    "sampleNonMatchDistance = np.load(os.path.join('Stats', poseName+'DistanceSampleNonMatch.npy'))\n",
    "df = pd.DataFrame(list(zip(features, stdDevDistance, sampleMatchDistance,sampleNonMatchDistance)), columns =['Feature','stdDevDistance','sampleMatchDistance','sampleNonMatchDistance'])\n",
    "print(df)\n",
    "\n",
    "df2 = pd.melt(df, id_vars = \"Feature\", var_name = \"Measure\", value_name = \"Distance\")\n",
    "print(df2)"
   ]
  },
  {
   "cell_type": "code",
   "execution_count": 3,
   "metadata": {},
   "outputs": [
    {
     "data": {
      "text/plain": [
       "<matplotlib.axes._subplots.AxesSubplot at 0x27c5b797ef0>"
      ]
     },
     "execution_count": 3,
     "metadata": {},
     "output_type": "execute_result"
    },
    {
     "data": {
      "image/png": "[encoded data removed]",
      "text/plain": [
       "<Figure size 720x720 with 1 Axes>"
      ]
     },
     "metadata": {
      "needs_background": "light"
     },
     "output_type": "display_data"
    }
   ],
   "source": [
    "fig, ax1 = plt.subplots(figsize=(10, 10))\n",
    "plt.title(\"Histogram of Distance Vectors\")\n",
    "sns.barplot(x=\"Feature\", y=\"Distance\", hue = 'Measure',data=df2,palette=\"pastel\")"
   ]
  },
  {
   "cell_type": "code",
   "execution_count": 4,
   "metadata": {},
   "outputs": [
    {
     "name": "stdout",
     "output_type": "stream",
     "text": [
      "    Feature  Standard Deviation  Sample Match\n",
      "0         0            0.013431      0.016513\n",
      "1         1            0.009327      0.013582\n",
      "2         2            0.009927      0.013407\n",
      "3         3            0.010565      0.003661\n",
      "4         4            0.016812      0.010216\n",
      "5         5            0.009409      0.015481\n",
      "6         6            0.012653      0.010062\n",
      "7         7            0.019241      0.016536\n",
      "8         8            0.000000      0.000000\n",
      "9         9            0.003132      0.003074\n",
      "10       10            0.011591      0.012462\n",
      "11       11            0.022267      0.016366\n",
      "12       12            0.003669      0.000678\n",
      "13       13            0.011210      0.009243\n",
      "14       14            0.021915      0.014344\n",
      "15       15            0.013525      0.017914\n",
      "16       16            0.013455      0.018370\n",
      "17       17            0.013109      0.014174\n",
      "18       18            0.013017      0.014411\n",
      "19       19            0.024090      0.019409\n",
      "20       20            0.023323      0.022171\n",
      "21       21            0.022625      0.021202\n",
      "22       22            0.024261      0.019415\n",
      "23       23            0.024078      0.022235\n",
      "24       24            0.022758      0.018653\n",
      "    Feature             Measure  Distance\n",
      "0         0  Standard Deviation  0.013431\n",
      "1         1  Standard Deviation  0.009327\n",
      "2         2  Standard Deviation  0.009927\n",
      "3         3  Standard Deviation  0.010565\n",
      "4         4  Standard Deviation  0.016812\n",
      "5         5  Standard Deviation  0.009409\n",
      "6         6  Standard Deviation  0.012653\n",
      "7         7  Standard Deviation  0.019241\n",
      "8         8  Standard Deviation  0.000000\n",
      "9         9  Standard Deviation  0.003132\n",
      "10       10  Standard Deviation  0.011591\n",
      "11       11  Standard Deviation  0.022267\n",
      "12       12  Standard Deviation  0.003669\n",
      "13       13  Standard Deviation  0.011210\n",
      "14       14  Standard Deviation  0.021915\n",
      "15       15  Standard Deviation  0.013525\n",
      "16       16  Standard Deviation  0.013455\n",
      "17       17  Standard Deviation  0.013109\n",
      "18       18  Standard Deviation  0.013017\n",
      "19       19  Standard Deviation  0.024090\n",
      "20       20  Standard Deviation  0.023323\n",
      "21       21  Standard Deviation  0.022625\n",
      "22       22  Standard Deviation  0.024261\n",
      "23       23  Standard Deviation  0.024078\n",
      "24       24  Standard Deviation  0.022758\n",
      "25        0        Sample Match  0.016513\n",
      "26        1        Sample Match  0.013582\n",
      "27        2        Sample Match  0.013407\n",
      "28        3        Sample Match  0.003661\n",
      "29        4        Sample Match  0.010216\n",
      "30        5        Sample Match  0.015481\n",
      "31        6        Sample Match  0.010062\n",
      "32        7        Sample Match  0.016536\n",
      "33        8        Sample Match  0.000000\n",
      "34        9        Sample Match  0.003074\n",
      "35       10        Sample Match  0.012462\n",
      "36       11        Sample Match  0.016366\n",
      "37       12        Sample Match  0.000678\n",
      "38       13        Sample Match  0.009243\n",
      "39       14        Sample Match  0.014344\n",
      "40       15        Sample Match  0.017914\n",
      "41       16        Sample Match  0.018370\n",
      "42       17        Sample Match  0.014174\n",
      "43       18        Sample Match  0.014411\n",
      "44       19        Sample Match  0.019409\n",
      "45       20        Sample Match  0.022171\n",
      "46       21        Sample Match  0.021202\n",
      "47       22        Sample Match  0.019415\n",
      "48       23        Sample Match  0.022235\n",
      "49       24        Sample Match  0.018653\n"
     ]
    }
   ],
   "source": [
    "#Distance histogram match:\n",
    "features = [0,1,2,3,4,5,6,7,8,9,10,11,12,13,14,15,16,17,18,19,20,21,22,23,24]\n",
    "stdDevDistance = np.load(os.path.join('Stats', poseName+'DistanceStdDevAdded.npy'))\n",
    "sampleMatchDistance = np.load(os.path.join('Stats', poseName+'DistanceSampleMatch.npy'))\n",
    "#sampleNonMatchDistance = np.load(os.path.join('NumpyArabesque', 'DistanceSampleNonMatch.npy'))\n",
    "df = pd.DataFrame(list(zip(features, stdDevDistance, sampleMatchDistance)), columns =['Feature','Standard Deviation','Sample Match'])\n",
    "print(df)\n",
    "\n",
    "df2 = pd.melt(df, id_vars = \"Feature\", var_name = \"Measure\", value_name = \"Distance\")\n",
    "print(df2)\n",
    "#sns.histplot(x=x,y=y)"
   ]
  },
  {
   "cell_type": "code",
   "execution_count": 5,
   "metadata": {},
   "outputs": [
    {
     "data": {
      "text/plain": [
       "<matplotlib.axes._subplots.AxesSubplot at 0x27c6059ce10>"
      ]
     },
     "execution_count": 5,
     "metadata": {},
     "output_type": "execute_result"
    },
    {
     "data": {
      "image/png": "[encoded data removed]",
      "text/plain": [
       "<Figure size 720x720 with 1 Axes>"
      ]
     },
     "metadata": {
      "needs_background": "light"
     },
     "output_type": "display_data"
    }
   ],
   "source": [
    "fig, ax1 = plt.subplots(figsize=(10, 10))\n",
    "plt.title(\"Distance Histogram of Features for \"+poseName+\" Sample Match\")\n",
    "sns.barplot(x=\"Feature\", y=\"Distance\", hue = 'Measure',data=df2,palette=\"pastel\")"
   ]
  },
  {
   "cell_type": "code",
   "execution_count": 6,
   "metadata": {},
   "outputs": [
    {
     "name": "stdout",
     "output_type": "stream",
     "text": [
      "    Feature  Standard Deviation  Sample Non-Match\n",
      "0         0            0.013431          0.008623\n",
      "1         1            0.009327          0.006029\n",
      "2         2            0.009927          0.012724\n",
      "3         3            0.010565          0.039751\n",
      "4         4            0.016812          0.106895\n",
      "5         5            0.009409          0.005794\n",
      "6         6            0.012653          0.038598\n",
      "7         7            0.019241          0.122845\n",
      "8         8            0.000000          0.000000\n",
      "9         9            0.003132          0.000892\n",
      "10       10            0.011591          0.020298\n",
      "11       11            0.022267          0.050920\n",
      "12       12            0.003669          0.004698\n",
      "13       13            0.011210          0.029020\n",
      "14       14            0.021915          0.054751\n",
      "15       15            0.013525          0.008422\n",
      "16       16            0.013455          0.008892\n",
      "17       17            0.013109          0.013142\n",
      "18       18            0.013017          0.010644\n",
      "19       19            0.024090          0.088638\n",
      "20       20            0.023323          0.084248\n",
      "21       21            0.022625          0.052651\n",
      "22       22            0.024261          0.070108\n",
      "23       23            0.024078          0.061954\n",
      "24       24            0.022758          0.049054\n",
      "    Feature             Measure  Distance\n",
      "0         0  Standard Deviation  0.013431\n",
      "1         1  Standard Deviation  0.009327\n",
      "2         2  Standard Deviation  0.009927\n",
      "3         3  Standard Deviation  0.010565\n",
      "4         4  Standard Deviation  0.016812\n",
      "5         5  Standard Deviation  0.009409\n",
      "6         6  Standard Deviation  0.012653\n",
      "7         7  Standard Deviation  0.019241\n",
      "8         8  Standard Deviation  0.000000\n",
      "9         9  Standard Deviation  0.003132\n",
      "10       10  Standard Deviation  0.011591\n",
      "11       11  Standard Deviation  0.022267\n",
      "12       12  Standard Deviation  0.003669\n",
      "13       13  Standard Deviation  0.011210\n",
      "14       14  Standard Deviation  0.021915\n",
      "15       15  Standard Deviation  0.013525\n",
      "16       16  Standard Deviation  0.013455\n",
      "17       17  Standard Deviation  0.013109\n",
      "18       18  Standard Deviation  0.013017\n",
      "19       19  Standard Deviation  0.024090\n",
      "20       20  Standard Deviation  0.023323\n",
      "21       21  Standard Deviation  0.022625\n",
      "22       22  Standard Deviation  0.024261\n",
      "23       23  Standard Deviation  0.024078\n",
      "24       24  Standard Deviation  0.022758\n",
      "25        0    Sample Non-Match  0.008623\n",
      "26        1    Sample Non-Match  0.006029\n",
      "27        2    Sample Non-Match  0.012724\n",
      "28        3    Sample Non-Match  0.039751\n",
      "29        4    Sample Non-Match  0.106895\n",
      "30        5    Sample Non-Match  0.005794\n",
      "31        6    Sample Non-Match  0.038598\n",
      "32        7    Sample Non-Match  0.122845\n",
      "33        8    Sample Non-Match  0.000000\n",
      "34        9    Sample Non-Match  0.000892\n",
      "35       10    Sample Non-Match  0.020298\n",
      "36       11    Sample Non-Match  0.050920\n",
      "37       12    Sample Non-Match  0.004698\n",
      "38       13    Sample Non-Match  0.029020\n",
      "39       14    Sample Non-Match  0.054751\n",
      "40       15    Sample Non-Match  0.008422\n",
      "41       16    Sample Non-Match  0.008892\n",
      "42       17    Sample Non-Match  0.013142\n",
      "43       18    Sample Non-Match  0.010644\n",
      "44       19    Sample Non-Match  0.088638\n",
      "45       20    Sample Non-Match  0.084248\n",
      "46       21    Sample Non-Match  0.052651\n",
      "47       22    Sample Non-Match  0.070108\n",
      "48       23    Sample Non-Match  0.061954\n",
      "49       24    Sample Non-Match  0.049054\n"
     ]
    }
   ],
   "source": [
    "#Distance histogram non-match:\n",
    "features = [0,1,2,3,4,5,6,7,8,9,10,11,12,13,14,15,16,17,18,19,20,21,22,23,24]\n",
    "stdDevDistance = np.load(os.path.join('Stats', poseName+'DistanceStdDevAdded.npy'))\n",
    "sampleNonMatchDistance = np.load(os.path.join('Stats', poseName+'DistanceSampleNonMatch.npy'))\n",
    "df = pd.DataFrame(list(zip(features, stdDevDistance, sampleNonMatchDistance)), columns =['Feature','Standard Deviation','Sample Non-Match'])\n",
    "print(df)\n",
    "\n",
    "df2 = pd.melt(df, id_vars = \"Feature\", var_name = \"Measure\", value_name = \"Distance\")\n",
    "print(df2)\n",
    "#sns.histplot(x=x,y=y)"
   ]
  },
  {
   "cell_type": "code",
   "execution_count": 7,
   "metadata": {},
   "outputs": [
    {
     "data": {
      "text/plain": [
       "<matplotlib.axes._subplots.AxesSubplot at 0x27c60356080>"
      ]
     },
     "execution_count": 7,
     "metadata": {},
     "output_type": "execute_result"
    },
    {
     "data": {
      "image/png": "[encoded data removed]",
      "text/plain": [
       "<Figure size 720x720 with 1 Axes>"
      ]
     },
     "metadata": {
      "needs_background": "light"
     },
     "output_type": "display_data"
    }
   ],
   "source": [
    "fig, ax1 = plt.subplots(figsize=(10, 10))\n",
    "plt.title(\"Distance Histogram of Features for \"+ poseName+\" Sample Non-Match\")\n",
    "sns.barplot(x=\"Feature\", y=\"Distance\", hue = 'Measure',data=df2,palette=\"pastel\")"
   ]
  },
  {
   "cell_type": "code",
   "execution_count": null,
   "metadata": {},
   "outputs": [],
   "source": []
  }
 ],
 "metadata": {
  "kernelspec": {
   "display_name": "python-gpu-env",
   "language": "python",
   "name": "python-gpu-env"
  },
  "language_info": {
   "codemirror_mode": {
    "name": "ipython",
    "version": 3
   },
   "file_extension": ".py",
   "mimetype": "text/x-python",
   "name": "python",
   "nbconvert_exporter": "python",
   "pygments_lexer": "ipython3",
   "version": "3.6.8"
  }
 },
 "nbformat": 4,
 "nbformat_minor": 2
}
