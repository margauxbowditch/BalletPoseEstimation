{
 "cells": [
  {
   "cell_type": "code",
   "execution_count": 1,
   "metadata": {},
   "outputs": [],
   "source": [
    "from scipy import stats, integrate\n",
    "import numpy as np\n",
    "import seaborn as sns\n",
    "import matplotlib.pyplot as plt"
   ]
  },
  {
   "cell_type": "code",
   "execution_count": 2,
   "metadata": {},
   "outputs": [
    {
     "name": "stdout",
     "output_type": "stream",
     "text": [
      "[[0.51232  0.504157 0.473509 ... 0.477557 0.479664 0.520434]\n",
      " [0.514263 0.502024 0.473399 ... 0.479538 0.483625 0.522431]\n",
      " [0.518342 0.506019 0.473427 ... 0.475482 0.479553 0.516298]\n",
      " ...\n",
      " [0.493936 0.497987 0.46945  ... 0.483782 0.485865 0.518592]\n",
      " [0.493955 0.497969 0.469425 ... 0.483779 0.485846 0.518581]\n",
      " [0.495964 0.499972 0.469443 ... 0.485737 0.487799 0.51852 ]]\n",
      "870\n",
      "[[-0.276488 -0.344686 -0.339219 ... -0.761506 -0.75873  -0.758888]\n",
      " [-0.276551 -0.344727 -0.339236 ... -0.761682 -0.758919 -0.758982]\n",
      " [-0.276565 -0.344691 -0.331175 ... -0.761564 -0.758804 -0.759002]\n",
      " ...\n",
      " [-0.301091 -0.353013 -0.350395 ... -0.737085 -0.726271 -0.731722]\n",
      " [-0.298433 -0.352974 -0.350314 ... -0.737074 -0.726265 -0.731681]\n",
      " [-0.298396 -0.352971 -0.352844 ... -0.734398 -0.726157 -0.731617]]\n",
      "870\n"
     ]
    }
   ],
   "source": [
    "poseName = 'Tendu'\n",
    "xload = np.load('XYCSplitLists/all'+poseName+'XList.npy')\n",
    "print(xload)\n",
    "print(len(xload))\n",
    "yload = np.load('XYCSplitLists/all'+poseName+'YList.npy')\n",
    "print(yload)\n",
    "print(len(yload))\n",
    "\n",
    "#flatten the list of lists to a single list:\n",
    "y = [item for items in yload for item in items]\n",
    "\n",
    "x = [item for items in xload for item in items]"
   ]
  },
  {
   "cell_type": "code",
   "execution_count": 3,
   "metadata": {},
   "outputs": [
    {
     "data": {
      "image/png": "[encoded data removed]",
      "text/plain": [
       "<Figure size 576x576 with 1 Axes>"
      ]
     },
     "metadata": {
      "needs_background": "light"
     },
     "output_type": "display_data"
    }
   ],
   "source": [
    "#ax = sns.kdeplot(x = x,y = y,cmap = \"Blues\", shade = True,gridsize = 200)\n",
    "fig, ax = plt.subplots(figsize=(8,8))\n",
    "ax = sns.kdeplot(x = x,y = y,cmap = \"Blues\", shade = True)\n",
    "\n",
    "#plotKDE\n",
    "ax.set_frame_on(False)\n",
    "plt.title(poseName+' KDE')\n",
    "plt.xlim(0,1)\n",
    "plt.ylim(-1,0)\n",
    "plt.axis('on')\n",
    "plt.show()"
   ]
  },
  {
   "cell_type": "code",
   "execution_count": null,
   "metadata": {},
   "outputs": [],
   "source": []
  }
 ],
 "metadata": {
  "kernelspec": {
   "display_name": "python-gpu-env",
   "language": "python",
   "name": "python-gpu-env"
  },
  "language_info": {
   "codemirror_mode": {
    "name": "ipython",
    "version": 3
   },
   "file_extension": ".py",
   "mimetype": "text/x-python",
   "name": "python",
   "nbconvert_exporter": "python",
   "pygments_lexer": "ipython3",
   "version": "3.6.8"
  }
 },
 "nbformat": 4,
 "nbformat_minor": 2
}
