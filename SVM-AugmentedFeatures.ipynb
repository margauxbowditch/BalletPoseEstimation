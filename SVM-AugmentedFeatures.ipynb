{
 "cells": [
  {
   "cell_type": "code",
   "execution_count": null,
   "metadata": {},
   "outputs": [],
   "source": [
    "\n",
    "#remember train test split\n",
    "#path to sample from previous:\n",
    "#OneDrive - University of Johannesburg2019_Masters_Prac2019_Prototype_ImplementationOpenPosePipeLine_WithEER"
   ]
  }
 ],
 "metadata": {
  "kernelspec": {
   "display_name": "python-gpu-env",
   "language": "python",
   "name": "python-gpu-env"
  },
  "language_info": {
   "codemirror_mode": {
    "name": "ipython",
    "version": 3
   },
   "file_extension": ".py",
   "mimetype": "text/x-python",
   "name": "python",
   "nbconvert_exporter": "python",
   "pygments_lexer": "ipython3",
   "version": "3.6.8"
  }
 },
 "nbformat": 4,
 "nbformat_minor": 2
}
