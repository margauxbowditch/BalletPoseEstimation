{
 "cells": [
  {
   "cell_type": "code",
   "execution_count": 2,
   "metadata": {},
   "outputs": [],
   "source": [
    "import numpy as np\n",
    "import pandas as pd\n",
    "import matplotlib as plt\n",
    "import os\n",
    "import cv2\n",
    "from sklearn import svm\n",
    "from sklearn.preprocessing import label_binarize\n",
    "from sklearn.multiclass import OneVsRestClassifier\n",
    "from sklearn.metrics import roc_curve, auc\n",
    "from sklearn.model_selection import train_test_split"
   ]
  },
  {
   "cell_type": "code",
   "execution_count": 3,
   "metadata": {},
   "outputs": [
    {
     "name": "stdout",
     "output_type": "stream",
     "text": [
      "75\n",
      "5566\n",
      "1392\n"
     ]
    }
   ],
   "source": [
    "X = np.load(\"DataForSVM/XRootDATA.npy\")\n",
    "y = np.load(\"DataForSVM/yRootLabels.npy\")\n",
    "#print(len(X))\n",
    "#print(len(y))\n",
    "\n",
    "X_train, X_test, y_train, y_test = train_test_split(X, y, test_size=0.20, random_state=42)\n",
    "print(len(X_train[0]))\n",
    "print(len(X_train))\n",
    "print(len(X_test))"
   ]
  },
  {
   "cell_type": "code",
   "execution_count": 4,
   "metadata": {},
   "outputs": [
    {
     "name": "stdout",
     "output_type": "stream",
     "text": [
      "[[0.583838 0.35009  0.928336 0.555159 0.407303 0.937863 0.536767 0.399059\n",
      "  0.854594 0.485647 0.41016  0.900806 0.436605 0.418196 0.849698 0.577588\n",
      "  0.412712 0.839474 0.632772 0.39639  0.827755 0.679726 0.366298 0.887009\n",
      "  0.5      0.5      0.737107 0.487692 0.4917   0.679611 0.397889 0.47817\n",
      "  0.683587 0.314107 0.48905  0.662881 0.508192 0.518984 0.70926  0.487826\n",
      "  0.628019 0.716646 0.489825 0.739696 0.742958 0.577657 0.344593 0.907875\n",
      "  0.       0.       0.       0.559241 0.355541 0.841317 0.       0.\n",
      "  0.       0.528602 0.756158 0.648826 0.524487 0.755947 0.598545 0.485705\n",
      "  0.756131 0.646503 0.29172  0.489042 0.583154 0.291664 0.478157 0.66246\n",
      "  0.305932 0.486277 0.477683]\n",
      " [0.620432 0.467344 0.881184 0.583624 0.500006 0.854853 0.577568 0.48369\n",
      "  0.833111 0.546894 0.464496 0.818794 0.516317 0.439957 0.885884 0.593893\n",
      "  0.510895 0.772875 0.63471  0.548909 0.842856 0.679675 0.551843 0.833697\n",
      "  0.5      0.5      0.606257 0.501989 0.48096  0.644747 0.46927  0.404652\n",
      "  0.369795 0.403985 0.333851 0.446892 0.499953 0.521813 0.555995 0.491783\n",
      "  0.633486 0.436182 0.499996 0.728862 0.583059 0.618367 0.461867 0.946738\n",
      "  0.       0.       0.       0.602098 0.461757 0.880574 0.       0.\n",
      "  0.       0.526498 0.745211 0.40601  0.522393 0.742498 0.368073 0.497838\n",
      "  0.745185 0.424129 0.387593 0.290134 0.303009 0.387547 0.292971 0.286524\n",
      "  0.401812 0.325642 0.353133]]\n",
      "[0 3]\n",
      "[[0.499902 0.30372  0.949406 0.49998  0.369045 0.934857 0.469307 0.369089\n",
      "  0.899362 0.434616 0.407272 0.874551 0.451057 0.423735 0.839377 0.530687\n",
      "  0.366461 0.898979 0.571448 0.393855 0.862208 0.546848 0.418191 0.887812\n",
      "  0.5      0.5      0.826275 0.483568 0.500046 0.804618 0.495923 0.606284\n",
      "  0.835389 0.501996 0.698849 0.808792 0.516436 0.499954 0.803522 0.514308\n",
      "  0.608873 0.871373 0.501985 0.709834 0.775914 0.495851 0.295627 0.86009\n",
      "  0.504076 0.29559  0.843566 0.483741 0.306447 0.845084 0.514327 0.303884\n",
      "  0.912133 0.499909 0.742459 0.728555 0.510204 0.742451 0.754148 0.499947\n",
      "  0.720641 0.554735 0.499969 0.734362 0.488252 0.491817 0.728873 0.453385\n",
      "  0.504084 0.704389 0.450232]\n",
      " [0.632722 0.483676 0.928992 0.583743 0.497266 0.843656 0.581608 0.480813\n",
      "  0.802188 0.53876  0.440123 0.825972 0.49993  0.412757 0.845914 0.593897\n",
      "  0.516377 0.772351 0.61644  0.568151 0.873134 0.657224 0.603553 0.790805\n",
      "  0.5      0.5      0.743812 0.499997 0.480865 0.768845 0.469422 0.426445\n",
      "  0.471246 0.405999 0.333825 0.611982 0.500074 0.521745 0.747064 0.497888\n",
      "  0.609    0.758305 0.5082   0.698841 0.809367 0.6307   0.475425 0.863154\n",
      "  0.       0.       0.       0.612346 0.470056 0.811167 0.       0.\n",
      "  0.       0.538775 0.704478 0.724541 0.534758 0.704249 0.746863 0.502116\n",
      "  0.704465 0.838101 0.3877   0.292929 0.467652 0.389715 0.298354 0.479467\n",
      "  0.401996 0.322878 0.451641]]\n",
      "[6 3]\n",
      "[[1 0 0 0 0 0 0 0]\n",
      " [0 0 0 1 0 0 0 0]]\n",
      "ytestbin: [[0 0 0 0 0 0 1 0]\n",
      " [0 0 0 1 0 0 0 0]]\n"
     ]
    }
   ],
   "source": [
    "y_train_binarized = label_binarize(y_train, classes = [0,1,2,3,4,5,6,7])\n",
    "y_test_binarized = label_binarize(y_test, classes = [0,1,2,3,4,5,6,7])\n",
    "\n",
    "print(X_train[:2])\n",
    "print(y_train[:2])\n",
    "print(X_test[:2])\n",
    "print(y_test[:2])\n",
    "print(y_train_binarized[:2])\n",
    "print(\"ytestbin:\",y_test_binarized[:2])"
   ]
  },
  {
   "cell_type": "code",
   "execution_count": 5,
   "metadata": {},
   "outputs": [
    {
     "name": "stdout",
     "output_type": "stream",
     "text": [
      "Time: 3.9614052772521973 seconds\n",
      "[6 3]\n"
     ]
    }
   ],
   "source": [
    "random_state = np.random.RandomState(0)\n",
    "import time\n",
    "start_time = time.time()\n",
    "#Create the classifier\n",
    "clf = OneVsRestClassifier(svm.SVC(kernel='linear', probability = True, random_state = random_state))\n",
    "\n",
    "y_score = clf.fit(X_train, y_train).decision_function(X_test)\n",
    "\n",
    "#Predict the test data\n",
    "y_pred = clf.predict(X_test)\n",
    "\n",
    "print(\"Time: %s seconds\" % (time.time()-start_time))\n",
    "print(y_pred[:2])"
   ]
  },
  {
   "cell_type": "code",
   "execution_count": 6,
   "metadata": {},
   "outputs": [],
   "source": [
    "#save model\n",
    "import pickle\n",
    "filename = 'Models/svm_model_root_openpose_features.pkl'\n",
    "pickle.dump(clf, open(filename, 'wb'))"
   ]
  },
  {
   "cell_type": "code",
   "execution_count": 7,
   "metadata": {},
   "outputs": [
    {
     "name": "stdout",
     "output_type": "stream",
     "text": [
      "                 precision    recall  f1-score   support\n",
      "\n",
      "      Arabesque       1.00      1.00      1.00       190\n",
      "      Demi-Plie       1.00      1.00      1.00       184\n",
      "      Developpe       0.99      0.98      0.99       175\n",
      "         Penche       0.99      1.00      1.00       169\n",
      "         Retire       1.00      0.99      0.99       168\n",
      "Second-Position       1.00      1.00      1.00       155\n",
      "       Sus-sous       1.00      1.00      1.00       185\n",
      "          Tendu       0.98      1.00      0.99       166\n",
      "\n",
      "       accuracy                           1.00      1392\n",
      "      macro avg       1.00      1.00      1.00      1392\n",
      "   weighted avg       1.00      1.00      1.00      1392\n",
      "\n"
     ]
    }
   ],
   "source": [
    "#Metrics\n",
    "from sklearn import metrics\n",
    "from sklearn.metrics import confusion_matrix, classification_report\n",
    "\n",
    "print(classification_report(y_test,y_pred, target_names = ['Arabesque','Demi-Plie','Developpe','Penche','Retire','Second-Position','Sus-sous','Tendu']))"
   ]
  },
  {
   "cell_type": "code",
   "execution_count": 8,
   "metadata": {},
   "outputs": [
    {
     "name": "stdout",
     "output_type": "stream",
     "text": [
      "Accuracy: 0.9964080459770115\n"
     ]
    }
   ],
   "source": [
    "print(\"Accuracy:\", metrics.accuracy_score(y_test, y_pred))"
   ]
  },
  {
   "cell_type": "code",
   "execution_count": 9,
   "metadata": {},
   "outputs": [
    {
     "name": "stdout",
     "output_type": "stream",
     "text": [
      "Recall: 0.9963690476190477\n"
     ]
    }
   ],
   "source": [
    "print(\"Recall:\", metrics.recall_score(y_test, y_pred, average = 'macro'))"
   ]
  },
  {
   "cell_type": "code",
   "execution_count": 10,
   "metadata": {},
   "outputs": [
    {
     "name": "stdout",
     "output_type": "stream",
     "text": [
      "Precision: 0.9963232276185092\n"
     ]
    }
   ],
   "source": [
    "print(\"Precision:\", metrics.precision_score(y_test, y_pred, average = 'macro'))"
   ]
  },
  {
   "cell_type": "code",
   "execution_count": 11,
   "metadata": {},
   "outputs": [
    {
     "name": "stdout",
     "output_type": "stream",
     "text": [
      "F1 score: 0.9963265808482962\n"
     ]
    }
   ],
   "source": [
    "print(\"F1 score:\", metrics.f1_score(y_test,y_pred, average = 'macro'))"
   ]
  },
  {
   "cell_type": "code",
   "execution_count": 13,
   "metadata": {},
   "outputs": [
    {
     "name": "stdout",
     "output_type": "stream",
     "text": [
      "EER:0.00020542317173377156\n",
      "Equal Error Rate: 0.0002054231717337716\n"
     ]
    },
    {
     "data": {
      "image/png": "[encoded data removed]",
      "text/plain": [
       "<Figure size 432x288 with 1 Axes>"
      ]
     },
     "metadata": {
      "needs_background": "light"
     },
     "output_type": "display_data"
    }
   ],
   "source": [
    "import matplotlib.pyplot as plt\n",
    "#ROC and AUC\n",
    "fpr = dict()\n",
    "tpr = dict()\n",
    "fnr = dict()\n",
    "eer = dict()\n",
    "totalEER = 0\n",
    "roc_auc = dict()\n",
    "n_classes = 8\n",
    "\n",
    "#print(y_test.shape)\n",
    "#print(y_score.shape)\n",
    "#print(y_test_binarized.shape)\n",
    "#Compute ROC curve for each class:\n",
    "for i in range(n_classes):\n",
    "    fpr[i], tpr[i], _ = roc_curve(y_test_binarized[:, i], y_score[:, i])\n",
    "    fnr[i] = 1 - tpr[i]\n",
    "    eer[i] = fpr[i][np.nanargmin(np.absolute((fnr[i]-fpr[i])))]\n",
    "    totalEER += eer[i]\n",
    "    roc_auc[i] = auc(fpr[i], tpr[i])\n",
    "    \n",
    "averageEER = totalEER/8\n",
    "print(\"EER:\" +averageEER.astype(str))\n",
    "print('Equal Error Rate: {0:0.19f}'''.format(averageEER))\n",
    "    \n",
    "#Compute micro-average ROC curve and ROC area\n",
    "# Compute micro-average ROC curve and ROC area\n",
    "fpr[\"micro\"], tpr[\"micro\"], _ = roc_curve(y_test_binarized.ravel(), y_score.ravel())\n",
    "roc_auc[\"micro\"] = auc(fpr[\"micro\"], tpr[\"micro\"])\n",
    "    \n",
    "#Plot ROC Curves:\n",
    "plt.figure()\n",
    "\n",
    "# plt.plot(fpr[\"micro\"], tpr[\"micro\"],\n",
    "#          label='micro-average ROC curve (area = {0:0.2f})'\n",
    "#                ''.format(roc_auc[\"micro\"]))\n",
    "\n",
    "arr_classes = ['Arabesque','Demi-Plie','Developpe','Penche','Retire','Second-Position','Sus-sous','Tendu']\n",
    "\n",
    "\n",
    "for i in range(n_classes):\n",
    "    plt.plot(fpr[i], tpr[i], label='ROC curve of class {0} (area = {1:0.4f})'\n",
    "                                   ''.format(arr_classes[i], roc_auc[i]))\n",
    "\n",
    "plt.plot([0, 1], [0, 1], 'k--')\n",
    "plt.xlim([0.0, 1.0])\n",
    "plt.ylim([0.0, 1.05])\n",
    "plt.xlabel('False Positive Rate')\n",
    "plt.ylabel('True Positive Rate')\n",
    "plt.title('ROC Curve for OpenPose Coordinates + SVM')\n",
    "plt.legend(loc=\"lower right\")\n",
    "plt.show()"
   ]
  },
  {
   "cell_type": "code",
   "execution_count": 14,
   "metadata": {},
   "outputs": [
    {
     "name": "stdout",
     "output_type": "stream",
     "text": [
      "ROC AUC Score: 0.9989733688286097\n"
     ]
    }
   ],
   "source": [
    "from sklearn.metrics import roc_auc_score\n",
    "print(\"ROC AUC Score:\", roc_auc_score(y_test_binarized,y_score, average = 'macro'))"
   ]
  },
  {
   "cell_type": "code",
   "execution_count": 15,
   "metadata": {},
   "outputs": [
    {
     "name": "stdout",
     "output_type": "stream",
     "text": [
      "[[190   0   0   0   0   0   0   0]\n",
      " [  0 184   0   0   0   0   0   0]\n",
      " [  0   0 172   0   0   0   0   3]\n",
      " [  0   0   0 169   0   0   0   0]\n",
      " [  0   0   1   1 166   0   0   0]\n",
      " [  0   0   0   0   0 155   0   0]\n",
      " [  0   0   0   0   0   0 185   0]\n",
      " [  0   0   0   0   0   0   0 166]]\n"
     ]
    }
   ],
   "source": [
    "#confusion matrix\n",
    "print(confusion_matrix(y_test,y_pred))"
   ]
  },
  {
   "cell_type": "code",
   "execution_count": 16,
   "metadata": {},
   "outputs": [
    {
     "data": {
      "image/png": "[encoded data removed]",
      "text/plain": [
       "<Figure size 432x288 with 2 Axes>"
      ]
     },
     "metadata": {
      "needs_background": "light"
     },
     "output_type": "display_data"
    }
   ],
   "source": [
    "#Plot a confusion matrix\n",
    "from sklearn.utils.multiclass import unique_labels\n",
    "cm = confusion_matrix(y_test,y_pred)\n",
    "cmap = plt.cm.Blues\n",
    "classes = ['Arabesque','Demi-Plie','Developpe','Penche','Retire','Second-Position','Sus-sous','Tendu']\n",
    "\n",
    "fig, ax = plt.subplots()\n",
    "im = ax.imshow(cm, interpolation='nearest', cmap=cmap)\n",
    "ax.figure.colorbar(im, ax=ax)\n",
    "# We want to show all ticks...\n",
    "ax.set(xticks=np.arange(cm.shape[1]), yticks=np.arange(cm.shape[0]),\n",
    "           # ... and label them with the respective list entries\n",
    "           xticklabels=classes, yticklabels=classes,\n",
    "           title='OpenPose (XYC) Coordinate Features + SVM',\n",
    "           ylabel='True label',\n",
    "           xlabel='Predicted label')\n",
    "\n",
    "# Rotate the tick labels and set their alignment.\n",
    "plt.setp(ax.get_xticklabels(), rotation=45, ha=\"right\", rotation_mode=\"anchor\")\n",
    "# Loop over data dimensions and create text annotations.\n",
    "fmt = 'd'\n",
    "thresh = cm.max() / 2.\n",
    "for i in range(cm.shape[0]):\n",
    "    for j in range(cm.shape[1]):\n",
    "        ax.text(j, i, format(cm[i, j], fmt),\n",
    "                ha=\"center\", va=\"center\",\n",
    "                color=\"white\" if cm[i, j] > thresh else \"black\")\n",
    "fig.tight_layout()\n",
    "plt.show()\n"
   ]
  },
  {
   "cell_type": "code",
   "execution_count": 17,
   "metadata": {},
   "outputs": [
    {
     "name": "stdout",
     "output_type": "stream",
     "text": [
      "[[190   0   0   0   0   0   0   0]\n",
      " [  0 184   0   0   0   0   0   0]\n",
      " [  0   0 172   0   0   0   0   3]\n",
      " [  0   0   0 169   0   0   0   0]\n",
      " [  0   0   1   1 166   0   0   0]\n",
      " [  0   0   0   0   0 155   0   0]\n",
      " [  0   0   0   0   0   0 185   0]\n",
      " [  0   0   0   0   0   0   0 166]]\n",
      "FP: [0 0 1 1 0 0 0 3]\n",
      "FN: [0 0 3 0 2 0 0 0]\n",
      "TP: [190 184 172 169 166 155 185 166]\n",
      "TN: [0 0 1 1 0 0 0 3]\n"
     ]
    }
   ],
   "source": [
    "# get the FP, FN, TP, TN values\n",
    "conf_matrix = confusion_matrix(y_test,y_pred)\n",
    "print(conf_matrix)\n",
    "FP = conf_matrix.sum(axis=0) - np.diag(conf_matrix)\n",
    "print(\"FP:\", FP)\n",
    "FN = conf_matrix.sum(axis=1) - np.diag(conf_matrix)\n",
    "print(\"FN:\", FN)\n",
    "TP = np.diag(conf_matrix)\n",
    "print(\"TP:\", TP)\n",
    "TN = conf_matrix.sum() - (FP + FN + TP)\n",
    "print(\"TN:\", FP)"
   ]
  },
  {
   "cell_type": "code",
   "execution_count": 18,
   "metadata": {},
   "outputs": [
    {
     "name": "stdout",
     "output_type": "stream",
     "text": [
      "My FAR: 0.000513136288998358\n"
     ]
    }
   ],
   "source": [
    "FAR = (sum(FP))/(sum(FP)+sum(TN))\n",
    "print(\"My FAR:\", FAR)"
   ]
  },
  {
   "cell_type": "code",
   "execution_count": 19,
   "metadata": {},
   "outputs": [
    {
     "name": "stdout",
     "output_type": "stream",
     "text": [
      "TotalFAR: 0.004086336230543921\n",
      "Computed Average FAR: 0.0005107920288179901\n"
     ]
    }
   ],
   "source": [
    "totalFAR = 0\n",
    "for x in range(8):\n",
    "    totalFAR += (FP[x])/(FP[x]+TN[x])\n",
    "print(\"TotalFAR:\", totalFAR)\n",
    "avg = totalFAR/8\n",
    "print(\"Computed Average FAR:\", avg)"
   ]
  },
  {
   "cell_type": "code",
   "execution_count": 20,
   "metadata": {},
   "outputs": [
    {
     "name": "stdout",
     "output_type": "stream",
     "text": [
      "My FRR: 0.0035919540229885057\n"
     ]
    }
   ],
   "source": [
    "FRR = (sum(FN))/(sum(FN)+sum(TP))\n",
    "print(\"My FRR:\", FRR)"
   ]
  },
  {
   "cell_type": "code",
   "execution_count": 21,
   "metadata": {},
   "outputs": [
    {
     "name": "stdout",
     "output_type": "stream",
     "text": [
      "TotalFRR: 0.029047619047619048\n",
      "Computed Average FRR: 0.003630952380952381\n"
     ]
    }
   ],
   "source": [
    "totalFRR = 0\n",
    "for x in range(8):\n",
    "    totalFRR += (FN[x])/(FN[x]+TP[x])\n",
    "print(\"TotalFRR:\", totalFRR)\n",
    "avg = totalFRR/8\n",
    "print(\"Computed Average FRR:\", avg)"
   ]
  },
  {
   "cell_type": "code",
   "execution_count": 22,
   "metadata": {},
   "outputs": [
    {
     "name": "stdout",
     "output_type": "stream",
     "text": [
      "TotalSpecificity: 7.995913663769455\n",
      "Computed Average Specificity: 0.9994892079711819\n"
     ]
    }
   ],
   "source": [
    "#Specificity: TN/(TN+FP)\n",
    "totalSpecificity = 0\n",
    "for x in range(8):\n",
    "    totalSpecificity += (TN[x])/(TN[x]+FP[x])\n",
    "print(\"TotalSpecificity:\", totalSpecificity)\n",
    "avg = totalSpecificity/8\n",
    "print(\"Computed Average Specificity:\", avg)"
   ]
  },
  {
   "cell_type": "code",
   "execution_count": 23,
   "metadata": {},
   "outputs": [
    {
     "name": "stdout",
     "output_type": "stream",
     "text": [
      "[[-2.16252689 -1.64648764 -1.93540448 -1.75765643 -1.824054   -2.05190218\n",
      "   1.46082705 -1.971239  ]]\n"
     ]
    }
   ],
   "source": [
    "#y_score = clf.predict_proba(X_test)\n",
    "print(y_score[:1])"
   ]
  },
  {
   "cell_type": "code",
   "execution_count": null,
   "metadata": {},
   "outputs": [],
   "source": []
  }
 ],
 "metadata": {
  "kernelspec": {
   "display_name": "python-gpu-env",
   "language": "python",
   "name": "python-gpu-env"
  },
  "language_info": {
   "codemirror_mode": {
    "name": "ipython",
    "version": 3
   },
   "file_extension": ".py",
   "mimetype": "text/x-python",
   "name": "python",
   "nbconvert_exporter": "python",
   "pygments_lexer": "ipython3",
   "version": "3.6.8"
  }
 },
 "nbformat": 4,
 "nbformat_minor": 2
}
