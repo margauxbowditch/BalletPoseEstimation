{
 "cells": [
  {
   "cell_type": "code",
   "execution_count": 1,
   "metadata": {},
   "outputs": [],
   "source": [
    "import seaborn as sns\n",
    "import pandas as pd\n",
    "import numpy as np\n",
    "import matplotlib.pyplot as plt\n",
    "import os"
   ]
  },
  {
   "cell_type": "code",
   "execution_count": 3,
   "metadata": {},
   "outputs": [
    {
     "name": "stdout",
     "output_type": "stream",
     "text": [
      "    Feature  stdDevDistance  sampleMatchDistance  sampleNonMatchDistance\n",
      "0         0        0.015060             0.015931                0.254824\n",
      "1         1        0.010288             0.013230                0.168962\n",
      "2         2        0.010814             0.013738                0.167697\n",
      "3         3        0.014428             0.023964                0.169460\n",
      "4         4        0.019132             0.033500                0.178971\n",
      "5         5        0.011619             0.013043                0.172801\n",
      "6         6        0.013268             0.004790                0.073701\n",
      "7         7        0.018476             0.014642                0.735217\n",
      "8         8        0.000000             0.000000                0.000000\n",
      "9         9        0.005130             0.006364                0.021958\n",
      "10       10        0.017402             0.005249                0.197143\n",
      "11       11        0.031323             0.013645                0.426903\n",
      "12       12        0.005275             0.012902                0.022033\n",
      "13       13        0.055742             0.047857                0.090699\n",
      "14       14        0.129097             0.031236                0.188020\n",
      "15       15        0.014248             0.015981                0.250660\n",
      "16       16        0.014244             0.015879                0.593135\n",
      "17       17        0.094028             0.010364                0.238162\n",
      "18       18        0.106492             0.010496                0.590172\n",
      "19       19        0.162312             0.048500                0.230687\n",
      "20       20        0.221407             0.021075                0.254070\n",
      "21       21        0.137096             0.026608                0.194877\n",
      "22       22        0.034220             0.017428                0.495694\n",
      "23       23        0.033764             0.018319                0.488379\n",
      "24       24        0.044048             0.014420                0.446400\n",
      "    Feature                 Measure  Distance\n",
      "0         0          stdDevDistance  0.015060\n",
      "1         1          stdDevDistance  0.010288\n",
      "2         2          stdDevDistance  0.010814\n",
      "3         3          stdDevDistance  0.014428\n",
      "4         4          stdDevDistance  0.019132\n",
      "5         5          stdDevDistance  0.011619\n",
      "6         6          stdDevDistance  0.013268\n",
      "7         7          stdDevDistance  0.018476\n",
      "8         8          stdDevDistance  0.000000\n",
      "9         9          stdDevDistance  0.005130\n",
      "10       10          stdDevDistance  0.017402\n",
      "11       11          stdDevDistance  0.031323\n",
      "12       12          stdDevDistance  0.005275\n",
      "13       13          stdDevDistance  0.055742\n",
      "14       14          stdDevDistance  0.129097\n",
      "15       15          stdDevDistance  0.014248\n",
      "16       16          stdDevDistance  0.014244\n",
      "17       17          stdDevDistance  0.094028\n",
      "18       18          stdDevDistance  0.106492\n",
      "19       19          stdDevDistance  0.162312\n",
      "20       20          stdDevDistance  0.221407\n",
      "21       21          stdDevDistance  0.137096\n",
      "22       22          stdDevDistance  0.034220\n",
      "23       23          stdDevDistance  0.033764\n",
      "24       24          stdDevDistance  0.044048\n",
      "25        0     sampleMatchDistance  0.015931\n",
      "26        1     sampleMatchDistance  0.013230\n",
      "27        2     sampleMatchDistance  0.013738\n",
      "28        3     sampleMatchDistance  0.023964\n",
      "29        4     sampleMatchDistance  0.033500\n",
      "..      ...                     ...       ...\n",
      "45       20     sampleMatchDistance  0.021075\n",
      "46       21     sampleMatchDistance  0.026608\n",
      "47       22     sampleMatchDistance  0.017428\n",
      "48       23     sampleMatchDistance  0.018319\n",
      "49       24     sampleMatchDistance  0.014420\n",
      "50        0  sampleNonMatchDistance  0.254824\n",
      "51        1  sampleNonMatchDistance  0.168962\n",
      "52        2  sampleNonMatchDistance  0.167697\n",
      "53        3  sampleNonMatchDistance  0.169460\n",
      "54        4  sampleNonMatchDistance  0.178971\n",
      "55        5  sampleNonMatchDistance  0.172801\n",
      "56        6  sampleNonMatchDistance  0.073701\n",
      "57        7  sampleNonMatchDistance  0.735217\n",
      "58        8  sampleNonMatchDistance  0.000000\n",
      "59        9  sampleNonMatchDistance  0.021958\n",
      "60       10  sampleNonMatchDistance  0.197143\n",
      "61       11  sampleNonMatchDistance  0.426903\n",
      "62       12  sampleNonMatchDistance  0.022033\n",
      "63       13  sampleNonMatchDistance  0.090699\n",
      "64       14  sampleNonMatchDistance  0.188020\n",
      "65       15  sampleNonMatchDistance  0.250660\n",
      "66       16  sampleNonMatchDistance  0.593135\n",
      "67       17  sampleNonMatchDistance  0.238162\n",
      "68       18  sampleNonMatchDistance  0.590172\n",
      "69       19  sampleNonMatchDistance  0.230687\n",
      "70       20  sampleNonMatchDistance  0.254070\n",
      "71       21  sampleNonMatchDistance  0.194877\n",
      "72       22  sampleNonMatchDistance  0.495694\n",
      "73       23  sampleNonMatchDistance  0.488379\n",
      "74       24  sampleNonMatchDistance  0.446400\n",
      "\n",
      "[75 rows x 3 columns]\n"
     ]
    }
   ],
   "source": [
    "poseName = 'Develope'\n",
    "features = [0,1,2,3,4,5,6,7,8,9,10,11,12,13,14,15,16,17,18,19,20,21,22,23,24]\n",
    "stdDevDistance = np.load(os.path.join('Stats', poseName+'DistanceStdDevAdded.npy'))\n",
    "sampleMatchDistance = np.load(os.path.join('Stats', poseName+'DistanceSampleMatch.npy'))\n",
    "sampleNonMatchDistance = np.load(os.path.join('Stats', poseName+'DistanceSampleNonMatch.npy'))\n",
    "df = pd.DataFrame(list(zip(features, stdDevDistance, sampleMatchDistance,sampleNonMatchDistance)), columns =['Feature','stdDevDistance','sampleMatchDistance','sampleNonMatchDistance'])\n",
    "print(df)\n",
    "\n",
    "df2 = pd.melt(df, id_vars = \"Feature\", var_name = \"Measure\", value_name = \"Distance\")\n",
    "print(df2)"
   ]
  },
  {
   "cell_type": "code",
   "execution_count": 4,
   "metadata": {},
   "outputs": [
    {
     "data": {
      "text/plain": [
       "<matplotlib.axes._subplots.AxesSubplot at 0x1daf31c5048>"
      ]
     },
     "execution_count": 4,
     "metadata": {},
     "output_type": "execute_result"
    },
    {
     "data": {
      "image/png": "[encoded data removed]",
      "text/plain": [
       "<Figure size 720x720 with 1 Axes>"
      ]
     },
     "metadata": {
      "needs_background": "light"
     },
     "output_type": "display_data"
    }
   ],
   "source": [
    "fig, ax1 = plt.subplots(figsize=(10, 10))\n",
    "plt.title(\"Histogram of Distance Vectors\")\n",
    "sns.barplot(x=\"Feature\", y=\"Distance\", hue = 'Measure',data=df2,palette=\"pastel\")"
   ]
  },
  {
   "cell_type": "code",
   "execution_count": 5,
   "metadata": {},
   "outputs": [
    {
     "name": "stdout",
     "output_type": "stream",
     "text": [
      "    Feature  Standard Deviation  Sample Match\n",
      "0         0            0.015060      0.015931\n",
      "1         1            0.010288      0.013230\n",
      "2         2            0.010814      0.013738\n",
      "3         3            0.014428      0.023964\n",
      "4         4            0.019132      0.033500\n",
      "5         5            0.011619      0.013043\n",
      "6         6            0.013268      0.004790\n",
      "7         7            0.018476      0.014642\n",
      "8         8            0.000000      0.000000\n",
      "9         9            0.005130      0.006364\n",
      "10       10            0.017402      0.005249\n",
      "11       11            0.031323      0.013645\n",
      "12       12            0.005275      0.012902\n",
      "13       13            0.055742      0.047857\n",
      "14       14            0.129097      0.031236\n",
      "15       15            0.014248      0.015981\n",
      "16       16            0.014244      0.015879\n",
      "17       17            0.094028      0.010364\n",
      "18       18            0.106492      0.010496\n",
      "19       19            0.162312      0.048500\n",
      "20       20            0.221407      0.021075\n",
      "21       21            0.137096      0.026608\n",
      "22       22            0.034220      0.017428\n",
      "23       23            0.033764      0.018319\n",
      "24       24            0.044048      0.014420\n",
      "    Feature             Measure  Distance\n",
      "0         0  Standard Deviation  0.015060\n",
      "1         1  Standard Deviation  0.010288\n",
      "2         2  Standard Deviation  0.010814\n",
      "3         3  Standard Deviation  0.014428\n",
      "4         4  Standard Deviation  0.019132\n",
      "5         5  Standard Deviation  0.011619\n",
      "6         6  Standard Deviation  0.013268\n",
      "7         7  Standard Deviation  0.018476\n",
      "8         8  Standard Deviation  0.000000\n",
      "9         9  Standard Deviation  0.005130\n",
      "10       10  Standard Deviation  0.017402\n",
      "11       11  Standard Deviation  0.031323\n",
      "12       12  Standard Deviation  0.005275\n",
      "13       13  Standard Deviation  0.055742\n",
      "14       14  Standard Deviation  0.129097\n",
      "15       15  Standard Deviation  0.014248\n",
      "16       16  Standard Deviation  0.014244\n",
      "17       17  Standard Deviation  0.094028\n",
      "18       18  Standard Deviation  0.106492\n",
      "19       19  Standard Deviation  0.162312\n",
      "20       20  Standard Deviation  0.221407\n",
      "21       21  Standard Deviation  0.137096\n",
      "22       22  Standard Deviation  0.034220\n",
      "23       23  Standard Deviation  0.033764\n",
      "24       24  Standard Deviation  0.044048\n",
      "25        0        Sample Match  0.015931\n",
      "26        1        Sample Match  0.013230\n",
      "27        2        Sample Match  0.013738\n",
      "28        3        Sample Match  0.023964\n",
      "29        4        Sample Match  0.033500\n",
      "30        5        Sample Match  0.013043\n",
      "31        6        Sample Match  0.004790\n",
      "32        7        Sample Match  0.014642\n",
      "33        8        Sample Match  0.000000\n",
      "34        9        Sample Match  0.006364\n",
      "35       10        Sample Match  0.005249\n",
      "36       11        Sample Match  0.013645\n",
      "37       12        Sample Match  0.012902\n",
      "38       13        Sample Match  0.047857\n",
      "39       14        Sample Match  0.031236\n",
      "40       15        Sample Match  0.015981\n",
      "41       16        Sample Match  0.015879\n",
      "42       17        Sample Match  0.010364\n",
      "43       18        Sample Match  0.010496\n",
      "44       19        Sample Match  0.048500\n",
      "45       20        Sample Match  0.021075\n",
      "46       21        Sample Match  0.026608\n",
      "47       22        Sample Match  0.017428\n",
      "48       23        Sample Match  0.018319\n",
      "49       24        Sample Match  0.014420\n"
     ]
    }
   ],
   "source": [
    "#Distance histogram match:\n",
    "features = [0,1,2,3,4,5,6,7,8,9,10,11,12,13,14,15,16,17,18,19,20,21,22,23,24]\n",
    "stdDevDistance = np.load(os.path.join('Stats', poseName+'DistanceStdDevAdded.npy'))\n",
    "sampleMatchDistance = np.load(os.path.join('Stats', poseName+'DistanceSampleMatch.npy'))\n",
    "#sampleNonMatchDistance = np.load(os.path.join('NumpyArabesque', 'DistanceSampleNonMatch.npy'))\n",
    "df = pd.DataFrame(list(zip(features, stdDevDistance, sampleMatchDistance)), columns =['Feature','Standard Deviation','Sample Match'])\n",
    "print(df)\n",
    "\n",
    "df2 = pd.melt(df, id_vars = \"Feature\", var_name = \"Measure\", value_name = \"Distance\")\n",
    "print(df2)\n",
    "#sns.histplot(x=x,y=y)"
   ]
  },
  {
   "cell_type": "code",
   "execution_count": 6,
   "metadata": {},
   "outputs": [
    {
     "data": {
      "text/plain": [
       "<matplotlib.axes._subplots.AxesSubplot at 0x1daf391cdd8>"
      ]
     },
     "execution_count": 6,
     "metadata": {},
     "output_type": "execute_result"
    },
    {
     "data": {
      "image/png": "[encoded data removed]",
      "text/plain": [
       "<Figure size 720x720 with 1 Axes>"
      ]
     },
     "metadata": {
      "needs_background": "light"
     },
     "output_type": "display_data"
    }
   ],
   "source": [
    "fig, ax1 = plt.subplots(figsize=(10, 10))\n",
    "plt.title(\"Distance Histogram of Features for \"+poseName+\" Sample Match\")\n",
    "sns.barplot(x=\"Feature\", y=\"Distance\", hue = 'Measure',data=df2,palette=\"pastel\")"
   ]
  },
  {
   "cell_type": "code",
   "execution_count": 7,
   "metadata": {},
   "outputs": [
    {
     "name": "stdout",
     "output_type": "stream",
     "text": [
      "    Feature  Standard Deviation  Sample Non-Match\n",
      "0         0            0.015060          0.254824\n",
      "1         1            0.010288          0.168962\n",
      "2         2            0.010814          0.167697\n",
      "3         3            0.014428          0.169460\n",
      "4         4            0.019132          0.178971\n",
      "5         5            0.011619          0.172801\n",
      "6         6            0.013268          0.073701\n",
      "7         7            0.018476          0.735217\n",
      "8         8            0.000000          0.000000\n",
      "9         9            0.005130          0.021958\n",
      "10       10            0.017402          0.197143\n",
      "11       11            0.031323          0.426903\n",
      "12       12            0.005275          0.022033\n",
      "13       13            0.055742          0.090699\n",
      "14       14            0.129097          0.188020\n",
      "15       15            0.014248          0.250660\n",
      "16       16            0.014244          0.593135\n",
      "17       17            0.094028          0.238162\n",
      "18       18            0.106492          0.590172\n",
      "19       19            0.162312          0.230687\n",
      "20       20            0.221407          0.254070\n",
      "21       21            0.137096          0.194877\n",
      "22       22            0.034220          0.495694\n",
      "23       23            0.033764          0.488379\n",
      "24       24            0.044048          0.446400\n",
      "    Feature             Measure  Distance\n",
      "0         0  Standard Deviation  0.015060\n",
      "1         1  Standard Deviation  0.010288\n",
      "2         2  Standard Deviation  0.010814\n",
      "3         3  Standard Deviation  0.014428\n",
      "4         4  Standard Deviation  0.019132\n",
      "5         5  Standard Deviation  0.011619\n",
      "6         6  Standard Deviation  0.013268\n",
      "7         7  Standard Deviation  0.018476\n",
      "8         8  Standard Deviation  0.000000\n",
      "9         9  Standard Deviation  0.005130\n",
      "10       10  Standard Deviation  0.017402\n",
      "11       11  Standard Deviation  0.031323\n",
      "12       12  Standard Deviation  0.005275\n",
      "13       13  Standard Deviation  0.055742\n",
      "14       14  Standard Deviation  0.129097\n",
      "15       15  Standard Deviation  0.014248\n",
      "16       16  Standard Deviation  0.014244\n",
      "17       17  Standard Deviation  0.094028\n",
      "18       18  Standard Deviation  0.106492\n",
      "19       19  Standard Deviation  0.162312\n",
      "20       20  Standard Deviation  0.221407\n",
      "21       21  Standard Deviation  0.137096\n",
      "22       22  Standard Deviation  0.034220\n",
      "23       23  Standard Deviation  0.033764\n",
      "24       24  Standard Deviation  0.044048\n",
      "25        0    Sample Non-Match  0.254824\n",
      "26        1    Sample Non-Match  0.168962\n",
      "27        2    Sample Non-Match  0.167697\n",
      "28        3    Sample Non-Match  0.169460\n",
      "29        4    Sample Non-Match  0.178971\n",
      "30        5    Sample Non-Match  0.172801\n",
      "31        6    Sample Non-Match  0.073701\n",
      "32        7    Sample Non-Match  0.735217\n",
      "33        8    Sample Non-Match  0.000000\n",
      "34        9    Sample Non-Match  0.021958\n",
      "35       10    Sample Non-Match  0.197143\n",
      "36       11    Sample Non-Match  0.426903\n",
      "37       12    Sample Non-Match  0.022033\n",
      "38       13    Sample Non-Match  0.090699\n",
      "39       14    Sample Non-Match  0.188020\n",
      "40       15    Sample Non-Match  0.250660\n",
      "41       16    Sample Non-Match  0.593135\n",
      "42       17    Sample Non-Match  0.238162\n",
      "43       18    Sample Non-Match  0.590172\n",
      "44       19    Sample Non-Match  0.230687\n",
      "45       20    Sample Non-Match  0.254070\n",
      "46       21    Sample Non-Match  0.194877\n",
      "47       22    Sample Non-Match  0.495694\n",
      "48       23    Sample Non-Match  0.488379\n",
      "49       24    Sample Non-Match  0.446400\n"
     ]
    }
   ],
   "source": [
    "#Distance histogram non-match:\n",
    "features = [0,1,2,3,4,5,6,7,8,9,10,11,12,13,14,15,16,17,18,19,20,21,22,23,24]\n",
    "stdDevDistance = np.load(os.path.join('Stats', poseName+'DistanceStdDevAdded.npy'))\n",
    "sampleNonMatchDistance = np.load(os.path.join('Stats', poseName+'DistanceSampleNonMatch.npy'))\n",
    "df = pd.DataFrame(list(zip(features, stdDevDistance, sampleNonMatchDistance)), columns =['Feature','Standard Deviation','Sample Non-Match'])\n",
    "print(df)\n",
    "\n",
    "df2 = pd.melt(df, id_vars = \"Feature\", var_name = \"Measure\", value_name = \"Distance\")\n",
    "print(df2)\n",
    "#sns.histplot(x=x,y=y)"
   ]
  },
  {
   "cell_type": "code",
   "execution_count": 8,
   "metadata": {},
   "outputs": [
    {
     "data": {
      "text/plain": [
       "<matplotlib.axes._subplots.AxesSubplot at 0x1daf3857c88>"
      ]
     },
     "execution_count": 8,
     "metadata": {},
     "output_type": "execute_result"
    },
    {
     "data": {
      "image/png": "[encoded data removed]",
      "text/plain": [
       "<Figure size 720x720 with 1 Axes>"
      ]
     },
     "metadata": {
      "needs_background": "light"
     },
     "output_type": "display_data"
    }
   ],
   "source": [
    "fig, ax1 = plt.subplots(figsize=(10, 10))\n",
    "plt.title(\"Distance Histogram of Features for \"+ poseName+\" Sample Non-Match\")\n",
    "sns.barplot(x=\"Feature\", y=\"Distance\", hue = 'Measure',data=df2,palette=\"pastel\")"
   ]
  },
  {
   "cell_type": "code",
   "execution_count": null,
   "metadata": {},
   "outputs": [],
   "source": []
  }
 ],
 "metadata": {
  "kernelspec": {
   "display_name": "python-gpu-env",
   "language": "python",
   "name": "python-gpu-env"
  },
  "language_info": {
   "codemirror_mode": {
    "name": "ipython",
    "version": 3
   },
   "file_extension": ".py",
   "mimetype": "text/x-python",
   "name": "python",
   "nbconvert_exporter": "python",
   "pygments_lexer": "ipython3",
   "version": "3.6.8"
  }
 },
 "nbformat": 4,
 "nbformat_minor": 2
}
