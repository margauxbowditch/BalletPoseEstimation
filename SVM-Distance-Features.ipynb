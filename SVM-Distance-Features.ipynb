{
 "cells": [
  {
   "cell_type": "code",
   "execution_count": 1,
   "metadata": {},
   "outputs": [],
   "source": [
    "import numpy as np\n",
    "import pandas as pd\n",
    "import matplotlib as plt\n",
    "import os\n",
    "import cv2\n",
    "from sklearn import svm\n",
    "from sklearn.preprocessing import label_binarize\n",
    "from sklearn.multiclass import OneVsRestClassifier\n",
    "from sklearn.metrics import roc_curve, auc\n",
    "from sklearn.model_selection import train_test_split"
   ]
  },
  {
   "cell_type": "code",
   "execution_count": 4,
   "metadata": {},
   "outputs": [
    {
     "name": "stdout",
     "output_type": "stream",
     "text": [
      "5566\n",
      "1392\n"
     ]
    }
   ],
   "source": [
    "X = np.load(\"DataForSVM/XDistDATA.npy\")\n",
    "y = np.load(\"DataForSVM/yDistLabels.npy\")\n",
    "#print(len(X))\n",
    "#print(len(y))\n",
    "\n",
    "X_train, X_test, y_train, y_test = train_test_split(X, y, test_size=0.20, random_state=42)\n",
    "print(len(X_train))\n",
    "print(len(X_test))"
   ]
  },
  {
   "cell_type": "code",
   "execution_count": 5,
   "metadata": {},
   "outputs": [
    {
     "name": "stdout",
     "output_type": "stream",
     "text": [
      "[[0.03306811 0.02460417 0.02163008 0.02026076 0.02543335 0.02605774\n",
      "  0.02343151 0.01731431 0.0024383  0.01214647 0.04477776 0.08004777\n",
      "  0.01128881 0.01179574 0.01730052 0.03430451 0.00523804 0.0349786\n",
      "  0.         0.03360657 0.05482653 0.03288079 0.08841109 0.0904956\n",
      "  0.08529456]\n",
      " [0.01220223 0.00880626 0.0144464  0.02708317 0.03832436 0.00400366\n",
      "  0.01931908 0.05590513 0.         0.00350501 0.04903034 0.06698304\n",
      "  0.00259382 0.02304629 0.04290092 0.01090041 0.01289391 0.01136797\n",
      "  0.         0.0648334  0.10333054 0.06925525 0.06606434 0.07980505\n",
      "  0.06066799]]\n",
      "[0 3]\n",
      "[[0.01813677 0.01591639 0.01599554 0.01557764 0.0123883  0.01417939\n",
      "  0.00217759 0.01133451 0.         0.0033998  0.00658824 0.01647103\n",
      "  0.00338782 0.00648452 0.02116661 0.01827163 0.01781292 0.01538157\n",
      "  0.01337281 0.02237284 0.02038623 0.02282161 0.01889069 0.01251132\n",
      "  0.02141748]\n",
      " [0.00922441 0.00606499 0.01206964 0.00165144 0.00825826 0.00187613\n",
      "  0.00755729 0.00514846 0.         0.00156213 0.0290709  0.0670533\n",
      "  0.00245781 0.00568629 0.0203595  0.01088193 0.01289391 0.01215055\n",
      "  0.         0.03884238 0.0787639  0.0378352  0.06391313 0.08009947\n",
      "  0.06340428]]\n",
      "[6 3]\n",
      "[[1 0 0 0 0 0 0 0]\n",
      " [0 0 0 1 0 0 0 0]]\n",
      "ytestbin: [[0 0 0 0 0 0 1 0]\n",
      " [0 0 0 1 0 0 0 0]]\n"
     ]
    }
   ],
   "source": [
    "y_train_binarized = label_binarize(y_train, classes = [0,1,2,3,4,5,6,7])\n",
    "y_test_binarized = label_binarize(y_test, classes = [0,1,2,3,4,5,6,7])\n",
    "\n",
    "print(X_train[:2])\n",
    "print(y_train[:2])\n",
    "print(X_test[:2])\n",
    "print(y_test[:2])\n",
    "print(y_train_binarized[:2])\n",
    "print(\"ytestbin:\",y_test_binarized[:2])"
   ]
  },
  {
   "cell_type": "code",
   "execution_count": 6,
   "metadata": {},
   "outputs": [
    {
     "name": "stdout",
     "output_type": "stream",
     "text": [
      "Time: 11.086882829666138 seconds\n",
      "[6 0]\n"
     ]
    }
   ],
   "source": [
    "random_state = np.random.RandomState(0)\n",
    "import time\n",
    "start_time = time.time()\n",
    "#Create the classifier\n",
    "clf = OneVsRestClassifier(svm.SVC(kernel='linear', probability = True, random_state = random_state))\n",
    "\n",
    "y_score = clf.fit(X_train, y_train).decision_function(X_test)\n",
    "\n",
    "#Predict the test data\n",
    "y_pred = clf.predict(X_test)\n",
    "\n",
    "print(\"Time: %s seconds\" % (time.time()-start_time))\n",
    "print(y_pred[:2])"
   ]
  },
  {
   "cell_type": "code",
   "execution_count": 7,
   "metadata": {},
   "outputs": [],
   "source": [
    "#save model\n",
    "import pickle\n",
    "filename = 'Models/svm_model_distance_features.pkl'\n",
    "pickle.dump(clf, open(filename, 'wb'))"
   ]
  },
  {
   "cell_type": "code",
   "execution_count": 8,
   "metadata": {},
   "outputs": [
    {
     "name": "stdout",
     "output_type": "stream",
     "text": [
      "                 precision    recall  f1-score   support\n",
      "\n",
      "      Arabesque       0.59      0.92      0.72       190\n",
      "      Demi-Plie       0.67      0.10      0.17       184\n",
      "      Developpe       0.70      0.89      0.78       175\n",
      "         Penche       0.83      0.57      0.67       169\n",
      "         Retire       0.82      0.25      0.38       168\n",
      "Second-Position       0.30      0.45      0.36       155\n",
      "       Sus-sous       0.52      0.47      0.49       185\n",
      "          Tendu       0.56      0.96      0.71       166\n",
      "\n",
      "       accuracy                           0.58      1392\n",
      "      macro avg       0.62      0.58      0.54      1392\n",
      "   weighted avg       0.63      0.58      0.54      1392\n",
      "\n"
     ]
    }
   ],
   "source": [
    "#Metrics\n",
    "from sklearn import metrics\n",
    "from sklearn.metrics import confusion_matrix, classification_report\n",
    "\n",
    "print(classification_report(y_test,y_pred, target_names = ['Arabesque','Demi-Plie','Developpe','Penche','Retire','Second-Position','Sus-sous','Tendu']))"
   ]
  },
  {
   "cell_type": "code",
   "execution_count": 9,
   "metadata": {},
   "outputs": [
    {
     "name": "stdout",
     "output_type": "stream",
     "text": [
      "Accuracy: 0.5761494252873564\n"
     ]
    }
   ],
   "source": [
    "print(\"Accuracy:\", metrics.accuracy_score(y_test, y_pred))"
   ]
  },
  {
   "cell_type": "code",
   "execution_count": 10,
   "metadata": {},
   "outputs": [
    {
     "name": "stdout",
     "output_type": "stream",
     "text": [
      "Recall: 0.5752943550406429\n"
     ]
    }
   ],
   "source": [
    "print(\"Recall:\", metrics.recall_score(y_test, y_pred, average = 'macro'))"
   ]
  },
  {
   "cell_type": "code",
   "execution_count": 11,
   "metadata": {},
   "outputs": [
    {
     "name": "stdout",
     "output_type": "stream",
     "text": [
      "Precision: 0.6242925081865024\n"
     ]
    }
   ],
   "source": [
    "print(\"Precision:\", metrics.precision_score(y_test, y_pred, average = 'macro'))"
   ]
  },
  {
   "cell_type": "code",
   "execution_count": 12,
   "metadata": {},
   "outputs": [
    {
     "name": "stdout",
     "output_type": "stream",
     "text": [
      "F1 score: 0.5368847600386266\n"
     ]
    }
   ],
   "source": [
    "print(\"F1 score:\", metrics.f1_score(y_test,y_pred, average = 'macro'))"
   ]
  },
  {
   "cell_type": "code",
   "execution_count": 26,
   "metadata": {},
   "outputs": [
    {
     "name": "stdout",
     "output_type": "stream",
     "text": [
      "EER:0.16087744255996514\n",
      "Equal Error Rate: 0.1608774425599651392\n"
     ]
    },
    {
     "data": {
      "image/png": "[encoded data removed]",
      "text/plain": [
       "<Figure size 432x288 with 1 Axes>"
      ]
     },
     "metadata": {
      "needs_background": "light"
     },
     "output_type": "display_data"
    }
   ],
   "source": [
    "import matplotlib.pyplot as plt\n",
    "#ROC and AUC\n",
    "fpr = dict()\n",
    "tpr = dict()\n",
    "fnr = dict()\n",
    "eer = dict()\n",
    "totalEER = 0\n",
    "roc_auc = dict()\n",
    "n_classes = 8\n",
    "\n",
    "#print(y_test.shape)\n",
    "#print(y_score.shape)\n",
    "#print(y_test_binarized.shape)\n",
    "#Compute ROC curve for each class:\n",
    "for i in range(n_classes):\n",
    "    fpr[i], tpr[i], _ = roc_curve(y_test_binarized[:, i], y_score[:, i])\n",
    "    fnr[i] = 1 - tpr[i]\n",
    "    eer[i] = fpr[i][np.nanargmin(np.absolute((fnr[i]-fpr[i])))]\n",
    "    totalEER += eer[i]\n",
    "    roc_auc[i] = auc(fpr[i], tpr[i])\n",
    "    \n",
    "averageEER = totalEER/8\n",
    "print(\"EER:\" +averageEER.astype(str))\n",
    "print('Equal Error Rate: {0:0.19f}'''.format(averageEER))\n",
    "    \n",
    "#Compute micro-average ROC curve and ROC area\n",
    "# Compute micro-average ROC curve and ROC area\n",
    "fpr[\"micro\"], tpr[\"micro\"], _ = roc_curve(y_test_binarized.ravel(), y_score.ravel())\n",
    "roc_auc[\"micro\"] = auc(fpr[\"micro\"], tpr[\"micro\"])\n",
    "    \n",
    "#Plot ROC Curves:\n",
    "plt.figure()\n",
    "\n",
    "# plt.plot(fpr[\"micro\"], tpr[\"micro\"],\n",
    "#          label='micro-average ROC curve (area = {0:0.2f})'\n",
    "#                ''.format(roc_auc[\"micro\"]))\n",
    "\n",
    "arr_classes = ['Arabesque','Demi-Plie','Developpe','Penche','Retire','Second-Position','Sus-sous','Tendu']\n",
    "\n",
    "\n",
    "for i in range(n_classes):\n",
    "    plt.plot(fpr[i], tpr[i], label='ROC curve of class {0} (area = {1:0.4f})'\n",
    "                                   ''.format(arr_classes[i], roc_auc[i]))\n",
    "\n",
    "plt.plot([0, 1], [0, 1], 'k--')\n",
    "plt.xlim([0.0, 1.0])\n",
    "plt.ylim([0.0, 1.05])\n",
    "plt.xlabel('False Positive Rate')\n",
    "plt.ylabel('True Positive Rate')\n",
    "plt.title('ROC Curve for Distance Features Only + SVM')\n",
    "plt.legend(loc=\"lower right\")\n",
    "plt.show()"
   ]
  },
  {
   "cell_type": "code",
   "execution_count": 15,
   "metadata": {},
   "outputs": [
    {
     "name": "stdout",
     "output_type": "stream",
     "text": [
      "ROC AUC Score: 0.8895795196768536\n"
     ]
    }
   ],
   "source": [
    "from sklearn.metrics import roc_auc_score\n",
    "print(\"ROC AUC Score:\", roc_auc_score(y_test_binarized,y_score, average = 'macro'))"
   ]
  },
  {
   "cell_type": "code",
   "execution_count": 16,
   "metadata": {},
   "outputs": [
    {
     "name": "stdout",
     "output_type": "stream",
     "text": [
      "[[175   0   2  13   0   0   0   0]\n",
      " [ 22  18   7   0   5  67  40  25]\n",
      " [  7   0 155   0   0   0   0  13]\n",
      " [ 59   0   8  96   0   6   0   0]\n",
      " [ 11   0  29   1  42  47  13  25]\n",
      " [ 20   4   8   1   2  70  27  23]\n",
      " [  2   4  11   1   2  40  87  38]\n",
      " [  0   1   2   4   0   0   0 159]]\n"
     ]
    }
   ],
   "source": [
    "#confusion matrix\n",
    "print(confusion_matrix(y_test,y_pred))\n"
   ]
  },
  {
   "cell_type": "code",
   "execution_count": 25,
   "metadata": {},
   "outputs": [
    {
     "data": {
      "image/png": "[encoded data removed]",
      "text/plain": [
       "<Figure size 432x288 with 2 Axes>"
      ]
     },
     "metadata": {
      "needs_background": "light"
     },
     "output_type": "display_data"
    }
   ],
   "source": [
    "#Plot a confusion matrix\n",
    "from sklearn.utils.multiclass import unique_labels\n",
    "cm = confusion_matrix(y_test,y_pred)\n",
    "cmap = plt.cm.Blues\n",
    "classes = ['Arabesque','Demi-Plie','Developpe','Penche','Retire','Second-Position','Sus-sous','Tendu']\n",
    "\n",
    "fig, ax = plt.subplots()\n",
    "im = ax.imshow(cm, interpolation='nearest', cmap=cmap)\n",
    "ax.figure.colorbar(im, ax=ax)\n",
    "# We want to show all ticks...\n",
    "ax.set(xticks=np.arange(cm.shape[1]), yticks=np.arange(cm.shape[0]),\n",
    "           # ... and label them with the respective list entries\n",
    "           xticklabels=classes, yticklabels=classes,\n",
    "           title='Only Distance Features + SVM',\n",
    "           ylabel='True label',\n",
    "           xlabel='Predicted label')\n",
    "\n",
    "# Rotate the tick labels and set their alignment.\n",
    "plt.setp(ax.get_xticklabels(), rotation=45, ha=\"right\", rotation_mode=\"anchor\")\n",
    "# Loop over data dimensions and create text annotations.\n",
    "fmt = 'd'\n",
    "thresh = cm.max() / 2.\n",
    "for i in range(cm.shape[0]):\n",
    "    for j in range(cm.shape[1]):\n",
    "        ax.text(j, i, format(cm[i, j], fmt),\n",
    "                ha=\"center\", va=\"center\",\n",
    "                color=\"white\" if cm[i, j] > thresh else \"black\")\n",
    "fig.tight_layout()\n",
    "plt.show()\n"
   ]
  },
  {
   "cell_type": "code",
   "execution_count": 18,
   "metadata": {},
   "outputs": [
    {
     "name": "stdout",
     "output_type": "stream",
     "text": [
      "[[175   0   2  13   0   0   0   0]\n",
      " [ 22  18   7   0   5  67  40  25]\n",
      " [  7   0 155   0   0   0   0  13]\n",
      " [ 59   0   8  96   0   6   0   0]\n",
      " [ 11   0  29   1  42  47  13  25]\n",
      " [ 20   4   8   1   2  70  27  23]\n",
      " [  2   4  11   1   2  40  87  38]\n",
      " [  0   1   2   4   0   0   0 159]]\n",
      "FP: [121   9  67  20   9 160  80 124]\n",
      "FN: [ 15 166  20  73 126  85  98   7]\n",
      "TP: [175  18 155  96  42  70  87 159]\n",
      "TN: [121   9  67  20   9 160  80 124]\n"
     ]
    }
   ],
   "source": [
    "# get the FP, FN, TP, TN values\n",
    "conf_matrix = confusion_matrix(y_test,y_pred)\n",
    "print(conf_matrix)\n",
    "FP = conf_matrix.sum(axis=0) - np.diag(conf_matrix)\n",
    "print(\"FP:\", FP)\n",
    "FN = conf_matrix.sum(axis=1) - np.diag(conf_matrix)\n",
    "print(\"FN:\", FN)\n",
    "TP = np.diag(conf_matrix)\n",
    "print(\"TP:\", TP)\n",
    "TN = conf_matrix.sum() - (FP + FN + TP)\n",
    "print(\"TN:\", FP)"
   ]
  },
  {
   "cell_type": "code",
   "execution_count": 19,
   "metadata": {},
   "outputs": [
    {
     "name": "stdout",
     "output_type": "stream",
     "text": [
      "My FAR: 0.06055008210180624\n"
     ]
    }
   ],
   "source": [
    "FAR = (sum(FP))/(sum(FP)+sum(TN))\n",
    "print(\"My FAR:\", FAR)"
   ]
  },
  {
   "cell_type": "code",
   "execution_count": 20,
   "metadata": {},
   "outputs": [
    {
     "name": "stdout",
     "output_type": "stream",
     "text": [
      "TotalFAR: 0.48364261756913485\n",
      "Computed Average FAR: 0.060455327196141856\n"
     ]
    }
   ],
   "source": [
    "totalFAR = 0\n",
    "for x in range(8):\n",
    "    totalFAR += (FP[x])/(FP[x]+TN[x])\n",
    "print(\"TotalFAR:\", totalFAR)\n",
    "avg = totalFAR/8\n",
    "print(\"Computed Average FAR:\", avg)"
   ]
  },
  {
   "cell_type": "code",
   "execution_count": 21,
   "metadata": {},
   "outputs": [
    {
     "name": "stdout",
     "output_type": "stream",
     "text": [
      "My FRR: 0.4238505747126437\n"
     ]
    }
   ],
   "source": [
    "FRR = (sum(FN))/(sum(FN)+sum(TP))\n",
    "print(\"My FRR:\", FRR)"
   ]
  },
  {
   "cell_type": "code",
   "execution_count": 22,
   "metadata": {},
   "outputs": [
    {
     "name": "stdout",
     "output_type": "stream",
     "text": [
      "TotalFRR: 3.397645159674857\n",
      "Computed Average FRR: 0.42470564495935714\n"
     ]
    }
   ],
   "source": [
    "totalFRR = 0\n",
    "for x in range(8):\n",
    "    totalFRR += (FN[x])/(FN[x]+TP[x])\n",
    "print(\"TotalFRR:\", totalFRR)\n",
    "avg = totalFRR/8\n",
    "print(\"Computed Average FRR:\", avg)"
   ]
  },
  {
   "cell_type": "code",
   "execution_count": 23,
   "metadata": {},
   "outputs": [
    {
     "name": "stdout",
     "output_type": "stream",
     "text": [
      "TotalSpecificity: 7.516357382430865\n",
      "Computed Average Specificity: 0.9395446728038581\n"
     ]
    }
   ],
   "source": [
    "#Specificity: TN/(TN+FP)\n",
    "totalSpecificity = 0\n",
    "for x in range(8):\n",
    "    totalSpecificity += (TN[x])/(TN[x]+FP[x])\n",
    "print(\"TotalSpecificity:\", totalSpecificity)\n",
    "avg = totalSpecificity/8\n",
    "print(\"Computed Average Specificity:\", avg)"
   ]
  },
  {
   "cell_type": "code",
   "execution_count": 24,
   "metadata": {},
   "outputs": [
    {
     "name": "stdout",
     "output_type": "stream",
     "text": [
      "[[-1.11811448 -0.99993889 -1.07618061 -1.20153609 -1.00004056 -0.99991837\n",
      "  -0.9998446  -1.03241127]]\n"
     ]
    }
   ],
   "source": [
    "#y_score = clf.predict_proba(X_test)\n",
    "print(y_score[:1])"
   ]
  },
  {
   "cell_type": "code",
   "execution_count": null,
   "metadata": {},
   "outputs": [],
   "source": []
  }
 ],
 "metadata": {
  "kernelspec": {
   "display_name": "python-gpu-env",
   "language": "python",
   "name": "python-gpu-env"
  },
  "language_info": {
   "codemirror_mode": {
    "name": "ipython",
    "version": 3
   },
   "file_extension": ".py",
   "mimetype": "text/x-python",
   "name": "python",
   "nbconvert_exporter": "python",
   "pygments_lexer": "ipython3",
   "version": "3.6.8"
  }
 },
 "nbformat": 4,
 "nbformat_minor": 2
}
